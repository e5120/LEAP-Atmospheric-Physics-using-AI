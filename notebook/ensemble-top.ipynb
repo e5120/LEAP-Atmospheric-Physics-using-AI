{
 "cells": [
  {
   "cell_type": "code",
   "execution_count": 1,
   "id": "8fd61db8-a7db-4700-bfe4-803f7a069b1b",
   "metadata": {},
   "outputs": [
    {
     "name": "stderr",
     "output_type": "stream",
     "text": [
      "/opt/mamba/lib/python3.10/site-packages/tqdm/auto.py:21: TqdmWarning: IProgress not found. Please update jupyter and ipywidgets. See https://ipywidgets.readthedocs.io/en/stable/user_install.html\n",
      "  from .autonotebook import tqdm as notebook_tqdm\n"
     ]
    }
   ],
   "source": [
    "import re\n",
    "import yaml\n",
    "from pathlib import Path\n",
    "\n",
    "import polars as pl\n",
    "from tqdm.auto import tqdm"
   ]
  },
  {
   "cell_type": "code",
   "execution_count": 2,
   "id": "765cb38d-9574-47ea-9652-dcb01485013b",
   "metadata": {},
   "outputs": [
    {
     "data": {
      "text/plain": [
       "['exp044a',\n",
       " 'exp046a',\n",
       " 'exp049a',\n",
       " 'exp059a',\n",
       " 'exp067a',\n",
       " 'exp068a',\n",
       " 'exp068a',\n",
       " 'exp076a',\n",
       " 'exp092a',\n",
       " 'exp092a',\n",
       " 'exp095a',\n",
       " 'exp097a',\n",
       " 'exp103a',\n",
       " 'exp110a',\n",
       " 'exp121a',\n",
       " 'exp135a',\n",
       " 'exp135a']"
      ]
     },
     "execution_count": 2,
     "metadata": {},
     "output_type": "execute_result"
    }
   ],
   "source": [
    "dirs = [\n",
    "    \"../output/exp044a/run3/\",  # light_cnn_v2\n",
    "    \"../output/exp046a/single/\",  # light_cnn_v2\n",
    "    # \"../output/exp047a/run1/\",  # transformer\n",
    "    \"../output/exp049a/run0/\",  # light_cnn_v2\n",
    "    # \"../output/exp052a/run0/\",  # light_cnn_v2\n",
    "    # \"../output/exp058a/run0/\",\n",
    "    \"../output/exp059a/run3/\",  # light_cnn_v2 with se_block\n",
    "    \"../output/exp067a/run0/\",  # light_cnn_v2 with se_block\n",
    "    \"../output/exp068a/run0/\",  # light_cnn_v2 with se_block\n",
    "    \"../output/exp068a/run1/\",  # light_cnn_v2 with se_block\n",
    "    \"../output/exp076a/run0/\",  # light_cnn_v2 with se_block\n",
    "    \"../output/exp092a/run0/\", \n",
    "    \"../output/exp092a/run1/\", \n",
    "    \"../output/exp095a/run0/\", \n",
    "    \"../output/exp097a/run0/\", \n",
    "    \"../output/exp103a/run0/\", \n",
    "    \"../output/exp110a/run0/\", \n",
    "    \"../output/exp121a/run0/\",\n",
    "    \"../output/exp135a/run0/\",\n",
    "    \"../output/exp135a/run1/\",\n",
    "]\n",
    "tags = [\n",
    "    re.findall(r\"exp[\\d]{3}[abc]\", dirname)[0]\n",
    "    for dirname in dirs\n",
    "]\n",
    "tags"
   ]
  },
  {
   "cell_type": "code",
   "execution_count": 3,
   "id": "b56725cf-3a16-4f65-8ae4-cc3f34f7a3f1",
   "metadata": {},
   "outputs": [],
   "source": [
    "each_scores = []\n",
    "for dirname, tag in zip(dirs, tags):\n",
    "    each_score = yaml.safe_load(open(Path(dirname, \"each_r2_score.yaml\")))\n",
    "    each_score[\"tag\"] = tag\n",
    "    each_scores.append(each_score)\n",
    "each_scores_df = pl.from_dicts(each_scores)"
   ]
  },
  {
   "cell_type": "code",
   "execution_count": null,
   "id": "4f67ef41-54a4-4424-a1b5-d86600373e1d",
   "metadata": {},
   "outputs": [],
   "source": [
    "topk = 7\n",
    "pred_dfs = []\n",
    "for col in tqdm(each_scores_df.columns[:-1]):\n",
    "    topk_df = each_scores_df.filter(pl.col(col) > 0).sort(col, descending=True).head(3).select([\"tag\", col])\n",
    "    if len(topk_df):\n",
    "        topk_tags = topk_df[\"tag\"].to_list()\n",
    "    else:\n",
    "        topk_tags = [tags[-1]]\n",
    "    dfs = []\n",
    "    for tag in topk_tags:\n",
    "        tag_index = tags.index(tag)\n",
    "        filename = list(Path(dirs[tag_index]).glob(\"submission*.csv\"))\n",
    "        assert len(filename) == 1, tags[tag_index]\n",
    "        df = pl.read_csv(filename[0], columns=[\"sample_id\", col])\n",
    "        dfs.append(df)\n",
    "    df = (\n",
    "        pl.concat(dfs)\n",
    "        .group_by(\"sample_id\")\n",
    "        .agg(pl.col(col).drop_nulls().mean())\n",
    "    )\n",
    "    pred_dfs.append(df.sort(\"sample_id\").drop(\"sample_id\"))\n",
    "pred_df = pl.concat(pred_dfs, how=\"horizontal\")"
   ]
  },
  {
   "cell_type": "code",
   "execution_count": null,
   "id": "0c6a9471-77c7-416c-9118-abb918fff1e3",
   "metadata": {},
   "outputs": [],
   "source": [
    "col_order = pl.read_csv(\"../data/sample_submission.csv\", n_rows=1).columns\n",
    "sub_df = pl.read_csv(\"../data/sample_submission.csv\", columns=[\"sample_id\"])\n",
    "sub_df = pl.concat([sub_df, pred_df], how=\"horizontal\")\n",
    "sub_df = sub_df.select(col_order)"
   ]
  },
  {
   "cell_type": "code",
   "execution_count": null,
   "id": "06eb7ffb-8dc7-4fed-ad97-8d730f5324d5",
   "metadata": {},
   "outputs": [],
   "source": [
    "input_df = pl.read_csv(\"../data/test.csv\", columns=[\"state_q0002_27\"])\n",
    "sub_df = sub_df.with_columns(\n",
    "    (-input_df[\"state_q0002_27\"] / 1200).alias(\"ptend_q0002_27\")\n",
    ")"
   ]
  },
  {
   "cell_type": "code",
   "execution_count": null,
   "id": "d4fccd53-0ba3-45be-b257-be04b4d5ceb0",
   "metadata": {},
   "outputs": [],
   "source": [
    "filename = f\"top{topk}_\" + \"_\".join(tags) + \".csv\"\n",
    "sub_df.write_csv(f\"../output/ensemble/{filename}\")"
   ]
  },
  {
   "cell_type": "code",
   "execution_count": null,
   "id": "484e3e79-79ec-486c-a287-e73906f7997e",
   "metadata": {},
   "outputs": [],
   "source": [
    "filename"
   ]
  },
  {
   "cell_type": "code",
   "execution_count": null,
   "id": "1e37cc71-210a-4e54-ba59-2a0c7b9480ff",
   "metadata": {},
   "outputs": [],
   "source": []
  }
 ],
 "metadata": {
  "kernelspec": {
   "display_name": "Python 3 (ipykernel)",
   "language": "python",
   "name": "python3"
  },
  "language_info": {
   "codemirror_mode": {
    "name": "ipython",
    "version": 3
   },
   "file_extension": ".py",
   "mimetype": "text/x-python",
   "name": "python",
   "nbconvert_exporter": "python",
   "pygments_lexer": "ipython3",
   "version": "3.10.14"
  }
 },
 "nbformat": 4,
 "nbformat_minor": 5
}
