{
 "cells": [
  {
   "cell_type": "code",
   "execution_count": 1,
   "id": "9117caaf-22e8-4c3d-afa7-9f31552999db",
   "metadata": {},
   "outputs": [],
   "source": [
    "from pathlib import Path\n",
    "\n",
    "import numpy as np\n",
    "import polars as pl\n",
    "from tqdm.auto import tqdm"
   ]
  },
  {
   "cell_type": "code",
   "execution_count": 2,
   "id": "5a56703e-9996-4725-b0bf-b6a4c5a5dbbf",
   "metadata": {},
   "outputs": [
    {
     "name": "stdout",
     "output_type": "stream",
     "text": [
      "# of train files: 100\n"
     ]
    }
   ],
   "source": [
    "data_dir = \"../../data/leap\"\n",
    "N_ROWS = 500000000\n",
    "files = list(Path(data_dir).glob(\"raw_train*\"))\n",
    "print(f\"# of train files: {len(files)}\")"
   ]
  },
  {
   "cell_type": "code",
   "execution_count": 3,
   "id": "6aaa8637-3de9-4eb0-b9b8-f152fbf7c224",
   "metadata": {},
   "outputs": [
    {
     "data": {
      "text/plain": [
       "(556, 368)"
      ]
     },
     "execution_count": 3,
     "metadata": {},
     "output_type": "execute_result"
    }
   ],
   "source": [
    "weight_df = pl.read_csv(Path(data_dir, \"sample_submission.csv\"), n_rows=1)\n",
    "label_cols = weight_df.columns[1:]\n",
    "tmp_df = pl.read_csv(Path(data_dir, \"train.csv\"), n_rows=1)\n",
    "feat_cols = tmp_df.select(pl.exclude(label_cols)).columns[1:]\n",
    "len(feat_cols), len(label_cols)"
   ]
  },
  {
   "cell_type": "code",
   "execution_count": 4,
   "id": "922482e9-3a7c-4a2a-8d56-8145786a66f8",
   "metadata": {},
   "outputs": [
    {
     "data": {
      "application/vnd.jupyter.widget-view+json": {
       "model_id": "b80dcb2a0fbd46bfaf0d254a765892a4",
       "version_major": 2,
       "version_minor": 0
      },
      "text/plain": [
       "  0%|          | 0/12 [00:00<?, ?it/s]"
      ]
     },
     "metadata": {},
     "output_type": "display_data"
    },
    {
     "data": {
      "application/vnd.jupyter.widget-view+json": {
       "model_id": "b442dfcae0bf4cb8ab3c9ba63d52ef76",
       "version_major": 2,
       "version_minor": 0
      },
      "text/plain": [
       "  0%|          | 0/8 [00:00<?, ?it/s]"
      ]
     },
     "metadata": {},
     "output_type": "display_data"
    }
   ],
   "source": [
    "def calculate_statistics(cols, files, chunk_size=50):\n",
    "    stats = []\n",
    "    gs = (len(cols) - 1) // chunk_size + 1\n",
    "    for i in tqdm(range(gs)):\n",
    "        start = i * chunk_size\n",
    "        end = (i + 1) * chunk_size\n",
    "        sub_cols = cols[start: end]\n",
    "        dfs = []\n",
    "        num_data = 0\n",
    "        for filename in files:\n",
    "            dfs.append(pl.read_parquet(filename, columns=sub_cols))\n",
    "            num_data += len(dfs[-1])\n",
    "            if num_data > N_ROWS:\n",
    "                break\n",
    "        df = pl.concat(dfs)\n",
    "        for col in sub_cols:\n",
    "            stats.append({\n",
    "                \"mean\": df[col].mean(),\n",
    "                \"std\": df[col].std(),\n",
    "                \"q1_4\": df[col].quantile(0.25),\n",
    "                \"q2_4\": df[col].quantile(0.5),\n",
    "                \"q3_4\": df[col].quantile(0.75),\n",
    "            })\n",
    "    stats_df = (\n",
    "        pl.from_dicts(stats)\n",
    "        .transpose(include_header=True, header_name=\"stats\", column_names=cols)\n",
    "    )\n",
    "    return stats_df\n",
    "\n",
    "\n",
    "feat_stats_df = calculate_statistics(feat_cols, files)\n",
    "label_stats_df = calculate_statistics(label_cols, files)"
   ]
  },
  {
   "cell_type": "code",
   "execution_count": 5,
   "id": "6fefeff2-07ca-465f-90a5-28470ff37421",
   "metadata": {},
   "outputs": [
    {
     "data": {
      "text/plain": [
       "((5, 557), (5, 369))"
      ]
     },
     "execution_count": 5,
     "metadata": {},
     "output_type": "execute_result"
    }
   ],
   "source": [
    "feat_stats_df.shape, label_stats_df.shape"
   ]
  },
  {
   "cell_type": "code",
   "execution_count": 6,
   "id": "da0de08e-0895-4ee9-91f2-c4f1f395e93b",
   "metadata": {},
   "outputs": [
    {
     "data": {
      "text/html": [
       "<div><style>\n",
       ".dataframe > thead > tr,\n",
       ".dataframe > tbody > tr {\n",
       "  text-align: right;\n",
       "  white-space: pre-wrap;\n",
       "}\n",
       "</style>\n",
       "<small>shape: (5, 557)</small><table border=\"1\" class=\"dataframe\"><thead><tr><th>stats</th><th>state_t_0</th><th>state_t_1</th><th>state_t_2</th><th>state_t_3</th><th>state_t_4</th><th>state_t_5</th><th>state_t_6</th><th>state_t_7</th><th>state_t_8</th><th>state_t_9</th><th>state_t_10</th><th>state_t_11</th><th>state_t_12</th><th>state_t_13</th><th>state_t_14</th><th>state_t_15</th><th>state_t_16</th><th>state_t_17</th><th>state_t_18</th><th>state_t_19</th><th>state_t_20</th><th>state_t_21</th><th>state_t_22</th><th>state_t_23</th><th>state_t_24</th><th>state_t_25</th><th>state_t_26</th><th>state_t_27</th><th>state_t_28</th><th>state_t_29</th><th>state_t_30</th><th>state_t_31</th><th>state_t_32</th><th>state_t_33</th><th>state_t_34</th><th>state_t_35</th><th>&hellip;</th><th>pbuf_N2O_23</th><th>pbuf_N2O_24</th><th>pbuf_N2O_25</th><th>pbuf_N2O_26</th><th>pbuf_N2O_27</th><th>pbuf_N2O_28</th><th>pbuf_N2O_29</th><th>pbuf_N2O_30</th><th>pbuf_N2O_31</th><th>pbuf_N2O_32</th><th>pbuf_N2O_33</th><th>pbuf_N2O_34</th><th>pbuf_N2O_35</th><th>pbuf_N2O_36</th><th>pbuf_N2O_37</th><th>pbuf_N2O_38</th><th>pbuf_N2O_39</th><th>pbuf_N2O_40</th><th>pbuf_N2O_41</th><th>pbuf_N2O_42</th><th>pbuf_N2O_43</th><th>pbuf_N2O_44</th><th>pbuf_N2O_45</th><th>pbuf_N2O_46</th><th>pbuf_N2O_47</th><th>pbuf_N2O_48</th><th>pbuf_N2O_49</th><th>pbuf_N2O_50</th><th>pbuf_N2O_51</th><th>pbuf_N2O_52</th><th>pbuf_N2O_53</th><th>pbuf_N2O_54</th><th>pbuf_N2O_55</th><th>pbuf_N2O_56</th><th>pbuf_N2O_57</th><th>pbuf_N2O_58</th><th>pbuf_N2O_59</th></tr><tr><td>str</td><td>f64</td><td>f64</td><td>f64</td><td>f64</td><td>f64</td><td>f64</td><td>f64</td><td>f64</td><td>f64</td><td>f64</td><td>f64</td><td>f64</td><td>f64</td><td>f64</td><td>f64</td><td>f64</td><td>f64</td><td>f64</td><td>f64</td><td>f64</td><td>f64</td><td>f64</td><td>f64</td><td>f64</td><td>f64</td><td>f64</td><td>f64</td><td>f64</td><td>f64</td><td>f64</td><td>f64</td><td>f64</td><td>f64</td><td>f64</td><td>f64</td><td>f64</td><td>&hellip;</td><td>f64</td><td>f64</td><td>f64</td><td>f64</td><td>f64</td><td>f64</td><td>f64</td><td>f64</td><td>f64</td><td>f64</td><td>f64</td><td>f64</td><td>f64</td><td>f64</td><td>f64</td><td>f64</td><td>f64</td><td>f64</td><td>f64</td><td>f64</td><td>f64</td><td>f64</td><td>f64</td><td>f64</td><td>f64</td><td>f64</td><td>f64</td><td>f64</td><td>f64</td><td>f64</td><td>f64</td><td>f64</td><td>f64</td><td>f64</td><td>f64</td><td>f64</td><td>f64</td></tr></thead><tbody><tr><td>&quot;mean&quot;</td><td>215.612015</td><td>227.878262</td><td>237.309279</td><td>247.912285</td><td>256.227916</td><td>259.451296</td><td>255.271369</td><td>246.698109</td><td>236.980836</td><td>230.274286</td><td>225.054863</td><td>220.928353</td><td>217.108561</td><td>213.894105</td><td>210.537094</td><td>207.052169</td><td>202.847109</td><td>200.041338</td><td>199.271441</td><td>201.226921</td><td>203.712135</td><td>206.900332</td><td>210.434994</td><td>214.236472</td><td>218.053071</td><td>221.900889</td><td>225.667783</td><td>229.347179</td><td>232.912757</td><td>236.379712</td><td>239.742185</td><td>243.019442</td><td>246.204743</td><td>249.292946</td><td>252.269269</td><td>255.123318</td><td>&hellip;</td><td>4.8292e-7</td><td>4.8788e-7</td><td>4.9026e-7</td><td>4.9079e-7</td><td>4.9086e-7</td><td>4.9086e-7</td><td>4.9086e-7</td><td>4.9086e-7</td><td>4.9086e-7</td><td>4.9086e-7</td><td>4.9086e-7</td><td>4.9086e-7</td><td>4.9086e-7</td><td>4.9086e-7</td><td>4.9086e-7</td><td>4.9086e-7</td><td>4.9086e-7</td><td>4.9086e-7</td><td>4.9086e-7</td><td>4.9086e-7</td><td>4.9086e-7</td><td>4.9086e-7</td><td>4.9086e-7</td><td>4.9086e-7</td><td>4.9086e-7</td><td>4.9086e-7</td><td>4.9086e-7</td><td>4.9086e-7</td><td>4.9086e-7</td><td>4.9086e-7</td><td>4.9086e-7</td><td>4.9086e-7</td><td>4.9086e-7</td><td>4.9086e-7</td><td>4.9086e-7</td><td>4.9086e-7</td><td>4.9086e-7</td></tr><tr><td>&quot;std&quot;</td><td>6.654266</td><td>8.653689</td><td>8.248617</td><td>6.786184</td><td>6.242818</td><td>8.249606</td><td>10.157319</td><td>10.112921</td><td>9.218096</td><td>8.81164</td><td>8.137254</td><td>7.43026</td><td>6.723265</td><td>6.321632</td><td>6.513009</td><td>7.6074</td><td>9.966565</td><td>11.792149</td><td>10.03546</td><td>8.244552</td><td>5.475349</td><td>4.073948</td><td>4.320332</td><td>5.478911</td><td>6.961327</td><td>8.309486</td><td>9.521203</td><td>10.517859</td><td>11.344936</td><td>12.00057</td><td>12.514359</td><td>12.893314</td><td>13.160995</td><td>13.32794</td><td>13.405421</td><td>13.407873</td><td>&hellip;</td><td>2.0731e-8</td><td>1.0981e-8</td><td>3.9816e-9</td><td>9.4472e-10</td><td>2.1176e-22</td><td>2.1176e-22</td><td>2.1176e-22</td><td>2.1176e-22</td><td>2.1176e-22</td><td>2.1176e-22</td><td>2.1176e-22</td><td>2.1176e-22</td><td>2.1176e-22</td><td>2.1176e-22</td><td>2.1176e-22</td><td>2.1176e-22</td><td>2.1176e-22</td><td>2.1176e-22</td><td>2.1176e-22</td><td>2.1176e-22</td><td>2.1176e-22</td><td>2.1176e-22</td><td>2.1176e-22</td><td>2.1176e-22</td><td>2.1176e-22</td><td>2.1176e-22</td><td>2.1176e-22</td><td>2.1176e-22</td><td>2.1176e-22</td><td>2.1176e-22</td><td>2.1176e-22</td><td>2.1176e-22</td><td>2.1176e-22</td><td>2.1176e-22</td><td>2.1176e-22</td><td>2.1176e-22</td><td>2.1176e-22</td></tr><tr><td>&quot;q1_4&quot;</td><td>211.795845</td><td>222.243162</td><td>231.759324</td><td>243.668977</td><td>252.799997</td><td>256.235228</td><td>251.635947</td><td>243.449935</td><td>234.437349</td><td>228.097416</td><td>223.197921</td><td>219.205218</td><td>215.187527</td><td>211.551624</td><td>207.162932</td><td>201.871982</td><td>194.857171</td><td>189.825833</td><td>190.678675</td><td>194.104774</td><td>199.497332</td><td>204.247093</td><td>208.499765</td><td>211.28707</td><td>213.509142</td><td>215.931538</td><td>218.53578</td><td>221.356252</td><td>224.305857</td><td>227.357786</td><td>230.46927</td><td>233.648802</td><td>236.847711</td><td>240.04982</td><td>243.221606</td><td>246.322576</td><td>&hellip;</td><td>4.9086e-7</td><td>4.9086e-7</td><td>4.9086e-7</td><td>4.9086e-7</td><td>4.9086e-7</td><td>4.9086e-7</td><td>4.9086e-7</td><td>4.9086e-7</td><td>4.9086e-7</td><td>4.9086e-7</td><td>4.9086e-7</td><td>4.9086e-7</td><td>4.9086e-7</td><td>4.9086e-7</td><td>4.9086e-7</td><td>4.9086e-7</td><td>4.9086e-7</td><td>4.9086e-7</td><td>4.9086e-7</td><td>4.9086e-7</td><td>4.9086e-7</td><td>4.9086e-7</td><td>4.9086e-7</td><td>4.9086e-7</td><td>4.9086e-7</td><td>4.9086e-7</td><td>4.9086e-7</td><td>4.9086e-7</td><td>4.9086e-7</td><td>4.9086e-7</td><td>4.9086e-7</td><td>4.9086e-7</td><td>4.9086e-7</td><td>4.9086e-7</td><td>4.9086e-7</td><td>4.9086e-7</td><td>4.9086e-7</td></tr><tr><td>&quot;q2_4&quot;</td><td>215.558519</td><td>228.043463</td><td>236.547149</td><td>247.060054</td><td>255.854526</td><td>260.29541</td><td>257.143055</td><td>248.743841</td><td>239.033878</td><td>232.473792</td><td>227.008668</td><td>222.471784</td><td>217.942912</td><td>213.953813</td><td>209.621341</td><td>205.616373</td><td>201.811222</td><td>199.379132</td><td>198.640697</td><td>200.417245</td><td>203.053164</td><td>206.646559</td><td>210.628659</td><td>215.049439</td><td>219.470938</td><td>223.699178</td><td>227.787865</td><td>231.76676</td><td>235.647794</td><td>239.425994</td><td>243.096914</td><td>246.65641</td><td>250.090561</td><td>253.374147</td><td>256.474984</td><td>259.427914</td><td>&hellip;</td><td>4.9086e-7</td><td>4.9086e-7</td><td>4.9086e-7</td><td>4.9086e-7</td><td>4.9086e-7</td><td>4.9086e-7</td><td>4.9086e-7</td><td>4.9086e-7</td><td>4.9086e-7</td><td>4.9086e-7</td><td>4.9086e-7</td><td>4.9086e-7</td><td>4.9086e-7</td><td>4.9086e-7</td><td>4.9086e-7</td><td>4.9086e-7</td><td>4.9086e-7</td><td>4.9086e-7</td><td>4.9086e-7</td><td>4.9086e-7</td><td>4.9086e-7</td><td>4.9086e-7</td><td>4.9086e-7</td><td>4.9086e-7</td><td>4.9086e-7</td><td>4.9086e-7</td><td>4.9086e-7</td><td>4.9086e-7</td><td>4.9086e-7</td><td>4.9086e-7</td><td>4.9086e-7</td><td>4.9086e-7</td><td>4.9086e-7</td><td>4.9086e-7</td><td>4.9086e-7</td><td>4.9086e-7</td><td>4.9086e-7</td></tr><tr><td>&quot;q3_4&quot;</td><td>219.287002</td><td>233.795692</td><td>242.07833</td><td>251.166304</td><td>259.263806</td><td>263.889139</td><td>261.154271</td><td>252.387389</td><td>242.001918</td><td>235.063319</td><td>229.312532</td><td>224.574035</td><td>220.025695</td><td>216.310257</td><td>213.453864</td><td>211.56516</td><td>210.132128</td><td>209.441833</td><td>206.956568</td><td>207.596944</td><td>207.551485</td><td>209.507191</td><td>212.932085</td><td>217.680374</td><td>222.951198</td><td>228.15249</td><td>233.138784</td><td>237.828987</td><td>242.221519</td><td>246.335236</td><td>250.199286</td><td>253.830744</td><td>257.231715</td><td>260.441533</td><td>263.444719</td><td>266.252868</td><td>&hellip;</td><td>4.9086e-7</td><td>4.9086e-7</td><td>4.9086e-7</td><td>4.9086e-7</td><td>4.9086e-7</td><td>4.9086e-7</td><td>4.9086e-7</td><td>4.9086e-7</td><td>4.9086e-7</td><td>4.9086e-7</td><td>4.9086e-7</td><td>4.9086e-7</td><td>4.9086e-7</td><td>4.9086e-7</td><td>4.9086e-7</td><td>4.9086e-7</td><td>4.9086e-7</td><td>4.9086e-7</td><td>4.9086e-7</td><td>4.9086e-7</td><td>4.9086e-7</td><td>4.9086e-7</td><td>4.9086e-7</td><td>4.9086e-7</td><td>4.9086e-7</td><td>4.9086e-7</td><td>4.9086e-7</td><td>4.9086e-7</td><td>4.9086e-7</td><td>4.9086e-7</td><td>4.9086e-7</td><td>4.9086e-7</td><td>4.9086e-7</td><td>4.9086e-7</td><td>4.9086e-7</td><td>4.9086e-7</td><td>4.9086e-7</td></tr></tbody></table></div>"
      ],
      "text/plain": [
       "shape: (5, 557)\n",
       "┌───────┬────────────┬────────────┬────────────┬───┬───────────┬───────────┬───────────┬───────────┐\n",
       "│ stats ┆ state_t_0  ┆ state_t_1  ┆ state_t_2  ┆ … ┆ pbuf_N2O_ ┆ pbuf_N2O_ ┆ pbuf_N2O_ ┆ pbuf_N2O_ │\n",
       "│ ---   ┆ ---        ┆ ---        ┆ ---        ┆   ┆ 56        ┆ 57        ┆ 58        ┆ 59        │\n",
       "│ str   ┆ f64        ┆ f64        ┆ f64        ┆   ┆ ---       ┆ ---       ┆ ---       ┆ ---       │\n",
       "│       ┆            ┆            ┆            ┆   ┆ f64       ┆ f64       ┆ f64       ┆ f64       │\n",
       "╞═══════╪════════════╪════════════╪════════════╪═══╪═══════════╪═══════════╪═══════════╪═══════════╡\n",
       "│ mean  ┆ 215.612015 ┆ 227.878262 ┆ 237.309279 ┆ … ┆ 4.9086e-7 ┆ 4.9086e-7 ┆ 4.9086e-7 ┆ 4.9086e-7 │\n",
       "│ std   ┆ 6.654266   ┆ 8.653689   ┆ 8.248617   ┆ … ┆ 2.1176e-2 ┆ 2.1176e-2 ┆ 2.1176e-2 ┆ 2.1176e-2 │\n",
       "│       ┆            ┆            ┆            ┆   ┆ 2         ┆ 2         ┆ 2         ┆ 2         │\n",
       "│ q1_4  ┆ 211.795845 ┆ 222.243162 ┆ 231.759324 ┆ … ┆ 4.9086e-7 ┆ 4.9086e-7 ┆ 4.9086e-7 ┆ 4.9086e-7 │\n",
       "│ q2_4  ┆ 215.558519 ┆ 228.043463 ┆ 236.547149 ┆ … ┆ 4.9086e-7 ┆ 4.9086e-7 ┆ 4.9086e-7 ┆ 4.9086e-7 │\n",
       "│ q3_4  ┆ 219.287002 ┆ 233.795692 ┆ 242.07833  ┆ … ┆ 4.9086e-7 ┆ 4.9086e-7 ┆ 4.9086e-7 ┆ 4.9086e-7 │\n",
       "└───────┴────────────┴────────────┴────────────┴───┴───────────┴───────────┴───────────┴───────────┘"
      ]
     },
     "execution_count": 6,
     "metadata": {},
     "output_type": "execute_result"
    }
   ],
   "source": [
    "feat_stats_df"
   ]
  },
  {
   "cell_type": "code",
   "execution_count": 7,
   "id": "69a86f35-a851-40bd-8d1a-f0a6b6928be6",
   "metadata": {},
   "outputs": [
    {
     "data": {
      "text/html": [
       "<div><style>\n",
       ".dataframe > thead > tr,\n",
       ".dataframe > tbody > tr {\n",
       "  text-align: right;\n",
       "  white-space: pre-wrap;\n",
       "}\n",
       "</style>\n",
       "<small>shape: (5, 557)</small><table border=\"1\" class=\"dataframe\"><thead><tr><th>stats</th><th>state_t_0</th><th>state_t_1</th><th>state_t_2</th><th>state_t_3</th><th>state_t_4</th><th>state_t_5</th><th>state_t_6</th><th>state_t_7</th><th>state_t_8</th><th>state_t_9</th><th>state_t_10</th><th>state_t_11</th><th>state_t_12</th><th>state_t_13</th><th>state_t_14</th><th>state_t_15</th><th>state_t_16</th><th>state_t_17</th><th>state_t_18</th><th>state_t_19</th><th>state_t_20</th><th>state_t_21</th><th>state_t_22</th><th>state_t_23</th><th>state_t_24</th><th>state_t_25</th><th>state_t_26</th><th>state_t_27</th><th>state_t_28</th><th>state_t_29</th><th>state_t_30</th><th>state_t_31</th><th>state_t_32</th><th>state_t_33</th><th>state_t_34</th><th>state_t_35</th><th>&hellip;</th><th>pbuf_N2O_23</th><th>pbuf_N2O_24</th><th>pbuf_N2O_25</th><th>pbuf_N2O_26</th><th>pbuf_N2O_27</th><th>pbuf_N2O_28</th><th>pbuf_N2O_29</th><th>pbuf_N2O_30</th><th>pbuf_N2O_31</th><th>pbuf_N2O_32</th><th>pbuf_N2O_33</th><th>pbuf_N2O_34</th><th>pbuf_N2O_35</th><th>pbuf_N2O_36</th><th>pbuf_N2O_37</th><th>pbuf_N2O_38</th><th>pbuf_N2O_39</th><th>pbuf_N2O_40</th><th>pbuf_N2O_41</th><th>pbuf_N2O_42</th><th>pbuf_N2O_43</th><th>pbuf_N2O_44</th><th>pbuf_N2O_45</th><th>pbuf_N2O_46</th><th>pbuf_N2O_47</th><th>pbuf_N2O_48</th><th>pbuf_N2O_49</th><th>pbuf_N2O_50</th><th>pbuf_N2O_51</th><th>pbuf_N2O_52</th><th>pbuf_N2O_53</th><th>pbuf_N2O_54</th><th>pbuf_N2O_55</th><th>pbuf_N2O_56</th><th>pbuf_N2O_57</th><th>pbuf_N2O_58</th><th>pbuf_N2O_59</th></tr><tr><td>str</td><td>f64</td><td>f64</td><td>f64</td><td>f64</td><td>f64</td><td>f64</td><td>f64</td><td>f64</td><td>f64</td><td>f64</td><td>f64</td><td>f64</td><td>f64</td><td>f64</td><td>f64</td><td>f64</td><td>f64</td><td>f64</td><td>f64</td><td>f64</td><td>f64</td><td>f64</td><td>f64</td><td>f64</td><td>f64</td><td>f64</td><td>f64</td><td>f64</td><td>f64</td><td>f64</td><td>f64</td><td>f64</td><td>f64</td><td>f64</td><td>f64</td><td>f64</td><td>&hellip;</td><td>f64</td><td>f64</td><td>f64</td><td>f64</td><td>f64</td><td>f64</td><td>f64</td><td>f64</td><td>f64</td><td>f64</td><td>f64</td><td>f64</td><td>f64</td><td>f64</td><td>f64</td><td>f64</td><td>f64</td><td>f64</td><td>f64</td><td>f64</td><td>f64</td><td>f64</td><td>f64</td><td>f64</td><td>f64</td><td>f64</td><td>f64</td><td>f64</td><td>f64</td><td>f64</td><td>f64</td><td>f64</td><td>f64</td><td>f64</td><td>f64</td><td>f64</td><td>f64</td></tr></thead><tbody><tr><td>&quot;mean&quot;</td><td>215.612015</td><td>227.878262</td><td>237.309279</td><td>247.912285</td><td>256.227916</td><td>259.451296</td><td>255.271369</td><td>246.698109</td><td>236.980836</td><td>230.274286</td><td>225.054863</td><td>220.928353</td><td>217.108561</td><td>213.894105</td><td>210.537094</td><td>207.052169</td><td>202.847109</td><td>200.041338</td><td>199.271441</td><td>201.226921</td><td>203.712135</td><td>206.900332</td><td>210.434994</td><td>214.236472</td><td>218.053071</td><td>221.900889</td><td>225.667783</td><td>229.347179</td><td>232.912757</td><td>236.379712</td><td>239.742185</td><td>243.019442</td><td>246.204743</td><td>249.292946</td><td>252.269269</td><td>255.123318</td><td>&hellip;</td><td>4.8292e-7</td><td>4.8788e-7</td><td>4.9026e-7</td><td>4.9079e-7</td><td>4.9086e-7</td><td>4.9086e-7</td><td>4.9086e-7</td><td>4.9086e-7</td><td>4.9086e-7</td><td>4.9086e-7</td><td>4.9086e-7</td><td>4.9086e-7</td><td>4.9086e-7</td><td>4.9086e-7</td><td>4.9086e-7</td><td>4.9086e-7</td><td>4.9086e-7</td><td>4.9086e-7</td><td>4.9086e-7</td><td>4.9086e-7</td><td>4.9086e-7</td><td>4.9086e-7</td><td>4.9086e-7</td><td>4.9086e-7</td><td>4.9086e-7</td><td>4.9086e-7</td><td>4.9086e-7</td><td>4.9086e-7</td><td>4.9086e-7</td><td>4.9086e-7</td><td>4.9086e-7</td><td>4.9086e-7</td><td>4.9086e-7</td><td>4.9086e-7</td><td>4.9086e-7</td><td>4.9086e-7</td><td>4.9086e-7</td></tr><tr><td>&quot;std&quot;</td><td>6.654266</td><td>8.653689</td><td>8.248617</td><td>6.786184</td><td>6.242818</td><td>8.249606</td><td>10.157319</td><td>10.112921</td><td>9.218096</td><td>8.81164</td><td>8.137254</td><td>7.43026</td><td>6.723265</td><td>6.321632</td><td>6.513009</td><td>7.6074</td><td>9.966565</td><td>11.792149</td><td>10.03546</td><td>8.244552</td><td>5.475349</td><td>4.073948</td><td>4.320332</td><td>5.478911</td><td>6.961327</td><td>8.309486</td><td>9.521203</td><td>10.517859</td><td>11.344936</td><td>12.00057</td><td>12.514359</td><td>12.893314</td><td>13.160995</td><td>13.32794</td><td>13.405421</td><td>13.407873</td><td>&hellip;</td><td>2.0731e-8</td><td>1.0981e-8</td><td>3.9816e-9</td><td>9.4472e-10</td><td>2.1176e-22</td><td>2.1176e-22</td><td>2.1176e-22</td><td>2.1176e-22</td><td>2.1176e-22</td><td>2.1176e-22</td><td>2.1176e-22</td><td>2.1176e-22</td><td>2.1176e-22</td><td>2.1176e-22</td><td>2.1176e-22</td><td>2.1176e-22</td><td>2.1176e-22</td><td>2.1176e-22</td><td>2.1176e-22</td><td>2.1176e-22</td><td>2.1176e-22</td><td>2.1176e-22</td><td>2.1176e-22</td><td>2.1176e-22</td><td>2.1176e-22</td><td>2.1176e-22</td><td>2.1176e-22</td><td>2.1176e-22</td><td>2.1176e-22</td><td>2.1176e-22</td><td>2.1176e-22</td><td>2.1176e-22</td><td>2.1176e-22</td><td>2.1176e-22</td><td>2.1176e-22</td><td>2.1176e-22</td><td>2.1176e-22</td></tr><tr><td>&quot;q1_4&quot;</td><td>211.795845</td><td>222.243162</td><td>231.759324</td><td>243.668977</td><td>252.799997</td><td>256.235228</td><td>251.635947</td><td>243.449935</td><td>234.437349</td><td>228.097416</td><td>223.197921</td><td>219.205218</td><td>215.187527</td><td>211.551624</td><td>207.162932</td><td>201.871982</td><td>194.857171</td><td>189.825833</td><td>190.678675</td><td>194.104774</td><td>199.497332</td><td>204.247093</td><td>208.499765</td><td>211.28707</td><td>213.509142</td><td>215.931538</td><td>218.53578</td><td>221.356252</td><td>224.305857</td><td>227.357786</td><td>230.46927</td><td>233.648802</td><td>236.847711</td><td>240.04982</td><td>243.221606</td><td>246.322576</td><td>&hellip;</td><td>4.9086e-7</td><td>4.9086e-7</td><td>4.9086e-7</td><td>4.9086e-7</td><td>4.9086e-7</td><td>4.9086e-7</td><td>4.9086e-7</td><td>4.9086e-7</td><td>4.9086e-7</td><td>4.9086e-7</td><td>4.9086e-7</td><td>4.9086e-7</td><td>4.9086e-7</td><td>4.9086e-7</td><td>4.9086e-7</td><td>4.9086e-7</td><td>4.9086e-7</td><td>4.9086e-7</td><td>4.9086e-7</td><td>4.9086e-7</td><td>4.9086e-7</td><td>4.9086e-7</td><td>4.9086e-7</td><td>4.9086e-7</td><td>4.9086e-7</td><td>4.9086e-7</td><td>4.9086e-7</td><td>4.9086e-7</td><td>4.9086e-7</td><td>4.9086e-7</td><td>4.9086e-7</td><td>4.9086e-7</td><td>4.9086e-7</td><td>4.9086e-7</td><td>4.9086e-7</td><td>4.9086e-7</td><td>4.9086e-7</td></tr><tr><td>&quot;q2_4&quot;</td><td>215.558519</td><td>228.043463</td><td>236.547149</td><td>247.060054</td><td>255.854526</td><td>260.29541</td><td>257.143055</td><td>248.743841</td><td>239.033878</td><td>232.473792</td><td>227.008668</td><td>222.471784</td><td>217.942912</td><td>213.953813</td><td>209.621341</td><td>205.616373</td><td>201.811222</td><td>199.379132</td><td>198.640697</td><td>200.417245</td><td>203.053164</td><td>206.646559</td><td>210.628659</td><td>215.049439</td><td>219.470938</td><td>223.699178</td><td>227.787865</td><td>231.76676</td><td>235.647794</td><td>239.425994</td><td>243.096914</td><td>246.65641</td><td>250.090561</td><td>253.374147</td><td>256.474984</td><td>259.427914</td><td>&hellip;</td><td>4.9086e-7</td><td>4.9086e-7</td><td>4.9086e-7</td><td>4.9086e-7</td><td>4.9086e-7</td><td>4.9086e-7</td><td>4.9086e-7</td><td>4.9086e-7</td><td>4.9086e-7</td><td>4.9086e-7</td><td>4.9086e-7</td><td>4.9086e-7</td><td>4.9086e-7</td><td>4.9086e-7</td><td>4.9086e-7</td><td>4.9086e-7</td><td>4.9086e-7</td><td>4.9086e-7</td><td>4.9086e-7</td><td>4.9086e-7</td><td>4.9086e-7</td><td>4.9086e-7</td><td>4.9086e-7</td><td>4.9086e-7</td><td>4.9086e-7</td><td>4.9086e-7</td><td>4.9086e-7</td><td>4.9086e-7</td><td>4.9086e-7</td><td>4.9086e-7</td><td>4.9086e-7</td><td>4.9086e-7</td><td>4.9086e-7</td><td>4.9086e-7</td><td>4.9086e-7</td><td>4.9086e-7</td><td>4.9086e-7</td></tr><tr><td>&quot;q3_4&quot;</td><td>219.287002</td><td>233.795692</td><td>242.07833</td><td>251.166304</td><td>259.263806</td><td>263.889139</td><td>261.154271</td><td>252.387389</td><td>242.001918</td><td>235.063319</td><td>229.312532</td><td>224.574035</td><td>220.025695</td><td>216.310257</td><td>213.453864</td><td>211.56516</td><td>210.132128</td><td>209.441833</td><td>206.956568</td><td>207.596944</td><td>207.551485</td><td>209.507191</td><td>212.932085</td><td>217.680374</td><td>222.951198</td><td>228.15249</td><td>233.138784</td><td>237.828987</td><td>242.221519</td><td>246.335236</td><td>250.199286</td><td>253.830744</td><td>257.231715</td><td>260.441533</td><td>263.444719</td><td>266.252868</td><td>&hellip;</td><td>4.9086e-7</td><td>4.9086e-7</td><td>4.9086e-7</td><td>4.9086e-7</td><td>4.9086e-7</td><td>4.9086e-7</td><td>4.9086e-7</td><td>4.9086e-7</td><td>4.9086e-7</td><td>4.9086e-7</td><td>4.9086e-7</td><td>4.9086e-7</td><td>4.9086e-7</td><td>4.9086e-7</td><td>4.9086e-7</td><td>4.9086e-7</td><td>4.9086e-7</td><td>4.9086e-7</td><td>4.9086e-7</td><td>4.9086e-7</td><td>4.9086e-7</td><td>4.9086e-7</td><td>4.9086e-7</td><td>4.9086e-7</td><td>4.9086e-7</td><td>4.9086e-7</td><td>4.9086e-7</td><td>4.9086e-7</td><td>4.9086e-7</td><td>4.9086e-7</td><td>4.9086e-7</td><td>4.9086e-7</td><td>4.9086e-7</td><td>4.9086e-7</td><td>4.9086e-7</td><td>4.9086e-7</td><td>4.9086e-7</td></tr></tbody></table></div>"
      ],
      "text/plain": [
       "shape: (5, 557)\n",
       "┌───────┬────────────┬────────────┬────────────┬───┬───────────┬───────────┬───────────┬───────────┐\n",
       "│ stats ┆ state_t_0  ┆ state_t_1  ┆ state_t_2  ┆ … ┆ pbuf_N2O_ ┆ pbuf_N2O_ ┆ pbuf_N2O_ ┆ pbuf_N2O_ │\n",
       "│ ---   ┆ ---        ┆ ---        ┆ ---        ┆   ┆ 56        ┆ 57        ┆ 58        ┆ 59        │\n",
       "│ str   ┆ f64        ┆ f64        ┆ f64        ┆   ┆ ---       ┆ ---       ┆ ---       ┆ ---       │\n",
       "│       ┆            ┆            ┆            ┆   ┆ f64       ┆ f64       ┆ f64       ┆ f64       │\n",
       "╞═══════╪════════════╪════════════╪════════════╪═══╪═══════════╪═══════════╪═══════════╪═══════════╡\n",
       "│ mean  ┆ 215.612015 ┆ 227.878262 ┆ 237.309279 ┆ … ┆ 4.9086e-7 ┆ 4.9086e-7 ┆ 4.9086e-7 ┆ 4.9086e-7 │\n",
       "│ std   ┆ 6.654266   ┆ 8.653689   ┆ 8.248617   ┆ … ┆ 2.1176e-2 ┆ 2.1176e-2 ┆ 2.1176e-2 ┆ 2.1176e-2 │\n",
       "│       ┆            ┆            ┆            ┆   ┆ 2         ┆ 2         ┆ 2         ┆ 2         │\n",
       "│ q1_4  ┆ 211.795845 ┆ 222.243162 ┆ 231.759324 ┆ … ┆ 4.9086e-7 ┆ 4.9086e-7 ┆ 4.9086e-7 ┆ 4.9086e-7 │\n",
       "│ q2_4  ┆ 215.558519 ┆ 228.043463 ┆ 236.547149 ┆ … ┆ 4.9086e-7 ┆ 4.9086e-7 ┆ 4.9086e-7 ┆ 4.9086e-7 │\n",
       "│ q3_4  ┆ 219.287002 ┆ 233.795692 ┆ 242.07833  ┆ … ┆ 4.9086e-7 ┆ 4.9086e-7 ┆ 4.9086e-7 ┆ 4.9086e-7 │\n",
       "└───────┴────────────┴────────────┴────────────┴───┴───────────┴───────────┴───────────┴───────────┘"
      ]
     },
     "execution_count": 7,
     "metadata": {},
     "output_type": "execute_result"
    }
   ],
   "source": [
    "feat_stats_df.head()"
   ]
  },
  {
   "cell_type": "code",
   "execution_count": 8,
   "id": "09894f55-f5e2-4fd7-bb27-010a4a9b6fc3",
   "metadata": {},
   "outputs": [
    {
     "data": {
      "text/html": [
       "<div><style>\n",
       ".dataframe > thead > tr,\n",
       ".dataframe > tbody > tr {\n",
       "  text-align: right;\n",
       "  white-space: pre-wrap;\n",
       "}\n",
       "</style>\n",
       "<small>shape: (5, 369)</small><table border=\"1\" class=\"dataframe\"><thead><tr><th>stats</th><th>ptend_t_0</th><th>ptend_t_1</th><th>ptend_t_2</th><th>ptend_t_3</th><th>ptend_t_4</th><th>ptend_t_5</th><th>ptend_t_6</th><th>ptend_t_7</th><th>ptend_t_8</th><th>ptend_t_9</th><th>ptend_t_10</th><th>ptend_t_11</th><th>ptend_t_12</th><th>ptend_t_13</th><th>ptend_t_14</th><th>ptend_t_15</th><th>ptend_t_16</th><th>ptend_t_17</th><th>ptend_t_18</th><th>ptend_t_19</th><th>ptend_t_20</th><th>ptend_t_21</th><th>ptend_t_22</th><th>ptend_t_23</th><th>ptend_t_24</th><th>ptend_t_25</th><th>ptend_t_26</th><th>ptend_t_27</th><th>ptend_t_28</th><th>ptend_t_29</th><th>ptend_t_30</th><th>ptend_t_31</th><th>ptend_t_32</th><th>ptend_t_33</th><th>ptend_t_34</th><th>ptend_t_35</th><th>&hellip;</th><th>ptend_v_31</th><th>ptend_v_32</th><th>ptend_v_33</th><th>ptend_v_34</th><th>ptend_v_35</th><th>ptend_v_36</th><th>ptend_v_37</th><th>ptend_v_38</th><th>ptend_v_39</th><th>ptend_v_40</th><th>ptend_v_41</th><th>ptend_v_42</th><th>ptend_v_43</th><th>ptend_v_44</th><th>ptend_v_45</th><th>ptend_v_46</th><th>ptend_v_47</th><th>ptend_v_48</th><th>ptend_v_49</th><th>ptend_v_50</th><th>ptend_v_51</th><th>ptend_v_52</th><th>ptend_v_53</th><th>ptend_v_54</th><th>ptend_v_55</th><th>ptend_v_56</th><th>ptend_v_57</th><th>ptend_v_58</th><th>ptend_v_59</th><th>cam_out_NETSW</th><th>cam_out_FLWDS</th><th>cam_out_PRECSC</th><th>cam_out_PRECC</th><th>cam_out_SOLS</th><th>cam_out_SOLL</th><th>cam_out_SOLSD</th><th>cam_out_SOLLD</th></tr><tr><td>str</td><td>f64</td><td>f64</td><td>f64</td><td>f64</td><td>f64</td><td>f64</td><td>f64</td><td>f64</td><td>f64</td><td>f64</td><td>f64</td><td>f64</td><td>f64</td><td>f64</td><td>f64</td><td>f64</td><td>f64</td><td>f64</td><td>f64</td><td>f64</td><td>f64</td><td>f64</td><td>f64</td><td>f64</td><td>f64</td><td>f64</td><td>f64</td><td>f64</td><td>f64</td><td>f64</td><td>f64</td><td>f64</td><td>f64</td><td>f64</td><td>f64</td><td>f64</td><td>&hellip;</td><td>f64</td><td>f64</td><td>f64</td><td>f64</td><td>f64</td><td>f64</td><td>f64</td><td>f64</td><td>f64</td><td>f64</td><td>f64</td><td>f64</td><td>f64</td><td>f64</td><td>f64</td><td>f64</td><td>f64</td><td>f64</td><td>f64</td><td>f64</td><td>f64</td><td>f64</td><td>f64</td><td>f64</td><td>f64</td><td>f64</td><td>f64</td><td>f64</td><td>f64</td><td>f64</td><td>f64</td><td>f64</td><td>f64</td><td>f64</td><td>f64</td><td>f64</td><td>f64</td></tr></thead><tbody><tr><td>&quot;mean&quot;</td><td>0.00001</td><td>-0.000007</td><td>-0.000003</td><td>-0.000003</td><td>-0.000004</td><td>-0.000002</td><td>-3.1367e-7</td><td>3.9781e-7</td><td>1.8380e-7</td><td>-1.6051e-8</td><td>1.3832e-7</td><td>1.8617e-7</td><td>2.9528e-7</td><td>3.7515e-7</td><td>5.6740e-7</td><td>9.3168e-7</td><td>0.000002</td><td>0.000002</td><td>7.6125e-7</td><td>-3.8970e-7</td><td>-3.5255e-7</td><td>-0.000002</td><td>-0.000004</td><td>-0.000006</td><td>-0.000007</td><td>-0.000007</td><td>-0.000006</td><td>-0.000005</td><td>-0.000004</td><td>-0.000003</td><td>-0.000002</td><td>-9.0574e-7</td><td>-2.7731e-7</td><td>1.9049e-7</td><td>4.8513e-7</td><td>6.5106e-7</td><td>&hellip;</td><td>-2.8680e-9</td><td>2.0688e-8</td><td>3.4469e-8</td><td>3.1557e-8</td><td>7.1815e-9</td><td>-6.3038e-8</td><td>-1.5727e-7</td><td>-2.4531e-7</td><td>-3.0017e-7</td><td>-3.0094e-7</td><td>-2.2172e-7</td><td>-7.6118e-8</td><td>1.1783e-7</td><td>3.2319e-7</td><td>4.9466e-7</td><td>6.1731e-7</td><td>6.3501e-7</td><td>5.3735e-7</td><td>3.3996e-7</td><td>8.3744e-8</td><td>-2.3336e-7</td><td>-6.8066e-7</td><td>-0.000001</td><td>-0.000001</td><td>-0.000001</td><td>-5.3330e-7</td><td>6.2734e-7</td><td>0.000001</td><td>6.5831e-7</td><td>158.311244</td><td>351.273302</td><td>2.7343e-9</td><td>2.9194e-8</td><td>61.803931</td><td>67.324685</td><td>33.451249</td><td>17.676368</td></tr><tr><td>&quot;std&quot;</td><td>0.000032</td><td>0.000044</td><td>0.000053</td><td>0.000069</td><td>0.000091</td><td>0.00011</td><td>0.000103</td><td>0.000079</td><td>0.00005</td><td>0.000039</td><td>0.000029</td><td>0.000023</td><td>0.000017</td><td>0.000013</td><td>0.000009</td><td>0.000007</td><td>0.000007</td><td>0.000008</td><td>0.000011</td><td>0.000014</td><td>0.000015</td><td>0.000016</td><td>0.000018</td><td>0.00002</td><td>0.000023</td><td>0.000027</td><td>0.000032</td><td>0.000037</td><td>0.000043</td><td>0.000049</td><td>0.000054</td><td>0.000058</td><td>0.000061</td><td>0.000063</td><td>0.000064</td><td>0.000065</td><td>&hellip;</td><td>0.000008</td><td>0.000008</td><td>0.000007</td><td>0.000007</td><td>0.000007</td><td>0.000007</td><td>0.000008</td><td>0.000009</td><td>0.000009</td><td>0.00001</td><td>0.000011</td><td>0.000011</td><td>0.000012</td><td>0.000013</td><td>0.000014</td><td>0.000015</td><td>0.000016</td><td>0.000017</td><td>0.000018</td><td>0.00002</td><td>0.000022</td><td>0.000025</td><td>0.000028</td><td>0.000029</td><td>0.00003</td><td>0.000029</td><td>0.000028</td><td>0.000024</td><td>0.000034</td><td>246.661342</td><td>71.979277</td><td>7.3900e-9</td><td>8.1856e-8</td><td>110.255081</td><td>116.424189</td><td>46.397329</td><td>29.70672</td></tr><tr><td>&quot;q1_4&quot;</td><td>-0.000013</td><td>-0.000039</td><td>-0.000043</td><td>-0.00006</td><td>-0.000085</td><td>-0.000099</td><td>-0.000088</td><td>-0.000067</td><td>-0.000044</td><td>-0.000034</td><td>-0.000026</td><td>-0.000019</td><td>-0.000014</td><td>-0.00001</td><td>-0.000007</td><td>-0.000005</td><td>-0.000003</td><td>-0.000003</td><td>-0.000003</td><td>-0.000005</td><td>-0.000005</td><td>-0.000006</td><td>-0.000009</td><td>-0.000012</td><td>-0.000015</td><td>-0.000017</td><td>-0.000018</td><td>-0.000019</td><td>-0.000019</td><td>-0.00002</td><td>-0.000021</td><td>-0.000022</td><td>-0.000023</td><td>-0.000023</td><td>-0.000024</td><td>-0.000025</td><td>&hellip;</td><td>-5.5398e-7</td><td>-5.2138e-7</td><td>-4.9227e-7</td><td>-4.6982e-7</td><td>-4.4817e-7</td><td>-4.3488e-7</td><td>-4.3559e-7</td><td>-4.4466e-7</td><td>-4.6692e-7</td><td>-5.0584e-7</td><td>-5.6217e-7</td><td>-6.3387e-7</td><td>-7.3155e-7</td><td>-8.5510e-7</td><td>-0.000001</td><td>-0.000001</td><td>-0.000001</td><td>-0.000002</td><td>-0.000002</td><td>-0.000003</td><td>-0.000003</td><td>-0.000004</td><td>-0.000005</td><td>-0.000006</td><td>-0.000007</td><td>-0.000008</td><td>-0.000007</td><td>-0.000006</td><td>-0.000009</td><td>0.0</td><td>311.199335</td><td>0.0</td><td>0.0</td><td>0.0</td><td>0.0</td><td>0.0</td><td>0.0</td></tr><tr><td>&quot;q2_4&quot;</td><td>0.000008</td><td>-0.000009</td><td>-0.000015</td><td>-0.000035</td><td>-0.00006</td><td>-0.000063</td><td>-0.000048</td><td>-0.000033</td><td>-0.00002</td><td>-0.000014</td><td>-0.000011</td><td>-0.000009</td><td>-0.000007</td><td>-0.000004</td><td>-0.000002</td><td>4.9865e-7</td><td>0.000002</td><td>0.000002</td><td>0.000002</td><td>-6.1262e-7</td><td>-0.000001</td><td>-0.000003</td><td>-0.000004</td><td>-0.000006</td><td>-0.000007</td><td>-0.000008</td><td>-0.000009</td><td>-0.000009</td><td>-0.000009</td><td>-0.00001</td><td>-0.000011</td><td>-0.000011</td><td>-0.000012</td><td>-0.000012</td><td>-0.000012</td><td>-0.000013</td><td>&hellip;</td><td>1.6653e-18</td><td>4.4409e-18</td><td>5.1810e-18</td><td>4.8110e-18</td><td>2.9606e-18</td><td>1.1102e-18</td><td>-2.3130e-18</td><td>-8.1416e-18</td><td>-1.2212e-17</td><td>-1.1842e-17</td><td>-3.7007e-18</td><td>3.7007e-19</td><td>5.9212e-18</td><td>5.9614e-16</td><td>1.5969e-14</td><td>2.1081e-13</td><td>4.4083e-13</td><td>1.6354e-13</td><td>8.4976e-14</td><td>4.3469e-15</td><td>5.4956e-17</td><td>-1.3878e-17</td><td>-3.6602e-15</td><td>-6.1598e-12</td><td>-5.9597e-10</td><td>-1.2688e-8</td><td>-6.2603e-10</td><td>5.2620e-11</td><td>2.4090e-7</td><td>0.016224</td><td>363.88266</td><td>0.0</td><td>3.4721e-9</td><td>4.9415e-18</td><td>1.3405e-15</td><td>0.890961</td><td>0.735684</td></tr><tr><td>&quot;q3_4&quot;</td><td>0.000036</td><td>0.000028</td><td>0.000047</td><td>0.000068</td><td>0.000096</td><td>0.000115</td><td>0.000094</td><td>0.000067</td><td>0.000043</td><td>0.000033</td><td>0.000025</td><td>0.00002</td><td>0.000016</td><td>0.000012</td><td>0.000009</td><td>0.000007</td><td>0.000007</td><td>0.000006</td><td>0.000005</td><td>0.000003</td><td>0.000003</td><td>6.8904e-7</td><td>-5.8928e-7</td><td>-0.000002</td><td>-0.000002</td><td>-0.000002</td><td>-0.000003</td><td>-0.000003</td><td>-0.000003</td><td>-0.000003</td><td>-0.000003</td><td>-0.000003</td><td>-0.000003</td><td>-0.000002</td><td>-0.000002</td><td>-0.000001</td><td>&hellip;</td><td>5.2116e-7</td><td>5.0744e-7</td><td>4.8461e-7</td><td>4.5758e-7</td><td>4.3468e-7</td><td>4.1226e-7</td><td>3.9850e-7</td><td>4.0108e-7</td><td>4.2253e-7</td><td>4.6338e-7</td><td>5.3128e-7</td><td>6.3460e-7</td><td>7.7652e-7</td><td>9.7377e-7</td><td>0.000001</td><td>0.000002</td><td>0.000002</td><td>0.000002</td><td>0.000002</td><td>0.000003</td><td>0.000003</td><td>0.000004</td><td>0.000004</td><td>0.000005</td><td>0.000006</td><td>0.000007</td><td>0.000007</td><td>0.000008</td><td>0.000012</td><td>247.601915</td><td>409.656305</td><td>3.3229e-10</td><td>1.9853e-8</td><td>77.337254</td><td>91.911309</td><td>57.72635</td><td>24.646142</td></tr></tbody></table></div>"
      ],
      "text/plain": [
       "shape: (5, 369)\n",
       "┌───────┬───────────┬───────────┬───────────┬───┬────────────┬────────────┬────────────┬───────────┐\n",
       "│ stats ┆ ptend_t_0 ┆ ptend_t_1 ┆ ptend_t_2 ┆ … ┆ cam_out_SO ┆ cam_out_SO ┆ cam_out_SO ┆ cam_out_S │\n",
       "│ ---   ┆ ---       ┆ ---       ┆ ---       ┆   ┆ LS         ┆ LL         ┆ LSD        ┆ OLLD      │\n",
       "│ str   ┆ f64       ┆ f64       ┆ f64       ┆   ┆ ---        ┆ ---        ┆ ---        ┆ ---       │\n",
       "│       ┆           ┆           ┆           ┆   ┆ f64        ┆ f64        ┆ f64        ┆ f64       │\n",
       "╞═══════╪═══════════╪═══════════╪═══════════╪═══╪════════════╪════════════╪════════════╪═══════════╡\n",
       "│ mean  ┆ 0.00001   ┆ -0.000007 ┆ -0.000003 ┆ … ┆ 61.803931  ┆ 67.324685  ┆ 33.451249  ┆ 17.676368 │\n",
       "│ std   ┆ 0.000032  ┆ 0.000044  ┆ 0.000053  ┆ … ┆ 110.255081 ┆ 116.424189 ┆ 46.397329  ┆ 29.70672  │\n",
       "│ q1_4  ┆ -0.000013 ┆ -0.000039 ┆ -0.000043 ┆ … ┆ 0.0        ┆ 0.0        ┆ 0.0        ┆ 0.0       │\n",
       "│ q2_4  ┆ 0.000008  ┆ -0.000009 ┆ -0.000015 ┆ … ┆ 4.9415e-18 ┆ 1.3405e-15 ┆ 0.890961   ┆ 0.735684  │\n",
       "│ q3_4  ┆ 0.000036  ┆ 0.000028  ┆ 0.000047  ┆ … ┆ 77.337254  ┆ 91.911309  ┆ 57.72635   ┆ 24.646142 │\n",
       "└───────┴───────────┴───────────┴───────────┴───┴────────────┴────────────┴────────────┴───────────┘"
      ]
     },
     "execution_count": 8,
     "metadata": {},
     "output_type": "execute_result"
    }
   ],
   "source": [
    "label_stats_df.head()"
   ]
  },
  {
   "cell_type": "code",
   "execution_count": 9,
   "id": "90b3da56-4a75-40d3-9d93-cb2f4270f639",
   "metadata": {},
   "outputs": [],
   "source": [
    "feat_stats_df.write_parquet(\"../../data/leap/feat_stats.parquet\")\n",
    "label_stats_df.write_parquet(\"../../data/leap/label_stats.parquet\")"
   ]
  },
  {
   "cell_type": "code",
   "execution_count": null,
   "id": "ba5a9340-779c-418a-ab5b-817274e496bf",
   "metadata": {},
   "outputs": [],
   "source": []
  },
  {
   "cell_type": "code",
   "execution_count": null,
   "id": "99dc3b94-b334-49c7-bace-3e2b29c26489",
   "metadata": {},
   "outputs": [],
   "source": []
  },
  {
   "cell_type": "code",
   "execution_count": null,
   "id": "429d52a2-7e65-4a13-b27a-4e0a70cc1295",
   "metadata": {},
   "outputs": [],
   "source": []
  },
  {
   "cell_type": "code",
   "execution_count": null,
   "id": "0bbce9dd-a590-4855-a39e-0f13639dcb18",
   "metadata": {},
   "outputs": [],
   "source": []
  },
  {
   "cell_type": "code",
   "execution_count": null,
   "id": "6e95bac5-1758-48df-8b00-d7a4c287ce16",
   "metadata": {},
   "outputs": [],
   "source": []
  },
  {
   "cell_type": "code",
   "execution_count": 11,
   "id": "b001da5a-c9ab-45bd-a82b-cf08d6bac195",
   "metadata": {},
   "outputs": [],
   "source": [
    "# feat_stats_df = pl.read_parquet(\"../../data/leap/feat_stats.parquet\")\n",
    "# label_stats_df = pl.read_parquet(\"../../data/leap/label_stats.parquet\")"
   ]
  },
  {
   "cell_type": "code",
   "execution_count": 12,
   "id": "293b6dcc-f3d5-4fab-b8d8-5ed2f6fe517e",
   "metadata": {},
   "outputs": [],
   "source": [
    "# import sys\n",
    "# sys.path.append(\"..\")\n",
    "# from leap.utils import IN_SCALAR_COLUMNS, IN_VECTOR_COLUMNS, OUT_SCALAR_COLUMNS, OUT_VECTOR_COLUMNS"
   ]
  },
  {
   "cell_type": "code",
   "execution_count": 13,
   "id": "45a2b2f4-178d-4d0d-b78a-f9243e45b533",
   "metadata": {},
   "outputs": [],
   "source": [
    "# for col in IN_VECTOR_COLUMNS:\n",
    "#     feat_stats_df = feat_stats_df.with_columns(pl.concat_list(f\"^{col}_\\d+$\").alias(col))\n",
    "# feat_stats_df = feat_stats_df.select([\"stats\"] + IN_SCALAR_COLUMNS + IN_VECTOR_COLUMNS)\n",
    "# for col in OUT_VECTOR_COLUMNS:\n",
    "#     label_stats_df = label_stats_df.with_columns(pl.concat_list(f\"^{col}_\\d+$\").alias(col))\n",
    "# label_stats_df = label_stats_df.select([\"stats\"] + OUT_SCALAR_COLUMNS + OUT_VECTOR_COLUMNS)"
   ]
  },
  {
   "cell_type": "code",
   "execution_count": 14,
   "id": "9181a584-259d-425a-8de8-2c20d99fa7af",
   "metadata": {},
   "outputs": [],
   "source": [
    "# feat_stats_df"
   ]
  },
  {
   "cell_type": "code",
   "execution_count": 15,
   "id": "5a60e1f8-6269-4d41-868b-d992e8a139ba",
   "metadata": {},
   "outputs": [],
   "source": [
    "# label_stats_df"
   ]
  },
  {
   "cell_type": "code",
   "execution_count": null,
   "id": "ddaad1eb-150f-422b-9b4a-4cbc97d220d3",
   "metadata": {},
   "outputs": [],
   "source": []
  },
  {
   "cell_type": "code",
   "execution_count": 21,
   "id": "c86107b0-9544-4e38-bc09-d88ea16ee277",
   "metadata": {},
   "outputs": [],
   "source": [
    "# import sys\n",
    "# sys.path.append(\"..\")\n",
    "# import re\n",
    "# from pathlib import Path\n",
    "\n",
    "# import polars as pl\n",
    "\n",
    "# from leap.utils import IN_SCALAR_COLUMNS, IN_VECTOR_COLUMNS, OUT_SCALAR_COLUMNS, OUT_VECTOR_COLUMNS"
   ]
  },
  {
   "cell_type": "code",
   "execution_count": 22,
   "id": "adc1ff8b-2cdb-4736-b3c0-2dfa1158890f",
   "metadata": {},
   "outputs": [],
   "source": [
    "# COLUMNS = pl.read_csv(\"../../data/leap/train.csv\", n_rows=1).columns[1:]\n",
    "# len(columns)"
   ]
  },
  {
   "cell_type": "code",
   "execution_count": 23,
   "id": "7494ea79-99bb-435c-8e2e-ce34036c8910",
   "metadata": {},
   "outputs": [],
   "source": [
    "# data_dir = \"../ClimSim/dataset_statistics\"\n",
    "# in_scalar_files = sorted(list(Path(data_dir, \"input2D\").glob(\"*.txt\")))\n",
    "# in_vector_files = sorted(list(Path(data_dir, \"input3D\").glob(\"*.txt\")))\n",
    "# out_scalar_files = sorted(list(Path(data_dir, \"output2D\").glob(\"*.txt\")))\n",
    "# out_vector_files = sorted(list(Path(data_dir, \"output3D\").glob(\"*.txt\")))\n",
    "# len(in_scalar_files), len(in_vector_files), len(out_scalar_files), len(out_vector_files)"
   ]
  },
  {
   "cell_type": "code",
   "execution_count": 24,
   "id": "3ee8520b-ae3b-49c5-b2cb-b5382f0ff07f",
   "metadata": {},
   "outputs": [],
   "source": [
    "# in_scalar_files\n",
    "# in_vector_files"
   ]
  },
  {
   "cell_type": "code",
   "execution_count": 25,
   "id": "cce57294-af1b-4425-b538-223d6af151e9",
   "metadata": {},
   "outputs": [],
   "source": [
    "# df[\"ptend_q0002_30\"]"
   ]
  },
  {
   "cell_type": "code",
   "execution_count": 26,
   "id": "ea236bb7-be71-4d89-a9e4-c5a78f52ce98",
   "metadata": {},
   "outputs": [],
   "source": [
    "# (-df[\"state_q0002_30\"] / 1200 - df[\"ptend_q0002_30\"]).abs().describe()"
   ]
  },
  {
   "cell_type": "code",
   "execution_count": 27,
   "id": "63be8d45-0d23-456f-921f-4c169c5794cb",
   "metadata": {},
   "outputs": [],
   "source": [
    "# def get_col_name(filename):\n",
    "#     filename = str(filename.stem)\n",
    "#     filename = filename.replace(\"mli_\", \"\")\n",
    "#     filename = filename.replace(\"mlo_\", \"\")\n",
    "#     filename = filename.replace(\"lev\", \"\")\n",
    "#     no = re.findall(r\"_\\d{2}\", filename)\n",
    "#     assert len(no) < 2\n",
    "#     if len(no) == 1:\n",
    "#         no_str = no[0][1:]\n",
    "#         no_int = int(no_str)\n",
    "#         filename = filename.replace(f\"_{no_str}\", f\"_{no_int-1}\")\n",
    "#     return filename\n",
    "    \n",
    "# def load_stats(files):\n",
    "#     statistics = []\n",
    "#     for filename in files:\n",
    "#         col = get_col_name(filename)\n",
    "#         try:\n",
    "#             assert col in COLUMNS, col\n",
    "#             f = open(filename, \"r\")\n",
    "#             std = float(next(f).strip().split(\":\")[1])\n",
    "#             statistics.append({\n",
    "#                 \"col\": col,\n",
    "#                 \"std\": std,\n",
    "#             })\n",
    "#             # print(type(std))\n",
    "#         except:\n",
    "#             print(filename.stem, col)\n",
    "#     return pl.from_dicts(statistics)\n",
    "\n",
    "\n",
    "# in_scalar_stats = load_stats(in_scalar_files)\n",
    "# in_vector_stats = load_stats(in_vector_files)\n",
    "# out_scalar_stats = load_stats(out_scalar_files)\n",
    "# out_vector_stats = load_stats(out_vector_files)"
   ]
  },
  {
   "cell_type": "code",
   "execution_count": 28,
   "id": "9fe9e73c-54e4-4ff2-a7cb-d98f098a7360",
   "metadata": {},
   "outputs": [],
   "source": [
    "# len(IN_SCALAR_COLUMNS), len(in_scalar_stats)"
   ]
  },
  {
   "cell_type": "code",
   "execution_count": 29,
   "id": "e5881f6b-4b66-4cdf-9085-c4bc3ef7cbc6",
   "metadata": {},
   "outputs": [],
   "source": [
    "# len(IN_VECTOR_COLUMNS), len(in_vector_stats)"
   ]
  },
  {
   "cell_type": "code",
   "execution_count": 30,
   "id": "62d5641d-f833-48be-b989-4e6fd9e82532",
   "metadata": {},
   "outputs": [],
   "source": [
    "# len(OUT_SCALAR_COLUMNS), len(out_scalar_stats)"
   ]
  },
  {
   "cell_type": "code",
   "execution_count": 31,
   "id": "1ec6f28d-5744-418a-b1a2-f7a7b3865cfe",
   "metadata": {},
   "outputs": [],
   "source": [
    "# OUT_SCALAR_COLUMNS"
   ]
  },
  {
   "cell_type": "code",
   "execution_count": 32,
   "id": "1afd3942-ef9e-44d6-8d13-e27b0a60f789",
   "metadata": {},
   "outputs": [],
   "source": [
    "# out_scalar_stats[\"col\"].to_list()"
   ]
  },
  {
   "cell_type": "code",
   "execution_count": 33,
   "id": "f2bc2b46-14cc-45e9-aa62-278c25f1ea03",
   "metadata": {},
   "outputs": [],
   "source": [
    "# len(OUT_VECTOR_COLUMNS), len(out_vector_stats)"
   ]
  },
  {
   "cell_type": "code",
   "execution_count": 34,
   "id": "c0cf8cff-f0d2-478f-84ea-8b4d6d9b35f3",
   "metadata": {},
   "outputs": [],
   "source": [
    "# out_vector_stats[\"col\"].unique().to_list()"
   ]
  },
  {
   "cell_type": "code",
   "execution_count": 35,
   "id": "87fb1020-10d5-41cc-a4d5-3230a52b894f",
   "metadata": {},
   "outputs": [],
   "source": [
    "# out_vector_stats.filter(pl.col("
   ]
  },
  {
   "cell_type": "code",
   "execution_count": 36,
   "id": "333c4158-7007-4376-82f8-7b22945c7e1f",
   "metadata": {},
   "outputs": [],
   "source": [
    "# pl.read_parquet(Path(data_dir, \"x_mean.parquet\"))[\"state_t_8\"]"
   ]
  },
  {
   "cell_type": "code",
   "execution_count": 37,
   "id": "c2ac5b55-5b08-4b6d-8ca5-da598021955d",
   "metadata": {},
   "outputs": [],
   "source": [
    "# pl.read_parquet(Path(data_dir, \"x_std.parquet\"))[\"state_t_8\"]"
   ]
  },
  {
   "cell_type": "code",
   "execution_count": null,
   "id": "628fcf81-7450-4160-a01d-09c7e5c2d271",
   "metadata": {},
   "outputs": [],
   "source": []
  },
  {
   "cell_type": "code",
   "execution_count": null,
   "id": "4b629ef2-1dd3-4bb1-a921-afde3f5712fe",
   "metadata": {},
   "outputs": [],
   "source": []
  },
  {
   "cell_type": "code",
   "execution_count": null,
   "id": "c3e8570d-44ec-4609-b00a-10e23b47afa2",
   "metadata": {},
   "outputs": [],
   "source": []
  },
  {
   "cell_type": "code",
   "execution_count": null,
   "id": "c860ace8-a6bc-4f20-aee4-118abbb5ed38",
   "metadata": {},
   "outputs": [],
   "source": []
  },
  {
   "cell_type": "code",
   "execution_count": null,
   "id": "8c396684-9abe-4441-90c7-81718f3b96f7",
   "metadata": {},
   "outputs": [],
   "source": []
  },
  {
   "cell_type": "code",
   "execution_count": null,
   "id": "013544e4-981d-401b-a716-0d1a2ced6739",
   "metadata": {},
   "outputs": [],
   "source": []
  },
  {
   "cell_type": "code",
   "execution_count": null,
   "id": "5e9329fc-93de-4e38-8285-dff95f81c92d",
   "metadata": {},
   "outputs": [],
   "source": []
  },
  {
   "cell_type": "code",
   "execution_count": 41,
   "id": "cdc5d60c-9e08-4637-8392-f07d42f439af",
   "metadata": {},
   "outputs": [],
   "source": [
    "# %%time\n",
    "# files = list(Path(data_dir).glob(\"processed_train*\"))\n",
    "# print(f\"# of train files: {len(files)}\")\n",
    "# np.random.seed(seed)\n",
    "# np.random.shuffle(files)\n",
    "# dfs = []\n",
    "# num_data = 0\n",
    "# for filename in tqdm(files):\n",
    "#     print(filename)\n",
    "#     dfs.append(pl.read_parquet(filename, columns=feat_cols if target==\"input\" else label_cols))\n",
    "#     num_data += len(dfs[-1])\n",
    "#     if num_data > N_ROWS:\n",
    "#         break\n",
    "# df = pl.concat(dfs)\n",
    "# df.shape"
   ]
  },
  {
   "cell_type": "code",
   "execution_count": 42,
   "id": "42c2d8cc-1f50-4566-b47b-6dd8175185a6",
   "metadata": {},
   "outputs": [],
   "source": [
    "# %%time\n",
    "# test_df = pl.read_parquet(Path(data_dir, \"processed_test.parquet\"), columns=feat_cols)\n",
    "# test_df = pl.read_csv(Path(data_dir, \"test.csv\"), columns=feat_cols)\n",
    "# test_df.shape"
   ]
  },
  {
   "cell_type": "code",
   "execution_count": 43,
   "id": "ac0f8b63-7a25-44c5-9d51-dea10fb69341",
   "metadata": {},
   "outputs": [],
   "source": [
    "# df = pl.concat([train_df, test_df])"
   ]
  },
  {
   "cell_type": "code",
   "execution_count": 44,
   "id": "aab0197e-c3b7-4740-83e3-9806eb1c599b",
   "metadata": {},
   "outputs": [],
   "source": [
    "# df.shape"
   ]
  },
  {
   "cell_type": "code",
   "execution_count": 8,
   "id": "f9c76a4c-1a66-49c0-8b0d-5a1785e708db",
   "metadata": {},
   "outputs": [],
   "source": [
    "mean_df = df.mean()\n",
    "if target == \"input\":\n",
    "    std_df = df.std()\n",
    "else:\n",
    "    std_df = (df * df).mean().with_columns(pl.all().sqrt())\n",
    "q2_df = df.quantile(0.25)\n",
    "q3_df = df.quantile(0.5)\n",
    "q4_df = df.quantile(0.75)"
   ]
  },
  {
   "cell_type": "code",
   "execution_count": 9,
   "id": "b9f85ae0-5e94-4a76-807e-fca0fac8ed94",
   "metadata": {},
   "outputs": [
    {
     "data": {
      "text/html": [
       "<div><style>\n",
       ".dataframe > thead > tr,\n",
       ".dataframe > tbody > tr {\n",
       "  text-align: right;\n",
       "  white-space: pre-wrap;\n",
       "}\n",
       "</style>\n",
       "<small>shape: (1, 368)</small><table border=\"1\" class=\"dataframe\"><thead><tr><th>ptend_t_0</th><th>ptend_t_1</th><th>ptend_t_2</th><th>ptend_t_3</th><th>ptend_t_4</th><th>ptend_t_5</th><th>ptend_t_6</th><th>ptend_t_7</th><th>ptend_t_8</th><th>ptend_t_9</th><th>ptend_t_10</th><th>ptend_t_11</th><th>ptend_t_12</th><th>ptend_t_13</th><th>ptend_t_14</th><th>ptend_t_15</th><th>ptend_t_16</th><th>ptend_t_17</th><th>ptend_t_18</th><th>ptend_t_19</th><th>ptend_t_20</th><th>ptend_t_21</th><th>ptend_t_22</th><th>ptend_t_23</th><th>ptend_t_24</th><th>ptend_t_25</th><th>ptend_t_26</th><th>ptend_t_27</th><th>ptend_t_28</th><th>ptend_t_29</th><th>ptend_t_30</th><th>ptend_t_31</th><th>ptend_t_32</th><th>ptend_t_33</th><th>ptend_t_34</th><th>ptend_t_35</th><th>ptend_t_36</th><th>&hellip;</th><th>ptend_v_31</th><th>ptend_v_32</th><th>ptend_v_33</th><th>ptend_v_34</th><th>ptend_v_35</th><th>ptend_v_36</th><th>ptend_v_37</th><th>ptend_v_38</th><th>ptend_v_39</th><th>ptend_v_40</th><th>ptend_v_41</th><th>ptend_v_42</th><th>ptend_v_43</th><th>ptend_v_44</th><th>ptend_v_45</th><th>ptend_v_46</th><th>ptend_v_47</th><th>ptend_v_48</th><th>ptend_v_49</th><th>ptend_v_50</th><th>ptend_v_51</th><th>ptend_v_52</th><th>ptend_v_53</th><th>ptend_v_54</th><th>ptend_v_55</th><th>ptend_v_56</th><th>ptend_v_57</th><th>ptend_v_58</th><th>ptend_v_59</th><th>cam_out_NETSW</th><th>cam_out_FLWDS</th><th>cam_out_PRECSC</th><th>cam_out_PRECC</th><th>cam_out_SOLS</th><th>cam_out_SOLL</th><th>cam_out_SOLSD</th><th>cam_out_SOLLD</th></tr><tr><td>f64</td><td>f64</td><td>f64</td><td>f64</td><td>f64</td><td>f64</td><td>f64</td><td>f64</td><td>f64</td><td>f64</td><td>f64</td><td>f64</td><td>f64</td><td>f64</td><td>f64</td><td>f64</td><td>f64</td><td>f64</td><td>f64</td><td>f64</td><td>f64</td><td>f64</td><td>f64</td><td>f64</td><td>f64</td><td>f64</td><td>f64</td><td>f64</td><td>f64</td><td>f64</td><td>f64</td><td>f64</td><td>f64</td><td>f64</td><td>f64</td><td>f64</td><td>f64</td><td>&hellip;</td><td>f64</td><td>f64</td><td>f64</td><td>f64</td><td>f64</td><td>f64</td><td>f64</td><td>f64</td><td>f64</td><td>f64</td><td>f64</td><td>f64</td><td>f64</td><td>f64</td><td>f64</td><td>f64</td><td>f64</td><td>f64</td><td>f64</td><td>f64</td><td>f64</td><td>f64</td><td>f64</td><td>f64</td><td>f64</td><td>f64</td><td>f64</td><td>f64</td><td>f64</td><td>f64</td><td>f64</td><td>f64</td><td>f64</td><td>f64</td><td>f64</td><td>f64</td><td>f64</td></tr></thead><tbody><tr><td>1.046274</td><td>1.007117</td><td>1.011479</td><td>1.005761</td><td>0.99895</td><td>0.995492</td><td>0.995733</td><td>0.996317</td><td>0.99605</td><td>0.995646</td><td>0.995601</td><td>0.995819</td><td>0.996633</td><td>0.996386</td><td>0.996923</td><td>1.003405</td><td>1.040239</td><td>1.056278</td><td>1.027009</td><td>1.019531</td><td>1.010373</td><td>1.021547</td><td>1.036911</td><td>1.047699</td><td>1.048465</td><td>1.037275</td><td>1.02597</td><td>1.016581</td><td>1.011718</td><td>1.009276</td><td>1.007124</td><td>1.005025</td><td>1.004665</td><td>1.0043</td><td>1.004898</td><td>1.005166</td><td>1.004857</td><td>&hellip;</td><td>1.010913</td><td>1.014106</td><td>1.015672</td><td>1.016246</td><td>1.011444</td><td>1.009567</td><td>1.014182</td><td>1.015702</td><td>1.017372</td><td>1.017778</td><td>1.019712</td><td>1.019894</td><td>1.020911</td><td>1.021947</td><td>1.022461</td><td>1.020504</td><td>1.018023</td><td>1.015712</td><td>1.013176</td><td>1.011682</td><td>1.013197</td><td>1.020688</td><td>1.028576</td><td>1.0238</td><td>1.015366</td><td>1.009482</td><td>1.008214</td><td>1.009326</td><td>1.017949</td><td>1.182756</td><td>4.982298</td><td>1.060937</td><td>1.067328</td><td>1.142551</td><td>1.150654</td><td>1.229466</td><td>1.160102</td></tr></tbody></table></div>"
      ],
      "text/plain": [
       "shape: (1, 368)\n",
       "┌───────────┬───────────┬───────────┬───────────┬───┬───────────┬───────────┬───────────┬──────────┐\n",
       "│ ptend_t_0 ┆ ptend_t_1 ┆ ptend_t_2 ┆ ptend_t_3 ┆ … ┆ cam_out_S ┆ cam_out_S ┆ cam_out_S ┆ cam_out_ │\n",
       "│ ---       ┆ ---       ┆ ---       ┆ ---       ┆   ┆ OLS       ┆ OLL       ┆ OLSD      ┆ SOLLD    │\n",
       "│ f64       ┆ f64       ┆ f64       ┆ f64       ┆   ┆ ---       ┆ ---       ┆ ---       ┆ ---      │\n",
       "│           ┆           ┆           ┆           ┆   ┆ f64       ┆ f64       ┆ f64       ┆ f64      │\n",
       "╞═══════════╪═══════════╪═══════════╪═══════════╪═══╪═══════════╪═══════════╪═══════════╪══════════╡\n",
       "│ 1.046274  ┆ 1.007117  ┆ 1.011479  ┆ 1.005761  ┆ … ┆ 1.142551  ┆ 1.150654  ┆ 1.229466  ┆ 1.160102 │\n",
       "└───────────┴───────────┴───────────┴───────────┴───┴───────────┴───────────┴───────────┴──────────┘"
      ]
     },
     "execution_count": 9,
     "metadata": {},
     "output_type": "execute_result"
    }
   ],
   "source": [
    "std_df"
   ]
  },
  {
   "cell_type": "code",
   "execution_count": 10,
   "id": "3edfc0ce-5414-4ac4-94f9-323b72ece747",
   "metadata": {},
   "outputs": [],
   "source": [
    "prefix = \"x_\" if target==\"input\" else \"y_\"\n",
    "mean_df.write_parquet(f\"{data_dir}/{prefix}mean.parquet\")\n",
    "std_df.write_parquet(f\"{data_dir}/{prefix}std.parquet\")\n",
    "q2_df.write_parquet(f\"{data_dir}/{prefix}q2.parquet\")\n",
    "q3_df.write_parquet(f\"{data_dir}/{prefix}q3.parquet\")\n",
    "q4_df.write_parquet(f\"{data_dir}/{prefix}q4.parquet\")"
   ]
  },
  {
   "cell_type": "code",
   "execution_count": null,
   "id": "83367085-c1af-425d-a9f7-5254d10fb3ae",
   "metadata": {},
   "outputs": [],
   "source": []
  },
  {
   "cell_type": "code",
   "execution_count": null,
   "id": "cee9c4b9-581f-4ad3-9c04-4f7e04dd024a",
   "metadata": {},
   "outputs": [],
   "source": []
  },
  {
   "cell_type": "code",
   "execution_count": null,
   "id": "3d20fa00-eb73-4793-9833-be0cb4efcb40",
   "metadata": {},
   "outputs": [],
   "source": []
  },
  {
   "cell_type": "code",
   "execution_count": 27,
   "id": "c3cc3a41-ca9f-4f24-a6a9-dddc324cd3df",
   "metadata": {},
   "outputs": [
    {
     "data": {
      "text/html": [
       "<div><style>\n",
       ".dataframe > thead > tr,\n",
       ".dataframe > tbody > tr {\n",
       "  text-align: right;\n",
       "  white-space: pre-wrap;\n",
       "}\n",
       "</style>\n",
       "<small>shape: (5, 26)</small><table border=\"1\" class=\"dataframe\"><thead><tr><th>stats</th><th>state_ps</th><th>pbuf_SOLIN</th><th>pbuf_LHFLX</th><th>pbuf_SHFLX</th><th>pbuf_TAUX</th><th>pbuf_TAUY</th><th>pbuf_COSZRS</th><th>cam_in_ALDIF</th><th>cam_in_ALDIR</th><th>cam_in_ASDIF</th><th>cam_in_ASDIR</th><th>cam_in_LWUP</th><th>cam_in_ICEFRAC</th><th>cam_in_LANDFRAC</th><th>cam_in_OCNFRAC</th><th>cam_in_SNOWHLAND</th><th>state_t</th><th>state_q0001</th><th>state_q0002</th><th>state_q0003</th><th>state_u</th><th>state_v</th><th>pbuf_ozone</th><th>pbuf_CH4</th><th>pbuf_N2O</th></tr><tr><td>str</td><td>f64</td><td>f64</td><td>f64</td><td>f64</td><td>f64</td><td>f64</td><td>f64</td><td>f64</td><td>f64</td><td>f64</td><td>f64</td><td>f64</td><td>f64</td><td>f64</td><td>f64</td><td>f64</td><td>list[f64]</td><td>list[f64]</td><td>list[f64]</td><td>list[f64]</td><td>list[f64]</td><td>list[f64]</td><td>list[f64]</td><td>list[f64]</td><td>list[f64]</td></tr></thead><tbody><tr><td>&quot;mean&quot;</td><td>98596.753302</td><td>349.574107</td><td>70.217865</td><td>19.635538</td><td>-0.001617</td><td>0.006534</td><td>0.249722</td><td>0.563013</td><td>0.578684</td><td>0.560561</td><td>0.577075</td><td>394.053242</td><td>0.039658</td><td>0.299548</td><td>0.660795</td><td>0.052935</td><td>[217.624071, 230.399096, … 286.524676]</td><td>[0.000001, 0.000001, … 0.009108]</td><td>[4.3187e-34, 4.2736e-34, … 0.000004]</td><td>[4.6433e-13, 4.8620e-13, … 0.000002]</td><td>[5.643097, 4.856036, … -0.032662]</td><td>[5.87136, 2.346457, … -0.413235]</td><td>[2.8092e-7, 5.0594e-7, … 4.4878e-8]</td><td>[1.3595e-7, 1.5698e-7, … 9.9861e-7]</td><td>[2.4710e-8, 3.0938e-8, … 4.9086e-7]</td></tr><tr><td>&quot;std&quot;</td><td>4281.44446</td><td>451.500068</td><td>80.06469</td><td>52.737542</td><td>0.073231</td><td>0.066127</td><td>0.322532</td><td>0.430416</td><td>0.417756</td><td>0.449322</td><td>0.436952</td><td>76.000813</td><td>0.14721</td><td>0.389728</td><td>0.413036</td><td>0.208154</td><td>[5.911469, 7.881941, … 14.423179]</td><td>[9.1574e-9, 1.0014e-8, … 0.005518]</td><td>[1.7905e-35, 2.3907e-35, … 0.000014]</td><td>[2.9706e-14, 4.0427e-14, … 0.000007]</td><td>[39.261531, 38.160153, … 4.899528]</td><td>[22.313432, 16.557431, … 4.196683]</td><td>[2.9091e-8, 5.2395e-8, … 2.0310e-8]</td><td>[6.7360e-8, 7.6307e-8, … 2.1176e-22]</td><td>[1.2311e-8, 1.4957e-8, … 0.0]</td></tr><tr><td>&quot;q1_4&quot;</td><td>97644.601762</td><td>0.0</td><td>7.708939</td><td>-1.869708</td><td>-0.024017</td><td>-0.014355</td><td>0.0</td><td>0.061828</td><td>0.128667</td><td>0.06</td><td>0.081895</td><td>341.146872</td><td>0.0</td><td>0.0</td><td>0.169668</td><td>0.0</td><td>[214.466538, 225.190072, … 277.886281]</td><td>[0.000001, 0.000001, … 0.004103]</td><td>[4.2023e-34, 4.0893e-34, … 1.2309e-8]</td><td>[4.4197e-13, 4.5914e-13, … 0.0]</td><td>[-24.595596, -25.329931, … -3.593738]</td><td>[-7.697528, -7.378908, … -3.0184]</td><td>[2.5644e-7, 4.6186e-7, … 2.6914e-8]</td><td>[8.3876e-8, 1.0119e-7, … 9.9861e-7]</td><td>[1.4966e-8, 1.9497e-8, … 4.9086e-7]</td></tr><tr><td>&quot;q2_4&quot;</td><td>100052.912057</td><td>9.01463</td><td>44.678269</td><td>5.372208</td><td>0.000891</td><td>0.001966</td><td>0.006446</td><td>0.6789</td><td>0.673715</td><td>0.82385</td><td>0.836097</td><td>416.213761</td><td>0.0</td><td>0.031226</td><td>0.94313</td><td>0.0</td><td>[216.921706, 230.500589, … 291.490732]</td><td>[0.000001, 0.000001, … 0.008628]</td><td>[4.3825e-34, 4.3400e-34, … 1.0297e-7]</td><td>[4.6582e-13, 4.8649e-13, … 1.1918e-11]</td><td>[3.857327, 0.627279, … -0.221262]</td><td>[4.700998, 2.219141, … -0.461416]</td><td>[2.9452e-7, 5.3045e-7, … 3.8275e-8]</td><td>[1.7047e-7, 1.9578e-7, … 9.9861e-7]</td><td>[2.7090e-8, 3.3989e-8, … 4.9086e-7]</td></tr><tr><td>&quot;q3_4&quot;</td><td>101171.068774</td><td>693.719003</td><td>108.966804</td><td>17.634344</td><td>0.027608</td><td>0.023579</td><td>0.495651</td><td>1.0</td><td>1.0</td><td>1.0</td><td>1.0</td><td>456.510835</td><td>0.0</td><td>0.584406</td><td>1.0</td><td>0.0</td><td>[220.26758, 235.729563, … 298.013045]</td><td>[0.000001, 0.000001, … 0.014505]</td><td>[4.4589e-34, 4.4848e-34, … 0.000001]</td><td>[4.8625e-13, 5.1613e-13, … 7.9558e-8]</td><td>[33.068731, 31.326169, … 3.231524]</td><td>[18.362083, 11.952884, … 2.312402]</td><td>[3.0137e-7, 5.4278e-7, … 6.4872e-8]</td><td>[1.8082e-7, 2.0767e-7, … 9.9861e-7]</td><td>[3.4248e-8, 4.2493e-8, … 4.9086e-7]</td></tr></tbody></table></div>"
      ],
      "text/plain": [
       "shape: (5, 26)\n",
       "┌───────┬────────────┬────────────┬────────────┬───┬───────────┬───────────┬───────────┬───────────┐\n",
       "│ stats ┆ state_ps   ┆ pbuf_SOLIN ┆ pbuf_LHFLX ┆ … ┆ state_v   ┆ pbuf_ozon ┆ pbuf_CH4  ┆ pbuf_N2O  │\n",
       "│ ---   ┆ ---        ┆ ---        ┆ ---        ┆   ┆ ---       ┆ e         ┆ ---       ┆ ---       │\n",
       "│ str   ┆ f64        ┆ f64        ┆ f64        ┆   ┆ list[f64] ┆ ---       ┆ list[f64] ┆ list[f64] │\n",
       "│       ┆            ┆            ┆            ┆   ┆           ┆ list[f64] ┆           ┆           │\n",
       "╞═══════╪════════════╪════════════╪════════════╪═══╪═══════════╪═══════════╪═══════════╪═══════════╡\n",
       "│ mean  ┆ 98596.7533 ┆ 349.574107 ┆ 70.217865  ┆ … ┆ [5.87136, ┆ [2.8092e- ┆ [1.3595e- ┆ [2.4710e- │\n",
       "│       ┆ 02         ┆            ┆            ┆   ┆ 2.346457, ┆ 7, 5.0594 ┆ 7, 1.5698 ┆ 8, 3.0938 │\n",
       "│       ┆            ┆            ┆            ┆   ┆ …         ┆ e-7, …    ┆ e-7, …    ┆ e-8, …    │\n",
       "│       ┆            ┆            ┆            ┆   ┆ -0.41323… ┆ 4.487…    ┆ 9.986…    ┆ 4.908…    │\n",
       "│ std   ┆ 4281.44446 ┆ 451.500068 ┆ 80.06469   ┆ … ┆ [22.31343 ┆ [2.9091e- ┆ [6.7360e- ┆ [1.2311e- │\n",
       "│       ┆            ┆            ┆            ┆   ┆ 2, 16.557 ┆ 8, 5.2395 ┆ 8, 7.6307 ┆ 8, 1.4957 │\n",
       "│       ┆            ┆            ┆            ┆   ┆ 431, …    ┆ e-8, …    ┆ e-8, …    ┆ e-8, …    │\n",
       "│       ┆            ┆            ┆            ┆   ┆ 4.196…    ┆ 2.031…    ┆ 2.117…    ┆ 0.0]      │\n",
       "│ q1_4  ┆ 97644.6017 ┆ 0.0        ┆ 7.708939   ┆ … ┆ [-7.69752 ┆ [2.5644e- ┆ [8.3876e- ┆ [1.4966e- │\n",
       "│       ┆ 62         ┆            ┆            ┆   ┆ 8, -7.378 ┆ 7, 4.6186 ┆ 8, 1.0119 ┆ 8, 1.9497 │\n",
       "│       ┆            ┆            ┆            ┆   ┆ 908, …    ┆ e-7, …    ┆ e-7, …    ┆ e-8, …    │\n",
       "│       ┆            ┆            ┆            ┆   ┆ -3.01…    ┆ 2.691…    ┆ 9.986…    ┆ 4.908…    │\n",
       "│ q2_4  ┆ 100052.912 ┆ 9.01463    ┆ 44.678269  ┆ … ┆ [4.700998 ┆ [2.9452e- ┆ [1.7047e- ┆ [2.7090e- │\n",
       "│       ┆ 057        ┆            ┆            ┆   ┆ ,         ┆ 7, 5.3045 ┆ 7, 1.9578 ┆ 8, 3.3989 │\n",
       "│       ┆            ┆            ┆            ┆   ┆ 2.219141, ┆ e-7, …    ┆ e-7, …    ┆ e-8, …    │\n",
       "│       ┆            ┆            ┆            ┆   ┆ …         ┆ 3.827…    ┆ 9.986…    ┆ 4.908…    │\n",
       "│       ┆            ┆            ┆            ┆   ┆ -0.4614…  ┆           ┆           ┆           │\n",
       "│ q3_4  ┆ 101171.068 ┆ 693.719003 ┆ 108.966804 ┆ … ┆ [18.36208 ┆ [3.0137e- ┆ [1.8082e- ┆ [3.4248e- │\n",
       "│       ┆ 774        ┆            ┆            ┆   ┆ 3, 11.952 ┆ 7, 5.4278 ┆ 7, 2.0767 ┆ 8, 4.2493 │\n",
       "│       ┆            ┆            ┆            ┆   ┆ 884, …    ┆ e-7, …    ┆ e-7, …    ┆ e-8, …    │\n",
       "│       ┆            ┆            ┆            ┆   ┆ 2.312…    ┆ 6.487…    ┆ 9.986…    ┆ 4.908…    │\n",
       "└───────┴────────────┴────────────┴────────────┴───┴───────────┴───────────┴───────────┴───────────┘"
      ]
     },
     "execution_count": 27,
     "metadata": {},
     "output_type": "execute_result"
    }
   ],
   "source": [
    "feat_stats_df"
   ]
  },
  {
   "cell_type": "code",
   "execution_count": 68,
   "id": "3a69837d-d0fd-402e-9f95-22ec2de709a1",
   "metadata": {},
   "outputs": [],
   "source": [
    "def normalize(df, feat_cols, label_cols, method, path, reverse=False, eps=1e-8):\n",
    "    if method == \"standard\":\n",
    "        if feat_cols is not None:\n",
    "            x_mat = df.select(feat_cols).to_numpy()\n",
    "            x_mean = pl.read_parquet(Path(path, \"x_mean.parquet\")).select(feat_cols).to_numpy()\n",
    "            x_std = pl.read_parquet(Path(path, \"x_std.parquet\")).select(feat_cols).to_numpy()\n",
    "            if reverse:\n",
    "                x_mat = x_mat * x_std + x_mean\n",
    "            else:\n",
    "                x_std = x_std.clip(eps)\n",
    "                x_mat = (x_mat - x_mean) / x_std\n",
    "        if label_cols is not None:\n",
    "            y_mat = df.select(label_cols).to_numpy()\n",
    "            y_mean = pl.read_parquet(Path(path, \"y_mean.parquet\")).select(label_cols).to_numpy()\n",
    "            y_std = pl.read_parquet(Path(path, \"y_std.parquet\")).select(label_cols).to_numpy()\n",
    "            if reverse:\n",
    "                y_mat = y_mat * y_std + y_mean\n",
    "            else:\n",
    "                y_std = y_std.clip(eps)\n",
    "                y_mat = (y_mat - y_mean) / y_std\n",
    "    elif method == \"robust\":\n",
    "        if feat_cols is not None:\n",
    "            x_mat = df.select(feat_cols).to_numpy()\n",
    "            x_q2 = pl.read_parquet(Path(path, \"x_q2.parquet\")).select(feat_cols).to_numpy()\n",
    "            x_q3 = pl.read_parquet(Path(path, \"x_q3.parquet\")).select(feat_cols).to_numpy()\n",
    "            x_q4 = pl.read_parquet(Path(path, \"x_q4.parquet\")).select(feat_cols).to_numpy()\n",
    "            if reverse:\n",
    "                x_mat = x_mat * (x_q4 - x_q2) + x_q3\n",
    "            else:\n",
    "                x_mat = (x_mat - x_q3) / np.maximum(x_q4 - x_q2, eps)\n",
    "        if label_cols is not None:\n",
    "            y_mat = df.select(label_cols).to_numpy()\n",
    "            y_q2 = pl.read_parquet(Path(path, \"y_q2.parquet\")).select(label_cols).to_numpy()\n",
    "            y_q3 = pl.read_parquet(Path(path, \"y_q3.parquet\")).select(label_cols).to_numpy()\n",
    "            y_q4 = pl.read_parquet(Path(path, \"y_q4.parquet\")).select(label_cols).to_numpy()\n",
    "            if reverse:\n",
    "                y_mat = y_mat * (y_q4 - y_q2) + y_q3\n",
    "            else:\n",
    "                y_mat = (y_mat - y_q3) / np.maximum(y_q4 - y_q2, eps)\n",
    "    else:\n",
    "        raise NotImplementedError\n",
    "    if feat_cols is not None:\n",
    "        df = df.with_columns(\n",
    "            [\n",
    "                pl.lit(x_mat[:, i]).alias(col)\n",
    "                for i, col in enumerate(feat_cols)\n",
    "            ]        \n",
    "        )\n",
    "    if label_cols is not None:\n",
    "        df = df.with_columns(\n",
    "            [\n",
    "                pl.lit(y_mat[:, i]).alias(col)\n",
    "                for i, col in enumerate(label_cols)\n",
    "            ]        \n",
    "        )\n",
    "    return df"
   ]
  },
  {
   "cell_type": "code",
   "execution_count": 69,
   "id": "0664cea9-5df2-4a96-9a1d-1ed4a92834db",
   "metadata": {},
   "outputs": [],
   "source": [
    "df = pl.read_parquet(\"../../data/leap/raw_train_0_100041.parquet\")"
   ]
  },
  {
   "cell_type": "code",
   "execution_count": 70,
   "id": "446a5f34-dc55-448a-b66e-fbd3d122c084",
   "metadata": {},
   "outputs": [
    {
     "name": "stdout",
     "output_type": "stream",
     "text": [
      "shape: (100_042, 925)\n",
      "┌───────────┬───────────┬───────────┬───────────┬───┬───────────┬───────────┬───────────┬──────────┐\n",
      "│ sample_id ┆ state_t_0 ┆ state_t_1 ┆ state_t_2 ┆ … ┆ cam_out_S ┆ cam_out_S ┆ cam_out_S ┆ cam_out_ │\n",
      "│ ---       ┆ ---       ┆ ---       ┆ ---       ┆   ┆ OLS       ┆ OLL       ┆ OLSD      ┆ SOLLD    │\n",
      "│ str       ┆ f64       ┆ f64       ┆ f64       ┆   ┆ ---       ┆ ---       ┆ ---       ┆ ---      │\n",
      "│           ┆           ┆           ┆           ┆   ┆ f64       ┆ f64       ┆ f64       ┆ f64      │\n",
      "╞═══════════╪═══════════╪═══════════╪═══════════╪═══╪═══════════╪═══════════╪═══════════╪══════════╡\n",
      "│ train_0   ┆ 213.80611 ┆ 222.24445 ┆ 229.25987 ┆ … ┆ 0.0       ┆ 0.0       ┆ 0.0       ┆ 0.0      │\n",
      "│           ┆ 7         ┆ 4         ┆ 9         ┆   ┆           ┆           ┆           ┆          │\n",
      "│ train_1   ┆ 213.17743 ┆ 225.85106 ┆ 229.66361 ┆ … ┆ 0.0       ┆ 0.0       ┆ 0.0       ┆ 0.0      │\n",
      "│           ┆           ┆ 4         ┆ 8         ┆   ┆           ┆           ┆           ┆          │\n",
      "│ train_2   ┆ 217.10568 ┆ 220.44810 ┆ 234.65339 ┆ … ┆ 0.0       ┆ 0.0       ┆ 0.0       ┆ 0.0      │\n",
      "│           ┆ 5         ┆ 6         ┆ 8         ┆   ┆           ┆           ┆           ┆          │\n",
      "│ train_3   ┆ 217.77399 ┆ 225.61177 ┆ 234.10409 ┆ … ┆ 0.0       ┆ 0.0       ┆ 0.0       ┆ 0.0      │\n",
      "│           ┆ 4         ┆ 5         ┆ 1         ┆   ┆           ┆           ┆           ┆          │\n",
      "│ train_4   ┆ 216.34933 ┆ 230.52608 ┆ 233.65025 ┆ … ┆ 0.0       ┆ 0.0       ┆ 0.0       ┆ 0.0      │\n",
      "│           ┆ 7         ┆ 3         ┆ 2         ┆   ┆           ┆           ┆           ┆          │\n",
      "│ …         ┆ …         ┆ …         ┆ …         ┆ … ┆ …         ┆ …         ┆ …         ┆ …        │\n",
      "│ train_100 ┆ 220.53842 ┆ 220.53853 ┆ 232.88601 ┆ … ┆ 0.0       ┆ 0.0       ┆ 0.0       ┆ 0.0      │\n",
      "│ 037       ┆ 9         ┆ 4         ┆ 3         ┆   ┆           ┆           ┆           ┆          │\n",
      "│ train_100 ┆ 216.19858 ┆ 225.47372 ┆ 237.52459 ┆ … ┆ 0.0       ┆ 0.0       ┆ 0.0       ┆ 0.0      │\n",
      "│ 038       ┆           ┆ 2         ┆ 9         ┆   ┆           ┆           ┆           ┆          │\n",
      "│ train_100 ┆ 216.66730 ┆ 227.11007 ┆ 238.17702 ┆ … ┆ 0.0       ┆ 0.0       ┆ 0.0       ┆ 0.0      │\n",
      "│ 039       ┆ 9         ┆ 1         ┆           ┆   ┆           ┆           ┆           ┆          │\n",
      "│ train_100 ┆ 217.12087 ┆ 223.94148 ┆ 231.61683 ┆ … ┆ 0.0       ┆ 0.0       ┆ 0.0       ┆ 0.0      │\n",
      "│ 040       ┆           ┆ 6         ┆ 3         ┆   ┆           ┆           ┆           ┆          │\n",
      "│ train_100 ┆ 205.40031 ┆ 210.23697 ┆ 232.60317 ┆ … ┆ 0.0       ┆ 0.0       ┆ 0.0       ┆ 0.0      │\n",
      "│ 041       ┆ 3         ┆ 4         ┆ 3         ┆   ┆           ┆           ┆           ┆          │\n",
      "└───────────┴───────────┴───────────┴───────────┴───┴───────────┴───────────┴───────────┴──────────┘\n",
      "shape: (1, 24)\n",
      "┌───────────┬───────────┬───────────┬───────────┬───┬───────────┬───────────┬───────────┬──────────┐\n",
      "│ pbuf_SOLI ┆ pbuf_LHFL ┆ pbuf_SHFL ┆ pbuf_TAUX ┆ … ┆ state_v   ┆ pbuf_ozon ┆ pbuf_CH4  ┆ pbuf_N2O │\n",
      "│ N         ┆ X         ┆ X         ┆ ---       ┆   ┆ ---       ┆ e         ┆ ---       ┆ ---      │\n",
      "│ ---       ┆ ---       ┆ ---       ┆ f64       ┆   ┆ list[f64] ┆ ---       ┆ list[f64] ┆ list[f64 │\n",
      "│ f64       ┆ f64       ┆ f64       ┆           ┆   ┆           ┆ list[f64] ┆           ┆ ]        │\n",
      "╞═══════════╪═══════════╪═══════════╪═══════════╪═══╪═══════════╪═══════════╪═══════════╪══════════╡\n",
      "│ 349.57410 ┆ 70.217865 ┆ 19.635538 ┆ -0.001617 ┆ … ┆ [5.87136, ┆ [2.8092e- ┆ [1.3595e- ┆ [2.4710e │\n",
      "│ 7         ┆           ┆           ┆           ┆   ┆ 2.346457, ┆ 7, 5.0594 ┆ 7, 1.5698 ┆ -8, 3.09 │\n",
      "│           ┆           ┆           ┆           ┆   ┆ …         ┆ e-7, …    ┆ e-7, …    ┆ 38e-8, … │\n",
      "│           ┆           ┆           ┆           ┆   ┆ -0.41323… ┆ 4.487…    ┆ 9.986…    ┆ 4.908…   │\n",
      "└───────────┴───────────┴───────────┴───────────┴───┴───────────┴───────────┴───────────┴──────────┘\n",
      "shape: (1, 24)\n",
      "┌───────────┬───────────┬───────────┬───────────┬───┬───────────┬───────────┬───────────┬──────────┐\n",
      "│ pbuf_SOLI ┆ pbuf_LHFL ┆ pbuf_SHFL ┆ pbuf_TAUX ┆ … ┆ state_v   ┆ pbuf_ozon ┆ pbuf_CH4  ┆ pbuf_N2O │\n",
      "│ N         ┆ X         ┆ X         ┆ ---       ┆   ┆ ---       ┆ e         ┆ ---       ┆ ---      │\n",
      "│ ---       ┆ ---       ┆ ---       ┆ f64       ┆   ┆ list[f64] ┆ ---       ┆ list[f64] ┆ list[f64 │\n",
      "│ f64       ┆ f64       ┆ f64       ┆           ┆   ┆           ┆ list[f64] ┆           ┆ ]        │\n",
      "╞═══════════╪═══════════╪═══════════╪═══════════╪═══╪═══════════╪═══════════╪═══════════╪══════════╡\n",
      "│ 451.50006 ┆ 80.06469  ┆ 52.737542 ┆ 0.073231  ┆ … ┆ [22.31343 ┆ [2.9091e- ┆ [6.7360e- ┆ [1.2311e │\n",
      "│ 8         ┆           ┆           ┆           ┆   ┆ 2, 16.557 ┆ 8, 5.2395 ┆ 8, 7.6307 ┆ -8, 1.49 │\n",
      "│           ┆           ┆           ┆           ┆   ┆ 431, …    ┆ e-8, …    ┆ e-8, …    ┆ 57e-8, … │\n",
      "│           ┆           ┆           ┆           ┆   ┆ 4.196…    ┆ 2.031…    ┆ 2.117…    ┆ 0.0]     │\n",
      "└───────────┴───────────┴───────────┴───────────┴───┴───────────┴───────────┴───────────┴──────────┘\n"
     ]
    },
    {
     "ename": "ValueError",
     "evalue": "can only call `.item()` if the dataframe is of shape (1, 1), or if explicit row/col values are provided; frame has shape (1, 24)",
     "output_type": "error",
     "traceback": [
      "\u001b[0;31m---------------------------------------------------------------------------\u001b[0m",
      "\u001b[0;31mValueError\u001b[0m                                Traceback (most recent call last)",
      "\u001b[0;32m/tmp/ipykernel_27742/3349364501.py\u001b[0m in \u001b[0;36m?\u001b[0;34m()\u001b[0m\n\u001b[0;32m----> 1\u001b[0;31m \u001b[0mdf2\u001b[0m \u001b[0;34m=\u001b[0m \u001b[0mnormalize\u001b[0m\u001b[0;34m(\u001b[0m\u001b[0mdf\u001b[0m\u001b[0;34m,\u001b[0m \u001b[0mIN_SCALAR_COLUMNS\u001b[0m\u001b[0;34m+\u001b[0m\u001b[0mIN_VECTOR_COLUMNS\u001b[0m\u001b[0;34m,\u001b[0m \u001b[0mOUT_SCALAR_COLUMNS\u001b[0m\u001b[0;34m+\u001b[0m\u001b[0mOUT_VECTOR_COLUMNS\u001b[0m\u001b[0;34m,\u001b[0m \u001b[0;34m\"standard\"\u001b[0m\u001b[0;34m,\u001b[0m \u001b[0;34m\"../../data/leap/\"\u001b[0m\u001b[0;34m,\u001b[0m \u001b[0mreverse\u001b[0m\u001b[0;34m=\u001b[0m\u001b[0;32mFalse\u001b[0m\u001b[0;34m)\u001b[0m\u001b[0;34m\u001b[0m\u001b[0;34m\u001b[0m\u001b[0m\n\u001b[0m",
      "\u001b[0;32m/tmp/ipykernel_27742/595397225.py\u001b[0m in \u001b[0;36m?\u001b[0;34m(df, feat_cols, label_cols, method, path, reverse, eps)\u001b[0m\n\u001b[1;32m      6\u001b[0m         \u001b[0;32mfor\u001b[0m \u001b[0mcol\u001b[0m \u001b[0;32min\u001b[0m \u001b[0mfeat_cols\u001b[0m\u001b[0;34m:\u001b[0m\u001b[0;34m\u001b[0m\u001b[0;34m\u001b[0m\u001b[0m\n\u001b[1;32m      7\u001b[0m             \u001b[0mprint\u001b[0m\u001b[0;34m(\u001b[0m\u001b[0mx_stats_df\u001b[0m\u001b[0;34m[\u001b[0m\u001b[0;36m0\u001b[0m\u001b[0;34m,\u001b[0m \u001b[0;36m1\u001b[0m\u001b[0;34m:\u001b[0m\u001b[0;34m]\u001b[0m\u001b[0;34m)\u001b[0m\u001b[0;34m\u001b[0m\u001b[0;34m\u001b[0m\u001b[0m\n\u001b[1;32m      8\u001b[0m             \u001b[0mprint\u001b[0m\u001b[0;34m(\u001b[0m\u001b[0mx_stats_df\u001b[0m\u001b[0;34m[\u001b[0m\u001b[0;36m1\u001b[0m\u001b[0;34m,\u001b[0m \u001b[0;36m1\u001b[0m\u001b[0;34m:\u001b[0m\u001b[0;34m]\u001b[0m\u001b[0;34m)\u001b[0m\u001b[0;34m\u001b[0m\u001b[0;34m\u001b[0m\u001b[0m\n\u001b[1;32m      9\u001b[0m             df = df.with_columns(\n\u001b[0;32m---> 10\u001b[0;31m                 \u001b[0;34m(\u001b[0m\u001b[0mpl\u001b[0m\u001b[0;34m.\u001b[0m\u001b[0mcol\u001b[0m\u001b[0;34m(\u001b[0m\u001b[0mcol\u001b[0m\u001b[0;34m)\u001b[0m \u001b[0;34m-\u001b[0m \u001b[0mx_stats_df\u001b[0m\u001b[0;34m[\u001b[0m\u001b[0;36m0\u001b[0m\u001b[0;34m,\u001b[0m \u001b[0;36m1\u001b[0m\u001b[0;34m:\u001b[0m\u001b[0;34m]\u001b[0m\u001b[0;34m)\u001b[0m \u001b[0;34m/\u001b[0m \u001b[0mx_stats_df\u001b[0m\u001b[0;34m[\u001b[0m\u001b[0;36m1\u001b[0m\u001b[0;34m,\u001b[0m \u001b[0;36m1\u001b[0m\u001b[0;34m:\u001b[0m\u001b[0;34m]\u001b[0m\u001b[0;34m.\u001b[0m\u001b[0mclip\u001b[0m\u001b[0;34m(\u001b[0m\u001b[0meps\u001b[0m\u001b[0;34m)\u001b[0m\u001b[0;34m\u001b[0m\u001b[0;34m\u001b[0m\u001b[0m\n\u001b[0m\u001b[1;32m     11\u001b[0m             )\n\u001b[1;32m     12\u001b[0m         \u001b[0mprint\u001b[0m\u001b[0;34m(\u001b[0m\u001b[0mdf\u001b[0m\u001b[0;34m)\u001b[0m\u001b[0;34m\u001b[0m\u001b[0;34m\u001b[0m\u001b[0m\n\u001b[1;32m     13\u001b[0m         \u001b[0;32mif\u001b[0m \u001b[0mfeat_cols\u001b[0m \u001b[0;32mis\u001b[0m \u001b[0;32mnot\u001b[0m \u001b[0;32mNone\u001b[0m\u001b[0;34m:\u001b[0m\u001b[0;34m\u001b[0m\u001b[0;34m\u001b[0m\u001b[0m\n",
      "\u001b[0;32m~/.local/lib/python3.9/site-packages/polars/expr/expr.py\u001b[0m in \u001b[0;36m?\u001b[0;34m(self, other)\u001b[0m\n\u001b[1;32m    263\u001b[0m     \u001b[0;32mdef\u001b[0m \u001b[0m__sub__\u001b[0m\u001b[0;34m(\u001b[0m\u001b[0mself\u001b[0m\u001b[0;34m,\u001b[0m \u001b[0mother\u001b[0m\u001b[0;34m:\u001b[0m \u001b[0mIntoExpr\u001b[0m\u001b[0;34m)\u001b[0m \u001b[0;34m->\u001b[0m \u001b[0mSelf\u001b[0m\u001b[0;34m:\u001b[0m\u001b[0;34m\u001b[0m\u001b[0;34m\u001b[0m\u001b[0m\n\u001b[0;32m--> 264\u001b[0;31m         \u001b[0mother\u001b[0m \u001b[0;34m=\u001b[0m \u001b[0mparse_as_expression\u001b[0m\u001b[0;34m(\u001b[0m\u001b[0mother\u001b[0m\u001b[0;34m)\u001b[0m\u001b[0;34m\u001b[0m\u001b[0;34m\u001b[0m\u001b[0m\n\u001b[0m\u001b[1;32m    265\u001b[0m         \u001b[0;32mreturn\u001b[0m \u001b[0mself\u001b[0m\u001b[0;34m.\u001b[0m\u001b[0m_from_pyexpr\u001b[0m\u001b[0;34m(\u001b[0m\u001b[0mself\u001b[0m\u001b[0;34m.\u001b[0m\u001b[0m_pyexpr\u001b[0m \u001b[0;34m-\u001b[0m \u001b[0mother\u001b[0m\u001b[0;34m)\u001b[0m\u001b[0;34m\u001b[0m\u001b[0;34m\u001b[0m\u001b[0m\n",
      "\u001b[0;32m~/.local/lib/python3.9/site-packages/polars/_utils/parse_expr_input.py\u001b[0m in \u001b[0;36m?\u001b[0;34m(input, str_as_lit, list_as_lit, structify, dtype)\u001b[0m\n\u001b[1;32m    121\u001b[0m     \u001b[0;32melif\u001b[0m \u001b[0misinstance\u001b[0m\u001b[0;34m(\u001b[0m\u001b[0minput\u001b[0m\u001b[0;34m,\u001b[0m \u001b[0mlist\u001b[0m\u001b[0;34m)\u001b[0m \u001b[0;32mand\u001b[0m \u001b[0;32mnot\u001b[0m \u001b[0mlist_as_lit\u001b[0m\u001b[0;34m:\u001b[0m\u001b[0;34m\u001b[0m\u001b[0;34m\u001b[0m\u001b[0m\n\u001b[1;32m    122\u001b[0m         \u001b[0mexpr\u001b[0m \u001b[0;34m=\u001b[0m \u001b[0mF\u001b[0m\u001b[0;34m.\u001b[0m\u001b[0mlit\u001b[0m\u001b[0;34m(\u001b[0m\u001b[0mpl\u001b[0m\u001b[0;34m.\u001b[0m\u001b[0mSeries\u001b[0m\u001b[0;34m(\u001b[0m\u001b[0minput\u001b[0m\u001b[0;34m)\u001b[0m\u001b[0;34m,\u001b[0m \u001b[0mdtype\u001b[0m\u001b[0;34m=\u001b[0m\u001b[0mdtype\u001b[0m\u001b[0;34m)\u001b[0m\u001b[0;34m\u001b[0m\u001b[0;34m\u001b[0m\u001b[0m\n\u001b[1;32m    123\u001b[0m         \u001b[0mstructify\u001b[0m \u001b[0;34m=\u001b[0m \u001b[0;32mFalse\u001b[0m\u001b[0;34m\u001b[0m\u001b[0;34m\u001b[0m\u001b[0m\n\u001b[1;32m    124\u001b[0m     \u001b[0;32melse\u001b[0m\u001b[0;34m:\u001b[0m\u001b[0;34m\u001b[0m\u001b[0;34m\u001b[0m\u001b[0m\n\u001b[0;32m--> 125\u001b[0;31m         \u001b[0mexpr\u001b[0m \u001b[0;34m=\u001b[0m \u001b[0mF\u001b[0m\u001b[0;34m.\u001b[0m\u001b[0mlit\u001b[0m\u001b[0;34m(\u001b[0m\u001b[0minput\u001b[0m\u001b[0;34m,\u001b[0m \u001b[0mdtype\u001b[0m\u001b[0;34m=\u001b[0m\u001b[0mdtype\u001b[0m\u001b[0;34m)\u001b[0m\u001b[0;34m\u001b[0m\u001b[0;34m\u001b[0m\u001b[0m\n\u001b[0m\u001b[1;32m    126\u001b[0m         \u001b[0mstructify\u001b[0m \u001b[0;34m=\u001b[0m \u001b[0;32mFalse\u001b[0m\u001b[0;34m\u001b[0m\u001b[0;34m\u001b[0m\u001b[0m\n\u001b[1;32m    127\u001b[0m \u001b[0;34m\u001b[0m\u001b[0m\n\u001b[1;32m    128\u001b[0m     \u001b[0;32mif\u001b[0m \u001b[0mstructify\u001b[0m\u001b[0;34m:\u001b[0m\u001b[0;34m\u001b[0m\u001b[0;34m\u001b[0m\u001b[0m\n",
      "\u001b[0;32m~/.local/lib/python3.9/site-packages/polars/functions/lit.py\u001b[0m in \u001b[0;36m?\u001b[0;34m(value, dtype, allow_object)\u001b[0m\n\u001b[1;32m    147\u001b[0m                 \u001b[0mtime_unit\u001b[0m \u001b[0;34m=\u001b[0m \u001b[0mdtype_name\u001b[0m\u001b[0;34m[\u001b[0m\u001b[0mlen\u001b[0m\u001b[0;34m(\u001b[0m\u001b[0;34m\"timedelta64[\"\u001b[0m\u001b[0;34m)\u001b[0m \u001b[0;34m:\u001b[0m \u001b[0;34m-\u001b[0m\u001b[0;36m1\u001b[0m\u001b[0;34m]\u001b[0m\u001b[0;34m\u001b[0m\u001b[0;34m\u001b[0m\u001b[0m\n\u001b[1;32m    148\u001b[0m                 \u001b[0;32mreturn\u001b[0m \u001b[0mlit\u001b[0m\u001b[0;34m(\u001b[0m\u001b[0mitem\u001b[0m\u001b[0;34m)\u001b[0m\u001b[0;34m.\u001b[0m\u001b[0mcast\u001b[0m\u001b[0;34m(\u001b[0m\u001b[0mDuration\u001b[0m\u001b[0;34m(\u001b[0m\u001b[0mtime_unit\u001b[0m\u001b[0;34m)\u001b[0m\u001b[0;34m)\u001b[0m\u001b[0;34m\u001b[0m\u001b[0;34m\u001b[0m\u001b[0m\n\u001b[1;32m    149\u001b[0m \u001b[0;34m\u001b[0m\u001b[0m\n\u001b[1;32m    150\u001b[0m     \u001b[0;32mexcept\u001b[0m \u001b[0mAttributeError\u001b[0m\u001b[0;34m:\u001b[0m\u001b[0;34m\u001b[0m\u001b[0;34m\u001b[0m\u001b[0m\n\u001b[0;32m--> 151\u001b[0;31m         \u001b[0mitem\u001b[0m \u001b[0;34m=\u001b[0m \u001b[0mvalue\u001b[0m\u001b[0;34m\u001b[0m\u001b[0;34m\u001b[0m\u001b[0m\n\u001b[0m\u001b[1;32m    152\u001b[0m \u001b[0;34m\u001b[0m\u001b[0m\n\u001b[1;32m    153\u001b[0m     \u001b[0;32mreturn\u001b[0m \u001b[0mwrap_expr\u001b[0m\u001b[0;34m(\u001b[0m\u001b[0mplr\u001b[0m\u001b[0;34m.\u001b[0m\u001b[0mlit\u001b[0m\u001b[0;34m(\u001b[0m\u001b[0mitem\u001b[0m\u001b[0;34m,\u001b[0m \u001b[0mallow_object\u001b[0m\u001b[0;34m)\u001b[0m\u001b[0;34m)\u001b[0m\u001b[0;34m\u001b[0m\u001b[0;34m\u001b[0m\u001b[0m\n",
      "\u001b[0;32m~/.local/lib/python3.9/site-packages/polars/dataframe/frame.py\u001b[0m in \u001b[0;36m?\u001b[0;34m(self, row, column)\u001b[0m\n\u001b[1;32m   1251\u001b[0m                     \u001b[0;34m\"can only call `.item()` if the dataframe is of shape (1, 1),\"\u001b[0m\u001b[0;34m\u001b[0m\u001b[0;34m\u001b[0m\u001b[0m\n\u001b[1;32m   1252\u001b[0m                     \u001b[0;34m\" or if explicit row/col values are provided;\"\u001b[0m\u001b[0;34m\u001b[0m\u001b[0;34m\u001b[0m\u001b[0m\n\u001b[1;32m   1253\u001b[0m                     \u001b[0;34mf\" frame has shape {self.shape!r}\"\u001b[0m\u001b[0;34m\u001b[0m\u001b[0;34m\u001b[0m\u001b[0m\n\u001b[1;32m   1254\u001b[0m                 )\n\u001b[0;32m-> 1255\u001b[0;31m                 \u001b[0;32mraise\u001b[0m \u001b[0mValueError\u001b[0m\u001b[0;34m(\u001b[0m\u001b[0mmsg\u001b[0m\u001b[0;34m)\u001b[0m\u001b[0;34m\u001b[0m\u001b[0;34m\u001b[0m\u001b[0m\n\u001b[0m\u001b[1;32m   1256\u001b[0m             \u001b[0;32mreturn\u001b[0m \u001b[0mself\u001b[0m\u001b[0;34m.\u001b[0m\u001b[0m_df\u001b[0m\u001b[0;34m.\u001b[0m\u001b[0mto_series\u001b[0m\u001b[0;34m(\u001b[0m\u001b[0;36m0\u001b[0m\u001b[0;34m)\u001b[0m\u001b[0;34m.\u001b[0m\u001b[0mget_index\u001b[0m\u001b[0;34m(\u001b[0m\u001b[0;36m0\u001b[0m\u001b[0;34m)\u001b[0m\u001b[0;34m\u001b[0m\u001b[0;34m\u001b[0m\u001b[0m\n\u001b[1;32m   1257\u001b[0m \u001b[0;34m\u001b[0m\u001b[0m\n\u001b[1;32m   1258\u001b[0m         \u001b[0;32melif\u001b[0m \u001b[0mrow\u001b[0m \u001b[0;32mis\u001b[0m \u001b[0;32mNone\u001b[0m \u001b[0;32mor\u001b[0m \u001b[0mcolumn\u001b[0m \u001b[0;32mis\u001b[0m \u001b[0;32mNone\u001b[0m\u001b[0;34m:\u001b[0m\u001b[0;34m\u001b[0m\u001b[0;34m\u001b[0m\u001b[0m\n",
      "\u001b[0;31mValueError\u001b[0m: can only call `.item()` if the dataframe is of shape (1, 1), or if explicit row/col values are provided; frame has shape (1, 24)"
     ]
    }
   ],
   "source": [
    "df2 = normalize(df, IN_SCALAR_COLUMNS+IN_VECTOR_COLUMNS, OUT_SCALAR_COLUMNS+OUT_VECTOR_COLUMNS, \"standard\", \"../../data/leap/\", reverse=False)"
   ]
  },
  {
   "cell_type": "code",
   "execution_count": null,
   "id": "f899e4e8-5805-417b-b5b0-98f612fe5916",
   "metadata": {},
   "outputs": [],
   "source": [
    "df3 = normalize(df2, feat_cols, label_cols, \"robust\", data_dir, reverse=True)"
   ]
  },
  {
   "cell_type": "code",
   "execution_count": 98,
   "id": "cdb15277-64a3-4fef-8886-b37031734645",
   "metadata": {},
   "outputs": [
    {
     "data": {
      "text/html": [
       "<div><style>\n",
       ".dataframe > thead > tr,\n",
       ".dataframe > tbody > tr {\n",
       "  text-align: right;\n",
       "  white-space: pre-wrap;\n",
       "}\n",
       "</style>\n",
       "<small>shape: (5, 925)</small><table border=\"1\" class=\"dataframe\"><thead><tr><th>sample_id</th><th>state_t_0</th><th>state_t_1</th><th>state_t_2</th><th>state_t_3</th><th>state_t_4</th><th>state_t_5</th><th>state_t_6</th><th>state_t_7</th><th>state_t_8</th><th>state_t_9</th><th>state_t_10</th><th>state_t_11</th><th>state_t_12</th><th>state_t_13</th><th>state_t_14</th><th>state_t_15</th><th>state_t_16</th><th>state_t_17</th><th>state_t_18</th><th>state_t_19</th><th>state_t_20</th><th>state_t_21</th><th>state_t_22</th><th>state_t_23</th><th>state_t_24</th><th>state_t_25</th><th>state_t_26</th><th>state_t_27</th><th>state_t_28</th><th>state_t_29</th><th>state_t_30</th><th>state_t_31</th><th>state_t_32</th><th>state_t_33</th><th>state_t_34</th><th>state_t_35</th><th>&hellip;</th><th>ptend_v_31</th><th>ptend_v_32</th><th>ptend_v_33</th><th>ptend_v_34</th><th>ptend_v_35</th><th>ptend_v_36</th><th>ptend_v_37</th><th>ptend_v_38</th><th>ptend_v_39</th><th>ptend_v_40</th><th>ptend_v_41</th><th>ptend_v_42</th><th>ptend_v_43</th><th>ptend_v_44</th><th>ptend_v_45</th><th>ptend_v_46</th><th>ptend_v_47</th><th>ptend_v_48</th><th>ptend_v_49</th><th>ptend_v_50</th><th>ptend_v_51</th><th>ptend_v_52</th><th>ptend_v_53</th><th>ptend_v_54</th><th>ptend_v_55</th><th>ptend_v_56</th><th>ptend_v_57</th><th>ptend_v_58</th><th>ptend_v_59</th><th>cam_out_NETSW</th><th>cam_out_FLWDS</th><th>cam_out_PRECSC</th><th>cam_out_PRECC</th><th>cam_out_SOLS</th><th>cam_out_SOLL</th><th>cam_out_SOLSD</th><th>cam_out_SOLLD</th></tr><tr><td>str</td><td>f64</td><td>f64</td><td>f64</td><td>f64</td><td>f64</td><td>f64</td><td>f64</td><td>f64</td><td>f64</td><td>f64</td><td>f64</td><td>f64</td><td>f64</td><td>f64</td><td>f64</td><td>f64</td><td>f64</td><td>f64</td><td>f64</td><td>f64</td><td>f64</td><td>f64</td><td>f64</td><td>f64</td><td>f64</td><td>f64</td><td>f64</td><td>f64</td><td>f64</td><td>f64</td><td>f64</td><td>f64</td><td>f64</td><td>f64</td><td>f64</td><td>f64</td><td>&hellip;</td><td>f64</td><td>f64</td><td>f64</td><td>f64</td><td>f64</td><td>f64</td><td>f64</td><td>f64</td><td>f64</td><td>f64</td><td>f64</td><td>f64</td><td>f64</td><td>f64</td><td>f64</td><td>f64</td><td>f64</td><td>f64</td><td>f64</td><td>f64</td><td>f64</td><td>f64</td><td>f64</td><td>f64</td><td>f64</td><td>f64</td><td>f64</td><td>f64</td><td>f64</td><td>f64</td><td>f64</td><td>f64</td><td>f64</td><td>f64</td><td>f64</td><td>f64</td><td>f64</td></tr></thead><tbody><tr><td>&quot;train_0&quot;</td><td>213.806117</td><td>222.244454</td><td>229.259879</td><td>245.743959</td><td>258.337482</td><td>265.772467</td><td>263.978456</td><td>254.879872</td><td>243.946147</td><td>236.70699</td><td>230.934476</td><td>226.459626</td><td>222.014096</td><td>216.91297</td><td>210.688514</td><td>205.181518</td><td>201.649949</td><td>199.354256</td><td>196.582987</td><td>198.08732</td><td>200.30267</td><td>204.5107</td><td>209.294262</td><td>214.299322</td><td>219.180883</td><td>223.644692</td><td>227.899269</td><td>231.883467</td><td>235.859155</td><td>239.75449</td><td>243.663599</td><td>247.494148</td><td>251.145756</td><td>254.734832</td><td>258.118795</td><td>261.322883</td><td>&hellip;</td><td>0.077274</td><td>0.050239</td><td>0.003729</td><td>-0.010824</td><td>-0.014926</td><td>-0.021633</td><td>0.00233</td><td>0.021499</td><td>-0.002053</td><td>0.019015</td><td>-0.003287</td><td>-0.022154</td><td>-0.029056</td><td>0.002452</td><td>-0.073034</td><td>-0.156892</td><td>-0.047535</td><td>-0.382321</td><td>-0.357464</td><td>-1.05782</td><td>-0.368499</td><td>0.981896</td><td>0.725763</td><td>0.257836</td><td>0.099358</td><td>0.007303</td><td>-0.041045</td><td>-0.025254</td><td>0.040925</td><td>0.0</td><td>4.8528</td><td>0.0</td><td>0.000036</td><td>0.0</td><td>0.0</td><td>0.0</td><td>0.0</td></tr><tr><td>&quot;train_1&quot;</td><td>213.17743</td><td>225.851064</td><td>229.663618</td><td>246.828333</td><td>261.026415</td><td>269.078431</td><td>267.736565</td><td>256.896227</td><td>244.169421</td><td>236.844423</td><td>231.586369</td><td>227.873491</td><td>224.125186</td><td>219.864133</td><td>214.768666</td><td>209.773682</td><td>206.593758</td><td>205.144601</td><td>202.21968</td><td>203.165579</td><td>203.691769</td><td>206.691885</td><td>210.018967</td><td>213.651746</td><td>217.22671</td><td>220.732834</td><td>224.271241</td><td>227.879259</td><td>231.523113</td><td>235.206556</td><td>238.911192</td><td>242.569836</td><td>246.095623</td><td>249.661886</td><td>253.170195</td><td>256.545214</td><td>&hellip;</td><td>0.028818</td><td>-0.248265</td><td>0.067292</td><td>-0.067687</td><td>-0.069926</td><td>0.047825</td><td>0.019616</td><td>-0.042126</td><td>0.051219</td><td>0.026741</td><td>-0.017223</td><td>-0.132325</td><td>-0.002659</td><td>0.120503</td><td>-0.11757</td><td>-0.306287</td><td>-0.354408</td><td>-0.138098</td><td>-0.476167</td><td>-0.764134</td><td>-0.376146</td><td>0.677455</td><td>0.838971</td><td>0.430475</td><td>0.134241</td><td>0.025993</td><td>-0.031359</td><td>0.014665</td><td>0.02915</td><td>0.0</td><td>4.653445</td><td>0.0</td><td>0.03835</td><td>0.0</td><td>0.0</td><td>0.0</td><td>0.0</td></tr><tr><td>&quot;train_2&quot;</td><td>217.105685</td><td>220.448106</td><td>234.653398</td><td>244.422951</td><td>254.023818</td><td>259.651472</td><td>257.709514</td><td>251.064513</td><td>241.8796</td><td>234.487318</td><td>228.294373</td><td>223.660529</td><td>219.108751</td><td>214.820508</td><td>208.639566</td><td>201.055995</td><td>193.462408</td><td>190.267832</td><td>188.690119</td><td>189.957238</td><td>196.482059</td><td>203.461783</td><td>210.517854</td><td>217.264497</td><td>223.298206</td><td>228.871994</td><td>234.369621</td><td>239.208271</td><td>243.596733</td><td>247.688112</td><td>251.639426</td><td>255.233656</td><td>258.531051</td><td>261.569665</td><td>264.470169</td><td>267.068563</td><td>&hellip;</td><td>-0.235248</td><td>-0.08398</td><td>-0.191327</td><td>-0.086259</td><td>-0.099767</td><td>0.019407</td><td>-0.023919</td><td>-0.041256</td><td>0.063648</td><td>-0.054575</td><td>-0.038737</td><td>-0.06728</td><td>-0.030177</td><td>0.040633</td><td>0.11985</td><td>0.414091</td><td>0.795404</td><td>0.704266</td><td>0.872761</td><td>0.239491</td><td>-0.227583</td><td>-0.804225</td><td>-1.448928</td><td>-1.190546</td><td>-0.677759</td><td>-0.430936</td><td>-0.129996</td><td>0.06448</td><td>1.806126</td><td>0.0</td><td>5.576699</td><td>0.0</td><td>0.090722</td><td>0.0</td><td>0.0</td><td>0.0</td><td>0.0</td></tr><tr><td>&quot;train_3&quot;</td><td>217.773994</td><td>225.611775</td><td>234.104091</td><td>247.745365</td><td>257.411402</td><td>263.470947</td><td>261.131775</td><td>253.30325</td><td>242.316814</td><td>234.396266</td><td>227.95502</td><td>223.999858</td><td>219.658845</td><td>215.24492</td><td>210.214695</td><td>204.137721</td><td>196.509274</td><td>191.893671</td><td>189.929401</td><td>190.806367</td><td>196.69688</td><td>203.68075</td><td>210.684974</td><td>217.256992</td><td>223.168849</td><td>228.660408</td><td>233.845497</td><td>238.535216</td><td>242.74732</td><td>246.688901</td><td>250.429055</td><td>253.907015</td><td>257.260424</td><td>260.436627</td><td>263.363255</td><td>266.154815</td><td>&hellip;</td><td>-0.208491</td><td>-0.300406</td><td>-0.113838</td><td>-0.010512</td><td>-0.002416</td><td>-0.023076</td><td>0.039271</td><td>0.002193</td><td>-0.014658</td><td>0.020225</td><td>-0.022797</td><td>0.022293</td><td>0.099048</td><td>-0.006137</td><td>0.169554</td><td>0.333702</td><td>0.166173</td><td>-0.105038</td><td>-0.176849</td><td>-0.075022</td><td>0.202431</td><td>0.540401</td><td>-0.051315</td><td>-0.306277</td><td>-0.27705</td><td>-0.199926</td><td>-0.199002</td><td>-0.373422</td><td>0.297932</td><td>0.0</td><td>5.556165</td><td>0.0</td><td>0.309659</td><td>0.0</td><td>0.0</td><td>0.0</td><td>0.0</td></tr><tr><td>&quot;train_4&quot;</td><td>216.349337</td><td>230.526083</td><td>233.650252</td><td>248.196013</td><td>262.50073</td><td>270.055663</td><td>268.863606</td><td>258.161645</td><td>244.44262</td><td>236.779096</td><td>231.508378</td><td>227.968412</td><td>224.863747</td><td>221.415977</td><td>217.325766</td><td>213.113691</td><td>209.607872</td><td>207.829591</td><td>204.866553</td><td>205.55398</td><td>205.036638</td><td>207.604275</td><td>210.501407</td><td>213.802681</td><td>217.053629</td><td>220.416544</td><td>223.803482</td><td>227.157857</td><td>230.464429</td><td>233.723924</td><td>236.938842</td><td>240.118405</td><td>243.26515</td><td>246.338046</td><td>249.61741</td><td>253.012313</td><td>&hellip;</td><td>-0.068307</td><td>-0.02148</td><td>0.012922</td><td>0.021751</td><td>-0.053205</td><td>-0.206038</td><td>0.143681</td><td>-0.007349</td><td>-0.005018</td><td>0.010547</td><td>-0.024656</td><td>0.022587</td><td>-0.003921</td><td>0.02003</td><td>-0.005201</td><td>0.037001</td><td>0.049513</td><td>0.08375</td><td>0.044469</td><td>-0.106598</td><td>-0.221449</td><td>-0.242982</td><td>0.355647</td><td>0.309179</td><td>-0.036999</td><td>-0.077653</td><td>-0.045229</td><td>0.069254</td><td>-0.186223</td><td>0.0</td><td>4.469592</td><td>0.0</td><td>0.004127</td><td>0.0</td><td>0.0</td><td>0.0</td><td>0.0</td></tr></tbody></table></div>"
      ],
      "text/plain": [
       "shape: (5, 925)\n",
       "┌───────────┬───────────┬───────────┬───────────┬───┬───────────┬───────────┬───────────┬──────────┐\n",
       "│ sample_id ┆ state_t_0 ┆ state_t_1 ┆ state_t_2 ┆ … ┆ cam_out_S ┆ cam_out_S ┆ cam_out_S ┆ cam_out_ │\n",
       "│ ---       ┆ ---       ┆ ---       ┆ ---       ┆   ┆ OLS       ┆ OLL       ┆ OLSD      ┆ SOLLD    │\n",
       "│ str       ┆ f64       ┆ f64       ┆ f64       ┆   ┆ ---       ┆ ---       ┆ ---       ┆ ---      │\n",
       "│           ┆           ┆           ┆           ┆   ┆ f64       ┆ f64       ┆ f64       ┆ f64      │\n",
       "╞═══════════╪═══════════╪═══════════╪═══════════╪═══╪═══════════╪═══════════╪═══════════╪══════════╡\n",
       "│ train_0   ┆ 213.80611 ┆ 222.24445 ┆ 229.25987 ┆ … ┆ 0.0       ┆ 0.0       ┆ 0.0       ┆ 0.0      │\n",
       "│           ┆ 7         ┆ 4         ┆ 9         ┆   ┆           ┆           ┆           ┆          │\n",
       "│ train_1   ┆ 213.17743 ┆ 225.85106 ┆ 229.66361 ┆ … ┆ 0.0       ┆ 0.0       ┆ 0.0       ┆ 0.0      │\n",
       "│           ┆           ┆ 4         ┆ 8         ┆   ┆           ┆           ┆           ┆          │\n",
       "│ train_2   ┆ 217.10568 ┆ 220.44810 ┆ 234.65339 ┆ … ┆ 0.0       ┆ 0.0       ┆ 0.0       ┆ 0.0      │\n",
       "│           ┆ 5         ┆ 6         ┆ 8         ┆   ┆           ┆           ┆           ┆          │\n",
       "│ train_3   ┆ 217.77399 ┆ 225.61177 ┆ 234.10409 ┆ … ┆ 0.0       ┆ 0.0       ┆ 0.0       ┆ 0.0      │\n",
       "│           ┆ 4         ┆ 5         ┆ 1         ┆   ┆           ┆           ┆           ┆          │\n",
       "│ train_4   ┆ 216.34933 ┆ 230.52608 ┆ 233.65025 ┆ … ┆ 0.0       ┆ 0.0       ┆ 0.0       ┆ 0.0      │\n",
       "│           ┆ 7         ┆ 3         ┆ 2         ┆   ┆           ┆           ┆           ┆          │\n",
       "└───────────┴───────────┴───────────┴───────────┴───┴───────────┴───────────┴───────────┴──────────┘"
      ]
     },
     "execution_count": 98,
     "metadata": {},
     "output_type": "execute_result"
    }
   ],
   "source": [
    "df.head()"
   ]
  },
  {
   "cell_type": "code",
   "execution_count": 99,
   "id": "dacdda3a-8f7d-4d22-969a-6aade2d4b4cf",
   "metadata": {},
   "outputs": [
    {
     "data": {
      "text/html": [
       "<div><style>\n",
       ".dataframe > thead > tr,\n",
       ".dataframe > tbody > tr {\n",
       "  text-align: right;\n",
       "  white-space: pre-wrap;\n",
       "}\n",
       "</style>\n",
       "<small>shape: (5, 925)</small><table border=\"1\" class=\"dataframe\"><thead><tr><th>sample_id</th><th>state_t_0</th><th>state_t_1</th><th>state_t_2</th><th>state_t_3</th><th>state_t_4</th><th>state_t_5</th><th>state_t_6</th><th>state_t_7</th><th>state_t_8</th><th>state_t_9</th><th>state_t_10</th><th>state_t_11</th><th>state_t_12</th><th>state_t_13</th><th>state_t_14</th><th>state_t_15</th><th>state_t_16</th><th>state_t_17</th><th>state_t_18</th><th>state_t_19</th><th>state_t_20</th><th>state_t_21</th><th>state_t_22</th><th>state_t_23</th><th>state_t_24</th><th>state_t_25</th><th>state_t_26</th><th>state_t_27</th><th>state_t_28</th><th>state_t_29</th><th>state_t_30</th><th>state_t_31</th><th>state_t_32</th><th>state_t_33</th><th>state_t_34</th><th>state_t_35</th><th>&hellip;</th><th>ptend_v_31</th><th>ptend_v_32</th><th>ptend_v_33</th><th>ptend_v_34</th><th>ptend_v_35</th><th>ptend_v_36</th><th>ptend_v_37</th><th>ptend_v_38</th><th>ptend_v_39</th><th>ptend_v_40</th><th>ptend_v_41</th><th>ptend_v_42</th><th>ptend_v_43</th><th>ptend_v_44</th><th>ptend_v_45</th><th>ptend_v_46</th><th>ptend_v_47</th><th>ptend_v_48</th><th>ptend_v_49</th><th>ptend_v_50</th><th>ptend_v_51</th><th>ptend_v_52</th><th>ptend_v_53</th><th>ptend_v_54</th><th>ptend_v_55</th><th>ptend_v_56</th><th>ptend_v_57</th><th>ptend_v_58</th><th>ptend_v_59</th><th>cam_out_NETSW</th><th>cam_out_FLWDS</th><th>cam_out_PRECSC</th><th>cam_out_PRECC</th><th>cam_out_SOLS</th><th>cam_out_SOLL</th><th>cam_out_SOLSD</th><th>cam_out_SOLLD</th></tr><tr><td>str</td><td>f64</td><td>f64</td><td>f64</td><td>f64</td><td>f64</td><td>f64</td><td>f64</td><td>f64</td><td>f64</td><td>f64</td><td>f64</td><td>f64</td><td>f64</td><td>f64</td><td>f64</td><td>f64</td><td>f64</td><td>f64</td><td>f64</td><td>f64</td><td>f64</td><td>f64</td><td>f64</td><td>f64</td><td>f64</td><td>f64</td><td>f64</td><td>f64</td><td>f64</td><td>f64</td><td>f64</td><td>f64</td><td>f64</td><td>f64</td><td>f64</td><td>f64</td><td>&hellip;</td><td>f64</td><td>f64</td><td>f64</td><td>f64</td><td>f64</td><td>f64</td><td>f64</td><td>f64</td><td>f64</td><td>f64</td><td>f64</td><td>f64</td><td>f64</td><td>f64</td><td>f64</td><td>f64</td><td>f64</td><td>f64</td><td>f64</td><td>f64</td><td>f64</td><td>f64</td><td>f64</td><td>f64</td><td>f64</td><td>f64</td><td>f64</td><td>f64</td><td>f64</td><td>f64</td><td>f64</td><td>f64</td><td>f64</td><td>f64</td><td>f64</td><td>f64</td><td>f64</td></tr></thead><tbody><tr><td>&quot;train_0&quot;</td><td>-0.713707</td><td>-0.752541</td><td>-1.055099</td><td>-0.327045</td><td>0.233787</td><td>0.686094</td><td>0.798901</td><td>0.781238</td><td>0.757878</td><td>0.736784</td><td>0.727926</td><td>0.716836</td><td>0.681739</td><td>0.508096</td><td>0.259737</td><td>0.076422</td><td>0.052921</td><td>0.03848</td><td>-0.071003</td><td>-0.111658</td><td>-0.232328</td><td>-0.347658</td><td>-0.533177</td><td>-0.205376</td><td>-0.068896</td><td>-0.017096</td><td>0.004964</td><td>0.016984</td><td>0.033833</td><td>0.049833</td><td>0.067759</td><td>0.084918</td><td>0.101094</td><td>0.119905</td><td>0.136837</td><td>0.151588</td><td>&hellip;</td><td>0.74192</td><td>0.47553</td><td>0.034847</td><td>-0.101688</td><td>-0.147458</td><td>-0.240753</td><td>0.028156</td><td>0.288896</td><td>-0.029141</td><td>0.258235</td><td>-0.04196</td><td>-0.251296</td><td>-0.283825</td><td>0.020978</td><td>-0.539086</td><td>-1.021146</td><td>-0.277952</td><td>-2.027258</td><td>-1.714103</td><td>-4.517254</td><td>-1.406403</td><td>3.34451</td><td>2.076213</td><td>0.617423</td><td>0.202631</td><td>0.012774</td><td>-0.086667</td><td>-0.050205</td><td>0.076582</td><td>-0.000043</td><td>-0.078884</td><td>0.0</td><td>-0.205722</td><td>-1.8983e-22</td><td>-9.0914e-20</td><td>-0.014807</td><td>-0.027857</td></tr><tr><td>&quot;train_1&quot;</td><td>-0.835263</td><td>-0.42127</td><td>-1.00876</td><td>-0.173034</td><td>0.666733</td><td>1.193321</td><td>1.269759</td><td>1.029124</td><td>0.787481</td><td>0.75581</td><td>0.818148</td><td>0.905947</td><td>0.933945</td><td>0.828958</td><td>0.631217</td><td>0.396814</td><td>0.302135</td><td>0.279706</td><td>0.20511</td><td>0.188219</td><td>0.112203</td><td>0.106871</td><td>-0.267726</td><td>-0.325049</td><td>-0.285604</td><td>-0.254113</td><td>-0.236872</td><td>-0.216655</td><td>-0.196311</td><td>-0.176892</td><td>-0.159134</td><td>-0.143924</td><td>-0.130515</td><td>-0.111664</td><td>-0.090103</td><td>-0.069783</td><td>&hellip;</td><td>0.27668</td><td>-2.349927</td><td>0.628888</td><td>-0.635902</td><td>-0.690831</td><td>0.532246</td><td>0.237049</td><td>-0.566073</td><td>0.727144</td><td>0.363152</td><td>-0.219879</td><td>-1.50101</td><td>-0.025976</td><td>1.031099</td><td>-0.867826</td><td>-1.99351</td><td>-2.073169</td><td>-0.732086</td><td>-2.283334</td><td>-3.263112</td><td>-1.435591</td><td>2.306751</td><td>2.402319</td><td>1.042922</td><td>0.279261</td><td>0.052405</td><td>-0.066243</td><td>0.025775</td><td>0.055748</td><td>-0.000043</td><td>-0.21236</td><td>0.0</td><td>-0.03209</td><td>-1.8983e-22</td><td>-9.0914e-20</td><td>-0.014807</td><td>-0.027857</td></tr><tr><td>&quot;train_2&quot;</td><td>-0.075743</td><td>-0.917538</td><td>-0.436065</td><td>-0.514665</td><td>-0.460758</td><td>-0.253036</td><td>0.013458</td><td>0.312187</td><td>0.483888</td><td>0.42949</td><td>0.362534</td><td>0.342445</td><td>0.334645</td><td>0.280596</td><td>0.073189</td><td>-0.211412</td><td>-0.359809</td><td>-0.340061</td><td>-0.457635</td><td>-0.591748</td><td>-0.620726</td><td>-0.566238</td><td>-0.084989</td><td>0.342593</td><td>0.387695</td><td>0.408391</td><td>0.436265</td><td>0.444375</td><td>0.444522</td><td>0.445341</td><td>0.448547</td><td>0.444588</td><td>0.439797</td><td>0.431902</td><td>0.428106</td><td>0.41781</td><td>&hellip;</td><td>-2.258656</td><td>-0.794907</td><td>-1.788087</td><td>-0.810387</td><td>-0.985648</td><td>0.215979</td><td>-0.289047</td><td>-0.554387</td><td>0.903598</td><td>-0.741143</td><td>-0.494533</td><td>-0.763178</td><td>-0.294772</td><td>0.347683</td><td>0.884656</td><td>2.695192</td><td>4.653256</td><td>3.735176</td><td>4.185367</td><td>1.022708</td><td>-0.868588</td><td>-2.743905</td><td>-4.188164</td><td>-2.952371</td><td>-1.504519</td><td>-0.916448</td><td>-0.274234</td><td>0.12059</td><td>3.199785</td><td>-0.000043</td><td>0.405792</td><td>0.0</td><td>0.205251</td><td>-1.8983e-22</td><td>-9.0914e-20</td><td>-0.014807</td><td>-0.027857</td></tr><tr><td>&quot;train_3&quot;</td><td>0.053474</td><td>-0.443249</td><td>-0.499111</td><td>-0.04279</td><td>0.084678</td><td>0.332977</td><td>0.442237</td><td>0.587412</td><td>0.541855</td><td>0.416885</td><td>0.315567</td><td>0.387832</td><td>0.400363</td><td>0.326739</td><td>0.216598</td><td>0.003597</td><td>-0.206218</td><td>-0.272328</td><td>-0.396929</td><td>-0.541606</td><td>-0.598887</td><td>-0.520608</td><td>-0.023775</td><td>0.341206</td><td>0.37335</td><td>0.391169</td><td>0.401328</td><td>0.405103</td><td>0.399437</td><td>0.395528</td><td>0.390761</td><td>0.382936</td><td>0.381524</td><td>0.380181</td><td>0.377344</td><td>0.375472</td><td>&hellip;</td><td>-2.001763</td><td>-2.843454</td><td>-1.063903</td><td>-0.098755</td><td>-0.023872</td><td>-0.256815</td><td>0.474554</td><td>0.029473</td><td>-0.208089</td><td>0.274656</td><td>-0.291036</td><td>0.252878</td><td>0.967539</td><td>-0.052511</td><td>1.251532</td><td>2.171962</td><td>0.972242</td><td>-0.556759</td><td>-0.847973</td><td>-0.320371</td><td>0.772594</td><td>1.83957</td><td>-0.162223</td><td>-0.772935</td><td>-0.624252</td><td>-0.426623</td><td>-0.419742</td><td>-0.712891</td><td>0.531308</td><td>-0.000043</td><td>0.392044</td><td>0.0</td><td>1.197437</td><td>-1.8983e-22</td><td>-9.0914e-20</td><td>-0.014807</td><td>-0.027857</td></tr><tr><td>&quot;train_4&quot;</td><td>-0.221981</td><td>0.008135</td><td>-0.551199</td><td>0.021215</td><td>0.904113</td><td>1.343255</td><td>1.410967</td><td>1.184691</td><td>0.823702</td><td>0.746766</td><td>0.807354</td><td>0.918643</td><td>1.022179</td><td>0.99768</td><td>0.86403</td><td>0.629844</td><td>0.454075</td><td>0.391563</td><td>0.334767</td><td>0.329256</td><td>0.24892</td><td>0.297</td><td>-0.091014</td><td>-0.297156</td><td>-0.304798</td><td>-0.279858</td><td>-0.268052</td><td>-0.258748</td><td>-0.252503</td><td>-0.250804</td><td>-0.253299</td><td>-0.257846</td><td>-0.260325</td><td>-0.263391</td><td>-0.253031</td><td>-0.233477</td><td>&hellip;</td><td>-0.655832</td><td>-0.203317</td><td>0.120762</td><td>0.204348</td><td>-0.525639</td><td>-2.293022</td><td>1.736272</td><td>-0.098751</td><td>-0.071245</td><td>0.143234</td><td>-0.314777</td><td>0.256216</td><td>-0.038297</td><td>0.171387</td><td>-0.038391</td><td>0.24084</td><td>0.289778</td><td>0.44443</td><td>0.213341</td><td>-0.455211</td><td>-0.845176</td><td>-0.830775</td><td>1.010063</td><td>0.743965</td><td>-0.096915</td><td>-0.167361</td><td>-0.09549</td><td>0.129677</td><td>-0.325315</td><td>-0.000043</td><td>-0.335456</td><td>0.0</td><td>-0.187182</td><td>-1.8983e-22</td><td>-9.0914e-20</td><td>-0.014807</td><td>-0.027857</td></tr></tbody></table></div>"
      ],
      "text/plain": [
       "shape: (5, 925)\n",
       "┌───────────┬───────────┬───────────┬───────────┬───┬───────────┬───────────┬───────────┬──────────┐\n",
       "│ sample_id ┆ state_t_0 ┆ state_t_1 ┆ state_t_2 ┆ … ┆ cam_out_S ┆ cam_out_S ┆ cam_out_S ┆ cam_out_ │\n",
       "│ ---       ┆ ---       ┆ ---       ┆ ---       ┆   ┆ OLS       ┆ OLL       ┆ OLSD      ┆ SOLLD    │\n",
       "│ str       ┆ f64       ┆ f64       ┆ f64       ┆   ┆ ---       ┆ ---       ┆ ---       ┆ ---      │\n",
       "│           ┆           ┆           ┆           ┆   ┆ f64       ┆ f64       ┆ f64       ┆ f64      │\n",
       "╞═══════════╪═══════════╪═══════════╪═══════════╪═══╪═══════════╪═══════════╪═══════════╪══════════╡\n",
       "│ train_0   ┆ -0.713707 ┆ -0.752541 ┆ -1.055099 ┆ … ┆ -1.8983e- ┆ -9.0914e- ┆ -0.014807 ┆ -0.02785 │\n",
       "│           ┆           ┆           ┆           ┆   ┆ 22        ┆ 20        ┆           ┆ 7        │\n",
       "│ train_1   ┆ -0.835263 ┆ -0.42127  ┆ -1.00876  ┆ … ┆ -1.8983e- ┆ -9.0914e- ┆ -0.014807 ┆ -0.02785 │\n",
       "│           ┆           ┆           ┆           ┆   ┆ 22        ┆ 20        ┆           ┆ 7        │\n",
       "│ train_2   ┆ -0.075743 ┆ -0.917538 ┆ -0.436065 ┆ … ┆ -1.8983e- ┆ -9.0914e- ┆ -0.014807 ┆ -0.02785 │\n",
       "│           ┆           ┆           ┆           ┆   ┆ 22        ┆ 20        ┆           ┆ 7        │\n",
       "│ train_3   ┆ 0.053474  ┆ -0.443249 ┆ -0.499111 ┆ … ┆ -1.8983e- ┆ -9.0914e- ┆ -0.014807 ┆ -0.02785 │\n",
       "│           ┆           ┆           ┆           ┆   ┆ 22        ┆ 20        ┆           ┆ 7        │\n",
       "│ train_4   ┆ -0.221981 ┆ 0.008135  ┆ -0.551199 ┆ … ┆ -1.8983e- ┆ -9.0914e- ┆ -0.014807 ┆ -0.02785 │\n",
       "│           ┆           ┆           ┆           ┆   ┆ 22        ┆ 20        ┆           ┆ 7        │\n",
       "└───────────┴───────────┴───────────┴───────────┴───┴───────────┴───────────┴───────────┴──────────┘"
      ]
     },
     "execution_count": 99,
     "metadata": {},
     "output_type": "execute_result"
    }
   ],
   "source": [
    "df2.head()"
   ]
  },
  {
   "cell_type": "code",
   "execution_count": 100,
   "id": "f9c1b861-9474-4eb5-946c-5719c0dc8d4c",
   "metadata": {},
   "outputs": [
    {
     "data": {
      "text/html": [
       "<div><style>\n",
       ".dataframe > thead > tr,\n",
       ".dataframe > tbody > tr {\n",
       "  text-align: right;\n",
       "  white-space: pre-wrap;\n",
       "}\n",
       "</style>\n",
       "<small>shape: (5, 925)</small><table border=\"1\" class=\"dataframe\"><thead><tr><th>sample_id</th><th>state_t_0</th><th>state_t_1</th><th>state_t_2</th><th>state_t_3</th><th>state_t_4</th><th>state_t_5</th><th>state_t_6</th><th>state_t_7</th><th>state_t_8</th><th>state_t_9</th><th>state_t_10</th><th>state_t_11</th><th>state_t_12</th><th>state_t_13</th><th>state_t_14</th><th>state_t_15</th><th>state_t_16</th><th>state_t_17</th><th>state_t_18</th><th>state_t_19</th><th>state_t_20</th><th>state_t_21</th><th>state_t_22</th><th>state_t_23</th><th>state_t_24</th><th>state_t_25</th><th>state_t_26</th><th>state_t_27</th><th>state_t_28</th><th>state_t_29</th><th>state_t_30</th><th>state_t_31</th><th>state_t_32</th><th>state_t_33</th><th>state_t_34</th><th>state_t_35</th><th>&hellip;</th><th>ptend_v_31</th><th>ptend_v_32</th><th>ptend_v_33</th><th>ptend_v_34</th><th>ptend_v_35</th><th>ptend_v_36</th><th>ptend_v_37</th><th>ptend_v_38</th><th>ptend_v_39</th><th>ptend_v_40</th><th>ptend_v_41</th><th>ptend_v_42</th><th>ptend_v_43</th><th>ptend_v_44</th><th>ptend_v_45</th><th>ptend_v_46</th><th>ptend_v_47</th><th>ptend_v_48</th><th>ptend_v_49</th><th>ptend_v_50</th><th>ptend_v_51</th><th>ptend_v_52</th><th>ptend_v_53</th><th>ptend_v_54</th><th>ptend_v_55</th><th>ptend_v_56</th><th>ptend_v_57</th><th>ptend_v_58</th><th>ptend_v_59</th><th>cam_out_NETSW</th><th>cam_out_FLWDS</th><th>cam_out_PRECSC</th><th>cam_out_PRECC</th><th>cam_out_SOLS</th><th>cam_out_SOLL</th><th>cam_out_SOLSD</th><th>cam_out_SOLLD</th></tr><tr><td>str</td><td>f64</td><td>f64</td><td>f64</td><td>f64</td><td>f64</td><td>f64</td><td>f64</td><td>f64</td><td>f64</td><td>f64</td><td>f64</td><td>f64</td><td>f64</td><td>f64</td><td>f64</td><td>f64</td><td>f64</td><td>f64</td><td>f64</td><td>f64</td><td>f64</td><td>f64</td><td>f64</td><td>f64</td><td>f64</td><td>f64</td><td>f64</td><td>f64</td><td>f64</td><td>f64</td><td>f64</td><td>f64</td><td>f64</td><td>f64</td><td>f64</td><td>f64</td><td>&hellip;</td><td>f64</td><td>f64</td><td>f64</td><td>f64</td><td>f64</td><td>f64</td><td>f64</td><td>f64</td><td>f64</td><td>f64</td><td>f64</td><td>f64</td><td>f64</td><td>f64</td><td>f64</td><td>f64</td><td>f64</td><td>f64</td><td>f64</td><td>f64</td><td>f64</td><td>f64</td><td>f64</td><td>f64</td><td>f64</td><td>f64</td><td>f64</td><td>f64</td><td>f64</td><td>f64</td><td>f64</td><td>f64</td><td>f64</td><td>f64</td><td>f64</td><td>f64</td><td>f64</td></tr></thead><tbody><tr><td>&quot;train_0&quot;</td><td>213.806117</td><td>222.244454</td><td>229.259879</td><td>245.743959</td><td>258.337482</td><td>265.772467</td><td>263.978456</td><td>254.879872</td><td>243.946147</td><td>236.70699</td><td>230.934476</td><td>226.459626</td><td>222.014096</td><td>216.91297</td><td>210.688514</td><td>205.181518</td><td>201.649949</td><td>199.354256</td><td>196.582987</td><td>198.08732</td><td>200.30267</td><td>204.5107</td><td>209.294262</td><td>214.299322</td><td>219.180883</td><td>223.644692</td><td>227.899269</td><td>231.883467</td><td>235.859155</td><td>239.75449</td><td>243.663599</td><td>247.494148</td><td>251.145756</td><td>254.734832</td><td>258.118795</td><td>261.322883</td><td>&hellip;</td><td>0.077274</td><td>0.050239</td><td>0.003729</td><td>-0.010824</td><td>-0.014926</td><td>-0.021633</td><td>0.00233</td><td>0.021499</td><td>-0.002053</td><td>0.019015</td><td>-0.003287</td><td>-0.022154</td><td>-0.029056</td><td>0.002452</td><td>-0.073034</td><td>-0.156892</td><td>-0.047535</td><td>-0.382321</td><td>-0.357464</td><td>-1.05782</td><td>-0.368499</td><td>0.981896</td><td>0.725763</td><td>0.257836</td><td>0.099358</td><td>0.007303</td><td>-0.041045</td><td>-0.025254</td><td>0.040925</td><td>0.0</td><td>4.8528</td><td>0.0</td><td>0.000036</td><td>0.0</td><td>0.0</td><td>0.0</td><td>0.0</td></tr><tr><td>&quot;train_1&quot;</td><td>213.17743</td><td>225.851064</td><td>229.663618</td><td>246.828333</td><td>261.026415</td><td>269.078431</td><td>267.736565</td><td>256.896227</td><td>244.169421</td><td>236.844423</td><td>231.586369</td><td>227.873491</td><td>224.125186</td><td>219.864133</td><td>214.768666</td><td>209.773682</td><td>206.593758</td><td>205.144601</td><td>202.21968</td><td>203.165579</td><td>203.691769</td><td>206.691885</td><td>210.018967</td><td>213.651746</td><td>217.22671</td><td>220.732834</td><td>224.271241</td><td>227.879259</td><td>231.523113</td><td>235.206556</td><td>238.911192</td><td>242.569836</td><td>246.095623</td><td>249.661886</td><td>253.170195</td><td>256.545214</td><td>&hellip;</td><td>0.028818</td><td>-0.248265</td><td>0.067292</td><td>-0.067687</td><td>-0.069926</td><td>0.047825</td><td>0.019616</td><td>-0.042126</td><td>0.051219</td><td>0.026741</td><td>-0.017223</td><td>-0.132325</td><td>-0.002659</td><td>0.120503</td><td>-0.11757</td><td>-0.306287</td><td>-0.354408</td><td>-0.138098</td><td>-0.476167</td><td>-0.764134</td><td>-0.376146</td><td>0.677455</td><td>0.838971</td><td>0.430475</td><td>0.134241</td><td>0.025993</td><td>-0.031359</td><td>0.014665</td><td>0.02915</td><td>0.0</td><td>4.653445</td><td>0.0</td><td>0.03835</td><td>0.0</td><td>0.0</td><td>0.0</td><td>0.0</td></tr><tr><td>&quot;train_2&quot;</td><td>217.105685</td><td>220.448106</td><td>234.653398</td><td>244.422951</td><td>254.023818</td><td>259.651472</td><td>257.709514</td><td>251.064513</td><td>241.8796</td><td>234.487318</td><td>228.294373</td><td>223.660529</td><td>219.108751</td><td>214.820508</td><td>208.639566</td><td>201.055995</td><td>193.462408</td><td>190.267832</td><td>188.690119</td><td>189.957238</td><td>196.482059</td><td>203.461783</td><td>210.517854</td><td>217.264497</td><td>223.298206</td><td>228.871994</td><td>234.369621</td><td>239.208271</td><td>243.596733</td><td>247.688112</td><td>251.639426</td><td>255.233656</td><td>258.531051</td><td>261.569665</td><td>264.470169</td><td>267.068563</td><td>&hellip;</td><td>-0.235248</td><td>-0.08398</td><td>-0.191327</td><td>-0.086259</td><td>-0.099767</td><td>0.019407</td><td>-0.023919</td><td>-0.041256</td><td>0.063648</td><td>-0.054575</td><td>-0.038737</td><td>-0.06728</td><td>-0.030177</td><td>0.040633</td><td>0.11985</td><td>0.414091</td><td>0.795404</td><td>0.704266</td><td>0.872761</td><td>0.239491</td><td>-0.227583</td><td>-0.804225</td><td>-1.448928</td><td>-1.190546</td><td>-0.677759</td><td>-0.430936</td><td>-0.129996</td><td>0.06448</td><td>1.806126</td><td>0.0</td><td>5.576699</td><td>0.0</td><td>0.090722</td><td>0.0</td><td>0.0</td><td>0.0</td><td>0.0</td></tr><tr><td>&quot;train_3&quot;</td><td>217.773994</td><td>225.611775</td><td>234.104091</td><td>247.745365</td><td>257.411402</td><td>263.470947</td><td>261.131775</td><td>253.30325</td><td>242.316814</td><td>234.396266</td><td>227.95502</td><td>223.999858</td><td>219.658845</td><td>215.24492</td><td>210.214695</td><td>204.137721</td><td>196.509274</td><td>191.893671</td><td>189.929401</td><td>190.806367</td><td>196.69688</td><td>203.68075</td><td>210.684974</td><td>217.256992</td><td>223.168849</td><td>228.660408</td><td>233.845497</td><td>238.535216</td><td>242.74732</td><td>246.688901</td><td>250.429055</td><td>253.907015</td><td>257.260424</td><td>260.436627</td><td>263.363255</td><td>266.154815</td><td>&hellip;</td><td>-0.208491</td><td>-0.300406</td><td>-0.113838</td><td>-0.010512</td><td>-0.002416</td><td>-0.023076</td><td>0.039271</td><td>0.002193</td><td>-0.014658</td><td>0.020225</td><td>-0.022797</td><td>0.022293</td><td>0.099048</td><td>-0.006137</td><td>0.169554</td><td>0.333702</td><td>0.166173</td><td>-0.105038</td><td>-0.176849</td><td>-0.075022</td><td>0.202431</td><td>0.540401</td><td>-0.051315</td><td>-0.306277</td><td>-0.27705</td><td>-0.199926</td><td>-0.199002</td><td>-0.373422</td><td>0.297932</td><td>0.0</td><td>5.556165</td><td>0.0</td><td>0.309659</td><td>0.0</td><td>0.0</td><td>0.0</td><td>0.0</td></tr><tr><td>&quot;train_4&quot;</td><td>216.349337</td><td>230.526083</td><td>233.650252</td><td>248.196013</td><td>262.50073</td><td>270.055663</td><td>268.863606</td><td>258.161645</td><td>244.44262</td><td>236.779096</td><td>231.508378</td><td>227.968412</td><td>224.863747</td><td>221.415977</td><td>217.325766</td><td>213.113691</td><td>209.607872</td><td>207.829591</td><td>204.866553</td><td>205.55398</td><td>205.036638</td><td>207.604275</td><td>210.501407</td><td>213.802681</td><td>217.053629</td><td>220.416544</td><td>223.803482</td><td>227.157857</td><td>230.464429</td><td>233.723924</td><td>236.938842</td><td>240.118405</td><td>243.26515</td><td>246.338046</td><td>249.61741</td><td>253.012313</td><td>&hellip;</td><td>-0.068307</td><td>-0.02148</td><td>0.012922</td><td>0.021751</td><td>-0.053205</td><td>-0.206038</td><td>0.143681</td><td>-0.007349</td><td>-0.005018</td><td>0.010547</td><td>-0.024656</td><td>0.022587</td><td>-0.003921</td><td>0.02003</td><td>-0.005201</td><td>0.037001</td><td>0.049513</td><td>0.08375</td><td>0.044469</td><td>-0.106598</td><td>-0.221449</td><td>-0.242982</td><td>0.355647</td><td>0.309179</td><td>-0.036999</td><td>-0.077653</td><td>-0.045229</td><td>0.069254</td><td>-0.186223</td><td>0.0</td><td>4.469592</td><td>0.0</td><td>0.004127</td><td>0.0</td><td>0.0</td><td>0.0</td><td>0.0</td></tr></tbody></table></div>"
      ],
      "text/plain": [
       "shape: (5, 925)\n",
       "┌───────────┬───────────┬───────────┬───────────┬───┬───────────┬───────────┬───────────┬──────────┐\n",
       "│ sample_id ┆ state_t_0 ┆ state_t_1 ┆ state_t_2 ┆ … ┆ cam_out_S ┆ cam_out_S ┆ cam_out_S ┆ cam_out_ │\n",
       "│ ---       ┆ ---       ┆ ---       ┆ ---       ┆   ┆ OLS       ┆ OLL       ┆ OLSD      ┆ SOLLD    │\n",
       "│ str       ┆ f64       ┆ f64       ┆ f64       ┆   ┆ ---       ┆ ---       ┆ ---       ┆ ---      │\n",
       "│           ┆           ┆           ┆           ┆   ┆ f64       ┆ f64       ┆ f64       ┆ f64      │\n",
       "╞═══════════╪═══════════╪═══════════╪═══════════╪═══╪═══════════╪═══════════╪═══════════╪══════════╡\n",
       "│ train_0   ┆ 213.80611 ┆ 222.24445 ┆ 229.25987 ┆ … ┆ 0.0       ┆ 0.0       ┆ 0.0       ┆ 0.0      │\n",
       "│           ┆ 7         ┆ 4         ┆ 9         ┆   ┆           ┆           ┆           ┆          │\n",
       "│ train_1   ┆ 213.17743 ┆ 225.85106 ┆ 229.66361 ┆ … ┆ 0.0       ┆ 0.0       ┆ 0.0       ┆ 0.0      │\n",
       "│           ┆           ┆ 4         ┆ 8         ┆   ┆           ┆           ┆           ┆          │\n",
       "│ train_2   ┆ 217.10568 ┆ 220.44810 ┆ 234.65339 ┆ … ┆ 0.0       ┆ 0.0       ┆ 0.0       ┆ 0.0      │\n",
       "│           ┆ 5         ┆ 6         ┆ 8         ┆   ┆           ┆           ┆           ┆          │\n",
       "│ train_3   ┆ 217.77399 ┆ 225.61177 ┆ 234.10409 ┆ … ┆ 0.0       ┆ 0.0       ┆ 0.0       ┆ 0.0      │\n",
       "│           ┆ 4         ┆ 5         ┆ 1         ┆   ┆           ┆           ┆           ┆          │\n",
       "│ train_4   ┆ 216.34933 ┆ 230.52608 ┆ 233.65025 ┆ … ┆ 0.0       ┆ 0.0       ┆ 0.0       ┆ 0.0      │\n",
       "│           ┆ 7         ┆ 3         ┆ 2         ┆   ┆           ┆           ┆           ┆          │\n",
       "└───────────┴───────────┴───────────┴───────────┴───┴───────────┴───────────┴───────────┴──────────┘"
      ]
     },
     "execution_count": 100,
     "metadata": {},
     "output_type": "execute_result"
    }
   ],
   "source": [
    "df3.head()"
   ]
  },
  {
   "cell_type": "code",
   "execution_count": 23,
   "id": "31c6772d-0b84-4209-bae8-bbbbca0a360b",
   "metadata": {},
   "outputs": [],
   "source": [
    "# df[\"cam_out_SOLS\"].describe()"
   ]
  },
  {
   "cell_type": "code",
   "execution_count": 24,
   "id": "5d0bd451-6c50-4788-a5f3-727d9eeffebb",
   "metadata": {},
   "outputs": [],
   "source": [
    "# df.filter(pl.col(\"cam_out_SOLS\") > 0).sort(\"cam_out_SOLS\")#[0, \"cam_out_SOLS\"]"
   ]
  },
  {
   "cell_type": "code",
   "execution_count": 25,
   "id": "4cd923fe-5c14-4f2f-83f5-214fef34f255",
   "metadata": {},
   "outputs": [],
   "source": [
    "# df.filter(pl.col(\"sample_id\") == \"train_85360\")"
   ]
  },
  {
   "cell_type": "code",
   "execution_count": 49,
   "id": "1c5f2880-d444-413c-a256-8efb56fdd7aa",
   "metadata": {},
   "outputs": [],
   "source": [
    "data_dir = \"../../data/leap/\""
   ]
  },
  {
   "cell_type": "code",
   "execution_count": 52,
   "id": "efdc3a3e-0909-4655-910c-e1814cf62ff9",
   "metadata": {},
   "outputs": [
    {
     "data": {
      "text/html": [
       "<div><style>\n",
       ".dataframe > thead > tr,\n",
       ".dataframe > tbody > tr {\n",
       "  text-align: right;\n",
       "  white-space: pre-wrap;\n",
       "}\n",
       "</style>\n",
       "<small>shape: (1,)</small><table border=\"1\" class=\"dataframe\"><thead><tr><th>pbuf_CH4_10</th></tr><tr><td>f64</td></tr></thead><tbody><tr><td>4.8321e-7</td></tr></tbody></table></div>"
      ],
      "text/plain": [
       "shape: (1,)\n",
       "Series: 'pbuf_CH4_10' [f64]\n",
       "[\n",
       "\t4.8321e-7\n",
       "]"
      ]
     },
     "execution_count": 52,
     "metadata": {},
     "output_type": "execute_result"
    }
   ],
   "source": [
    "pl.read_parquet(Path(data_dir, \"x_mean.parquet\"))[\"pbuf_CH4_10\"]"
   ]
  },
  {
   "cell_type": "code",
   "execution_count": 122,
   "id": "63ab7bb5-11dd-4408-8212-1ae63f13a3bc",
   "metadata": {},
   "outputs": [
    {
     "data": {
      "text/html": [
       "<div><style>\n",
       ".dataframe > thead > tr,\n",
       ".dataframe > tbody > tr {\n",
       "  text-align: right;\n",
       "  white-space: pre-wrap;\n",
       "}\n",
       "</style>\n",
       "<small>shape: (1,)</small><table border=\"1\" class=\"dataframe\"><thead><tr><th>ptend_t_59</th></tr><tr><td>f64</td></tr></thead><tbody><tr><td>-0.856929</td></tr></tbody></table></div>"
      ],
      "text/plain": [
       "shape: (1,)\n",
       "Series: 'ptend_t_59' [f64]\n",
       "[\n",
       "\t-0.856929\n",
       "]"
      ]
     },
     "execution_count": 122,
     "metadata": {},
     "output_type": "execute_result"
    }
   ],
   "source": [
    "pl.read_parquet(Path(data_dir, \"y_mean.parquet\"))[\"ptend_t_59\"]"
   ]
  },
  {
   "cell_type": "code",
   "execution_count": null,
   "id": "8c008f26-a66b-434b-a042-53763891add1",
   "metadata": {},
   "outputs": [],
   "source": []
  },
  {
   "cell_type": "code",
   "execution_count": null,
   "id": "80568df1-d087-448b-8693-73210e45cc4b",
   "metadata": {},
   "outputs": [],
   "source": []
  }
 ],
 "metadata": {
  "kernelspec": {
   "display_name": "Python 3 (ipykernel)",
   "language": "python",
   "name": "python3"
  },
  "language_info": {
   "codemirror_mode": {
    "name": "ipython",
    "version": 3
   },
   "file_extension": ".py",
   "mimetype": "text/x-python",
   "name": "python",
   "nbconvert_exporter": "python",
   "pygments_lexer": "ipython3",
   "version": "3.9.16"
  }
 },
 "nbformat": 4,
 "nbformat_minor": 5
}
