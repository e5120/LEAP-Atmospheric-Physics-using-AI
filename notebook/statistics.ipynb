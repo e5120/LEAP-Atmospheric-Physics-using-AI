{
 "cells": [
  {
   "cell_type": "code",
   "execution_count": 1,
   "id": "9117caaf-22e8-4c3d-afa7-9f31552999db",
   "metadata": {},
   "outputs": [
    {
     "name": "stderr",
     "output_type": "stream",
     "text": [
      "/opt/mamba/lib/python3.10/site-packages/tqdm/auto.py:21: TqdmWarning: IProgress not found. Please update jupyter and ipywidgets. See https://ipywidgets.readthedocs.io/en/stable/user_install.html\n",
      "  from .autonotebook import tqdm as notebook_tqdm\n"
     ]
    }
   ],
   "source": [
    "from pathlib import Path\n",
    "\n",
    "import numpy as np\n",
    "import polars as pl\n",
    "from tqdm.auto import tqdm"
   ]
  },
  {
   "cell_type": "code",
   "execution_count": 2,
   "id": "5a56703e-9996-4725-b0bf-b6a4c5a5dbbf",
   "metadata": {},
   "outputs": [
    {
     "name": "stdout",
     "output_type": "stream",
     "text": [
      "# of train files: 100\n"
     ]
    }
   ],
   "source": [
    "data_dir = \"../data\"\n",
    "N_ROWS = 500000000\n",
    "files = list(Path(data_dir).glob(\"raw_train*\"))\n",
    "print(f\"# of train files: {len(files)}\")"
   ]
  },
  {
   "cell_type": "code",
   "execution_count": 3,
   "id": "6aaa8637-3de9-4eb0-b9b8-f152fbf7c224",
   "metadata": {},
   "outputs": [
    {
     "data": {
      "text/plain": [
       "(556, 368)"
      ]
     },
     "execution_count": 3,
     "metadata": {},
     "output_type": "execute_result"
    }
   ],
   "source": [
    "weight_df = pl.read_csv(Path(data_dir, \"sample_submission.csv\"), n_rows=1)\n",
    "label_cols = weight_df.columns[1:]\n",
    "tmp_df = pl.read_csv(Path(data_dir, \"train.csv\"), n_rows=1)\n",
    "feat_cols = tmp_df.select(pl.exclude(label_cols)).columns[1:]\n",
    "len(feat_cols), len(label_cols)"
   ]
  },
  {
   "cell_type": "code",
   "execution_count": 4,
   "id": "922482e9-3a7c-4a2a-8d56-8145786a66f8",
   "metadata": {},
   "outputs": [
    {
     "name": "stderr",
     "output_type": "stream",
     "text": [
      "100% 12/12 [09:40<00:00, 48.41s/it]\n",
      "100% 8/8 [06:00<00:00, 45.08s/it]\n"
     ]
    }
   ],
   "source": [
    "def calculate_statistics(cols, files, chunk_size=50):\n",
    "    stats = []\n",
    "    gs = (len(cols) - 1) // chunk_size + 1\n",
    "    for i in tqdm(range(gs)):\n",
    "        start = i * chunk_size\n",
    "        end = (i + 1) * chunk_size\n",
    "        sub_cols = cols[start: end]\n",
    "        dfs = []\n",
    "        num_data = 0\n",
    "        for filename in files:\n",
    "            dfs.append(pl.read_parquet(filename, columns=sub_cols))\n",
    "            num_data += len(dfs[-1])\n",
    "            if num_data > N_ROWS:\n",
    "                break\n",
    "        df = pl.concat(dfs)\n",
    "        for col in sub_cols:\n",
    "            m = df.filter(pl.col(col) > 1e-7)[col].mean()\n",
    "            m = m if m is not None else 1e-50\n",
    "            lambda_val = 1 / m\n",
    "            stats.append({\n",
    "                \"mean\": df[col].mean(),\n",
    "                \"std\": df[col].std(),\n",
    "                \"q1_4\": df[col].quantile(0.25),\n",
    "                \"q2_4\": df[col].quantile(0.5),\n",
    "                \"q3_4\": df[col].quantile(0.75),\n",
    "                \"min\": df[col].min(),\n",
    "                \"max\": df[col].max(),\n",
    "                \"lambda\": lambda_val,\n",
    "                \"std_y\": np.sqrt((df[col]**2).mean()),\n",
    "            })\n",
    "    stats_df = (\n",
    "        pl.from_dicts(stats)\n",
    "        .transpose(include_header=True, header_name=\"stats\", column_names=cols)\n",
    "    )\n",
    "    return stats_df\n",
    "\n",
    "\n",
    "feat_stats_df = calculate_statistics(feat_cols, files)\n",
    "label_stats_df = calculate_statistics(label_cols, files)"
   ]
  },
  {
   "cell_type": "code",
   "execution_count": 5,
   "id": "6fefeff2-07ca-465f-90a5-28470ff37421",
   "metadata": {},
   "outputs": [
    {
     "data": {
      "text/plain": [
       "((9, 557), (9, 369))"
      ]
     },
     "execution_count": 5,
     "metadata": {},
     "output_type": "execute_result"
    }
   ],
   "source": [
    "feat_stats_df.shape, label_stats_df.shape"
   ]
  },
  {
   "cell_type": "code",
   "execution_count": 6,
   "id": "99dc3b94-b334-49c7-bace-3e2b29c26489",
   "metadata": {},
   "outputs": [
    {
     "data": {
      "text/html": [
       "<div><style>\n",
       ".dataframe > thead > tr,\n",
       ".dataframe > tbody > tr {\n",
       "  text-align: right;\n",
       "  white-space: pre-wrap;\n",
       "}\n",
       "</style>\n",
       "<small>shape: (9, 925)</small><table border=\"1\" class=\"dataframe\"><thead><tr><th>stats</th><th>state_t_0</th><th>state_t_1</th><th>state_t_2</th><th>state_t_3</th><th>state_t_4</th><th>state_t_5</th><th>state_t_6</th><th>state_t_7</th><th>state_t_8</th><th>state_t_9</th><th>state_t_10</th><th>state_t_11</th><th>state_t_12</th><th>state_t_13</th><th>state_t_14</th><th>state_t_15</th><th>state_t_16</th><th>state_t_17</th><th>state_t_18</th><th>state_t_19</th><th>state_t_20</th><th>state_t_21</th><th>state_t_22</th><th>state_t_23</th><th>state_t_24</th><th>state_t_25</th><th>state_t_26</th><th>state_t_27</th><th>state_t_28</th><th>state_t_29</th><th>state_t_30</th><th>state_t_31</th><th>state_t_32</th><th>state_t_33</th><th>state_t_34</th><th>state_t_35</th><th>&hellip;</th><th>ptend_v_31</th><th>ptend_v_32</th><th>ptend_v_33</th><th>ptend_v_34</th><th>ptend_v_35</th><th>ptend_v_36</th><th>ptend_v_37</th><th>ptend_v_38</th><th>ptend_v_39</th><th>ptend_v_40</th><th>ptend_v_41</th><th>ptend_v_42</th><th>ptend_v_43</th><th>ptend_v_44</th><th>ptend_v_45</th><th>ptend_v_46</th><th>ptend_v_47</th><th>ptend_v_48</th><th>ptend_v_49</th><th>ptend_v_50</th><th>ptend_v_51</th><th>ptend_v_52</th><th>ptend_v_53</th><th>ptend_v_54</th><th>ptend_v_55</th><th>ptend_v_56</th><th>ptend_v_57</th><th>ptend_v_58</th><th>ptend_v_59</th><th>cam_out_NETSW</th><th>cam_out_FLWDS</th><th>cam_out_PRECSC</th><th>cam_out_PRECC</th><th>cam_out_SOLS</th><th>cam_out_SOLL</th><th>cam_out_SOLSD</th><th>cam_out_SOLLD</th></tr><tr><td>str</td><td>f64</td><td>f64</td><td>f64</td><td>f64</td><td>f64</td><td>f64</td><td>f64</td><td>f64</td><td>f64</td><td>f64</td><td>f64</td><td>f64</td><td>f64</td><td>f64</td><td>f64</td><td>f64</td><td>f64</td><td>f64</td><td>f64</td><td>f64</td><td>f64</td><td>f64</td><td>f64</td><td>f64</td><td>f64</td><td>f64</td><td>f64</td><td>f64</td><td>f64</td><td>f64</td><td>f64</td><td>f64</td><td>f64</td><td>f64</td><td>f64</td><td>f64</td><td>&hellip;</td><td>f64</td><td>f64</td><td>f64</td><td>f64</td><td>f64</td><td>f64</td><td>f64</td><td>f64</td><td>f64</td><td>f64</td><td>f64</td><td>f64</td><td>f64</td><td>f64</td><td>f64</td><td>f64</td><td>f64</td><td>f64</td><td>f64</td><td>f64</td><td>f64</td><td>f64</td><td>f64</td><td>f64</td><td>f64</td><td>f64</td><td>f64</td><td>f64</td><td>f64</td><td>f64</td><td>f64</td><td>f64</td><td>f64</td><td>f64</td><td>f64</td><td>f64</td><td>f64</td></tr></thead><tbody><tr><td>&quot;mean&quot;</td><td>215.612015</td><td>227.878262</td><td>237.309279</td><td>247.912285</td><td>256.227916</td><td>259.451296</td><td>255.271369</td><td>246.698109</td><td>236.980836</td><td>230.274286</td><td>225.054863</td><td>220.928353</td><td>217.108561</td><td>213.894105</td><td>210.537094</td><td>207.052169</td><td>202.847109</td><td>200.041338</td><td>199.271441</td><td>201.226921</td><td>203.712135</td><td>206.900332</td><td>210.434994</td><td>214.236472</td><td>218.053071</td><td>221.900889</td><td>225.667783</td><td>229.347179</td><td>232.912757</td><td>236.379712</td><td>239.742185</td><td>243.019442</td><td>246.204743</td><td>249.292946</td><td>252.269269</td><td>255.123318</td><td>&hellip;</td><td>-2.8680e-9</td><td>2.0688e-8</td><td>3.4469e-8</td><td>3.1557e-8</td><td>7.1815e-9</td><td>-6.3038e-8</td><td>-1.5727e-7</td><td>-2.4531e-7</td><td>-3.0017e-7</td><td>-3.0094e-7</td><td>-2.2172e-7</td><td>-7.6118e-8</td><td>1.1783e-7</td><td>3.2319e-7</td><td>4.9466e-7</td><td>6.1731e-7</td><td>6.3501e-7</td><td>5.3735e-7</td><td>3.3996e-7</td><td>8.3744e-8</td><td>-2.3336e-7</td><td>-6.8066e-7</td><td>-0.000001</td><td>-0.000001</td><td>-0.000001</td><td>-5.3330e-7</td><td>6.2734e-7</td><td>0.000001</td><td>6.5831e-7</td><td>158.311244</td><td>351.273302</td><td>2.7343e-9</td><td>2.9194e-8</td><td>61.803931</td><td>67.324685</td><td>33.451249</td><td>17.676368</td></tr><tr><td>&quot;std&quot;</td><td>6.654266</td><td>8.653689</td><td>8.248617</td><td>6.786184</td><td>6.242818</td><td>8.249606</td><td>10.157319</td><td>10.112921</td><td>9.218096</td><td>8.81164</td><td>8.137254</td><td>7.43026</td><td>6.723265</td><td>6.321632</td><td>6.513009</td><td>7.6074</td><td>9.966565</td><td>11.792149</td><td>10.03546</td><td>8.244552</td><td>5.475349</td><td>4.073948</td><td>4.320332</td><td>5.478911</td><td>6.961327</td><td>8.309486</td><td>9.521203</td><td>10.517859</td><td>11.344936</td><td>12.00057</td><td>12.514359</td><td>12.893314</td><td>13.160995</td><td>13.32794</td><td>13.405421</td><td>13.407873</td><td>&hellip;</td><td>0.000008</td><td>0.000008</td><td>0.000007</td><td>0.000007</td><td>0.000007</td><td>0.000007</td><td>0.000008</td><td>0.000009</td><td>0.000009</td><td>0.00001</td><td>0.000011</td><td>0.000011</td><td>0.000012</td><td>0.000013</td><td>0.000014</td><td>0.000015</td><td>0.000016</td><td>0.000017</td><td>0.000018</td><td>0.00002</td><td>0.000022</td><td>0.000025</td><td>0.000028</td><td>0.000029</td><td>0.00003</td><td>0.000029</td><td>0.000028</td><td>0.000024</td><td>0.000034</td><td>246.661342</td><td>71.979277</td><td>7.3900e-9</td><td>8.1856e-8</td><td>110.255081</td><td>116.424189</td><td>46.397329</td><td>29.70672</td></tr><tr><td>&quot;q1_4&quot;</td><td>211.795845</td><td>222.243162</td><td>231.759324</td><td>243.668977</td><td>252.799997</td><td>256.235228</td><td>251.635947</td><td>243.449935</td><td>234.437349</td><td>228.097416</td><td>223.197921</td><td>219.205218</td><td>215.187527</td><td>211.551624</td><td>207.162932</td><td>201.871982</td><td>194.857171</td><td>189.825833</td><td>190.678675</td><td>194.104774</td><td>199.497332</td><td>204.247093</td><td>208.499765</td><td>211.28707</td><td>213.509142</td><td>215.931538</td><td>218.53578</td><td>221.356252</td><td>224.305857</td><td>227.357786</td><td>230.46927</td><td>233.648802</td><td>236.847711</td><td>240.04982</td><td>243.221606</td><td>246.322576</td><td>&hellip;</td><td>-5.5398e-7</td><td>-5.2138e-7</td><td>-4.9227e-7</td><td>-4.6982e-7</td><td>-4.4817e-7</td><td>-4.3488e-7</td><td>-4.3559e-7</td><td>-4.4466e-7</td><td>-4.6692e-7</td><td>-5.0584e-7</td><td>-5.6217e-7</td><td>-6.3387e-7</td><td>-7.3155e-7</td><td>-8.5510e-7</td><td>-0.000001</td><td>-0.000001</td><td>-0.000001</td><td>-0.000002</td><td>-0.000002</td><td>-0.000003</td><td>-0.000003</td><td>-0.000004</td><td>-0.000005</td><td>-0.000006</td><td>-0.000007</td><td>-0.000008</td><td>-0.000007</td><td>-0.000006</td><td>-0.000009</td><td>0.0</td><td>311.199335</td><td>0.0</td><td>0.0</td><td>0.0</td><td>0.0</td><td>0.0</td><td>0.0</td></tr><tr><td>&quot;q2_4&quot;</td><td>215.558519</td><td>228.043463</td><td>236.547149</td><td>247.060054</td><td>255.854526</td><td>260.29541</td><td>257.143055</td><td>248.743841</td><td>239.033878</td><td>232.473792</td><td>227.008668</td><td>222.471784</td><td>217.942912</td><td>213.953813</td><td>209.621341</td><td>205.616373</td><td>201.811222</td><td>199.379132</td><td>198.640697</td><td>200.417245</td><td>203.053164</td><td>206.646559</td><td>210.628659</td><td>215.049439</td><td>219.470938</td><td>223.699178</td><td>227.787865</td><td>231.76676</td><td>235.647794</td><td>239.425994</td><td>243.096914</td><td>246.65641</td><td>250.090561</td><td>253.374147</td><td>256.474984</td><td>259.427914</td><td>&hellip;</td><td>1.6653e-18</td><td>4.4409e-18</td><td>5.1810e-18</td><td>4.8110e-18</td><td>2.9606e-18</td><td>1.1102e-18</td><td>-2.3130e-18</td><td>-8.1416e-18</td><td>-1.2212e-17</td><td>-1.1842e-17</td><td>-3.7007e-18</td><td>3.7007e-19</td><td>5.9212e-18</td><td>5.9614e-16</td><td>1.5969e-14</td><td>2.1081e-13</td><td>4.4083e-13</td><td>1.6354e-13</td><td>8.4976e-14</td><td>4.3469e-15</td><td>5.4956e-17</td><td>-1.3878e-17</td><td>-3.6602e-15</td><td>-6.1598e-12</td><td>-5.9597e-10</td><td>-1.2688e-8</td><td>-6.2603e-10</td><td>5.2620e-11</td><td>2.4090e-7</td><td>0.016224</td><td>363.88266</td><td>0.0</td><td>3.4721e-9</td><td>4.9415e-18</td><td>1.3405e-15</td><td>0.890961</td><td>0.735684</td></tr><tr><td>&quot;q3_4&quot;</td><td>219.287002</td><td>233.795692</td><td>242.07833</td><td>251.166304</td><td>259.263806</td><td>263.889139</td><td>261.154271</td><td>252.387389</td><td>242.001918</td><td>235.063319</td><td>229.312532</td><td>224.574035</td><td>220.025695</td><td>216.310257</td><td>213.453864</td><td>211.56516</td><td>210.132128</td><td>209.441833</td><td>206.956568</td><td>207.596944</td><td>207.551485</td><td>209.507191</td><td>212.932085</td><td>217.680374</td><td>222.951198</td><td>228.15249</td><td>233.138784</td><td>237.828987</td><td>242.221519</td><td>246.335236</td><td>250.199286</td><td>253.830744</td><td>257.231715</td><td>260.441533</td><td>263.444719</td><td>266.252868</td><td>&hellip;</td><td>5.2116e-7</td><td>5.0744e-7</td><td>4.8461e-7</td><td>4.5758e-7</td><td>4.3468e-7</td><td>4.1226e-7</td><td>3.9850e-7</td><td>4.0108e-7</td><td>4.2253e-7</td><td>4.6338e-7</td><td>5.3128e-7</td><td>6.3460e-7</td><td>7.7652e-7</td><td>9.7377e-7</td><td>0.000001</td><td>0.000002</td><td>0.000002</td><td>0.000002</td><td>0.000002</td><td>0.000003</td><td>0.000003</td><td>0.000004</td><td>0.000004</td><td>0.000005</td><td>0.000006</td><td>0.000007</td><td>0.000007</td><td>0.000008</td><td>0.000012</td><td>247.601915</td><td>409.656305</td><td>3.3229e-10</td><td>1.9853e-8</td><td>77.337254</td><td>91.911309</td><td>57.72635</td><td>24.646142</td></tr><tr><td>&quot;min&quot;</td><td>142.895886</td><td>139.066952</td><td>168.246148</td><td>203.463584</td><td>210.054672</td><td>203.917759</td><td>196.501913</td><td>188.514183</td><td>181.753242</td><td>177.027108</td><td>174.911598</td><td>174.306802</td><td>173.959746</td><td>174.677959</td><td>175.853027</td><td>177.496814</td><td>168.125578</td><td>168.136816</td><td>175.502996</td><td>182.705558</td><td>184.31821</td><td>185.494009</td><td>186.734346</td><td>188.217112</td><td>189.4428</td><td>191.103577</td><td>192.623814</td><td>194.461734</td><td>195.771591</td><td>197.105422</td><td>197.228953</td><td>199.455183</td><td>201.346508</td><td>202.799973</td><td>204.643092</td><td>206.046347</td><td>&hellip;</td><td>-0.000666</td><td>-0.00048</td><td>-0.000454</td><td>-0.000623</td><td>-0.000574</td><td>-0.000645</td><td>-0.000565</td><td>-0.000522</td><td>-0.000551</td><td>-0.000554</td><td>-0.000539</td><td>-0.000619</td><td>-0.000504</td><td>-0.000572</td><td>-0.000558</td><td>-0.000435</td><td>-0.000453</td><td>-0.000457</td><td>-0.000512</td><td>-0.000545</td><td>-0.000751</td><td>-0.000943</td><td>-0.00111</td><td>-0.001148</td><td>-0.00068</td><td>-0.000568</td><td>-0.000486</td><td>-0.000551</td><td>-0.000771</td><td>0.0</td><td>57.217559</td><td>0.0</td><td>0.0</td><td>0.0</td><td>0.0</td><td>0.0</td><td>0.0</td></tr><tr><td>&quot;max&quot;</td><td>427.707429</td><td>313.808117</td><td>292.269848</td><td>310.633125</td><td>309.992211</td><td>298.913839</td><td>291.821315</td><td>288.738876</td><td>273.351677</td><td>266.611876</td><td>259.086748</td><td>251.285942</td><td>244.165575</td><td>239.915048</td><td>236.040182</td><td>234.870412</td><td>233.052619</td><td>233.088381</td><td>230.410183</td><td>229.080932</td><td>227.625933</td><td>226.132173</td><td>229.046415</td><td>231.763924</td><td>237.234112</td><td>241.730175</td><td>247.452713</td><td>252.747082</td><td>255.713055</td><td>259.626455</td><td>263.605989</td><td>266.503223</td><td>270.11649</td><td>273.81052</td><td>277.026922</td><td>279.045703</td><td>&hellip;</td><td>0.000723</td><td>0.000526</td><td>0.000431</td><td>0.000438</td><td>0.000429</td><td>0.000559</td><td>0.000528</td><td>0.000531</td><td>0.000479</td><td>0.000437</td><td>0.000519</td><td>0.000613</td><td>0.000631</td><td>0.000755</td><td>0.000557</td><td>0.000746</td><td>0.000629</td><td>0.000672</td><td>0.000759</td><td>0.000664</td><td>0.000759</td><td>0.000495</td><td>0.000667</td><td>0.000607</td><td>0.000614</td><td>0.000578</td><td>0.000486</td><td>0.000502</td><td>0.000731</td><td>1106.681756</td><td>528.098066</td><td>2.9351e-7</td><td>0.000002</td><td>518.902766</td><td>575.257308</td><td>425.175775</td><td>271.069632</td></tr><tr><td>&quot;lambda&quot;</td><td>0.004638</td><td>0.004388</td><td>0.004214</td><td>0.004034</td><td>0.003903</td><td>0.003854</td><td>0.003917</td><td>0.004054</td><td>0.00422</td><td>0.004343</td><td>0.004443</td><td>0.004526</td><td>0.004606</td><td>0.004675</td><td>0.00475</td><td>0.00483</td><td>0.00493</td><td>0.004999</td><td>0.005018</td><td>0.00497</td><td>0.004909</td><td>0.004833</td><td>0.004752</td><td>0.004668</td><td>0.004586</td><td>0.004507</td><td>0.004431</td><td>0.00436</td><td>0.004293</td><td>0.00423</td><td>0.004171</td><td>0.004115</td><td>0.004062</td><td>0.004011</td><td>0.003964</td><td>0.00392</td><td>&hellip;</td><td>253567.14686</td><td>270095.982533</td><td>285395.839227</td><td>298594.249955</td><td>308016.870304</td><td>313925.365697</td><td>312038.447775</td><td>301743.890388</td><td>285239.88992</td><td>262553.756033</td><td>233856.871288</td><td>205428.505703</td><td>179065.358406</td><td>156572.340253</td><td>138147.423086</td><td>123897.372151</td><td>113937.42772</td><td>106547.136689</td><td>100244.65864</td><td>93433.200825</td><td>85890.184672</td><td>77612.698486</td><td>69987.88213</td><td>63609.390158</td><td>59110.291081</td><td>56469.007977</td><td>56956.200814</td><td>61523.05607</td><td>50151.003141</td><td>0.003166</td><td>0.002847</td><td>8.3568e6</td><td>3.8035e6</td><td>0.007911</td><td>0.007292</td><td>0.015347</td><td>0.029044</td></tr><tr><td>&quot;std_y&quot;</td><td>215.714673</td><td>228.042515</td><td>237.452592</td><td>248.005148</td><td>256.303956</td><td>259.582416</td><td>255.473371</td><td>246.905302</td><td>237.160051</td><td>230.442817</td><td>225.201924</td><td>221.053264</td><td>217.212637</td><td>213.987502</td><td>210.63781</td><td>207.191875</td><td>203.091807</td><td>200.388601</td><td>199.523978</td><td>201.395745</td><td>203.785705</td><td>206.940437</td><td>210.479338</td><td>214.30652</td><td>218.164163</td><td>222.056416</td><td>225.868549</td><td>229.588227</td><td>233.188894</td><td>236.68414</td><td>240.068583</td><td>243.361227</td><td>246.556256</td><td>249.648968</td><td>252.625196</td><td>255.475397</td><td>&hellip;</td><td>0.000008</td><td>0.000008</td><td>0.000007</td><td>0.000007</td><td>0.000007</td><td>0.000007</td><td>0.000008</td><td>0.000009</td><td>0.000009</td><td>0.00001</td><td>0.000011</td><td>0.000011</td><td>0.000012</td><td>0.000013</td><td>0.000014</td><td>0.000015</td><td>0.000016</td><td>0.000017</td><td>0.000018</td><td>0.00002</td><td>0.000022</td><td>0.000025</td><td>0.000028</td><td>0.000029</td><td>0.00003</td><td>0.000029</td><td>0.000028</td><td>0.000024</td><td>0.000034</td><td>293.094288</td><td>358.572096</td><td>7.8796e-9</td><td>8.6907e-8</td><td>126.395836</td><td>134.488675</td><td>57.198759</td><td>34.567949</td></tr></tbody></table></div>"
      ],
      "text/plain": [
       "shape: (9, 925)\n",
       "┌────────┬────────────┬────────────┬───────────┬───┬───────────┬───────────┬───────────┬───────────┐\n",
       "│ stats  ┆ state_t_0  ┆ state_t_1  ┆ state_t_2 ┆ … ┆ cam_out_S ┆ cam_out_S ┆ cam_out_S ┆ cam_out_S │\n",
       "│ ---    ┆ ---        ┆ ---        ┆ ---       ┆   ┆ OLS       ┆ OLL       ┆ OLSD      ┆ OLLD      │\n",
       "│ str    ┆ f64        ┆ f64        ┆ f64       ┆   ┆ ---       ┆ ---       ┆ ---       ┆ ---       │\n",
       "│        ┆            ┆            ┆           ┆   ┆ f64       ┆ f64       ┆ f64       ┆ f64       │\n",
       "╞════════╪════════════╪════════════╪═══════════╪═══╪═══════════╪═══════════╪═══════════╪═══════════╡\n",
       "│ mean   ┆ 215.612015 ┆ 227.878262 ┆ 237.30927 ┆ … ┆ 61.803931 ┆ 67.324685 ┆ 33.451249 ┆ 17.676368 │\n",
       "│        ┆            ┆            ┆ 9         ┆   ┆           ┆           ┆           ┆           │\n",
       "│ std    ┆ 6.654266   ┆ 8.653689   ┆ 8.248617  ┆ … ┆ 110.25508 ┆ 116.42418 ┆ 46.397329 ┆ 29.70672  │\n",
       "│        ┆            ┆            ┆           ┆   ┆ 1         ┆ 9         ┆           ┆           │\n",
       "│ q1_4   ┆ 211.795845 ┆ 222.243162 ┆ 231.75932 ┆ … ┆ 0.0       ┆ 0.0       ┆ 0.0       ┆ 0.0       │\n",
       "│        ┆            ┆            ┆ 4         ┆   ┆           ┆           ┆           ┆           │\n",
       "│ q2_4   ┆ 215.558519 ┆ 228.043463 ┆ 236.54714 ┆ … ┆ 4.9415e-1 ┆ 1.3405e-1 ┆ 0.890961  ┆ 0.735684  │\n",
       "│        ┆            ┆            ┆ 9         ┆   ┆ 8         ┆ 5         ┆           ┆           │\n",
       "│ q3_4   ┆ 219.287002 ┆ 233.795692 ┆ 242.07833 ┆ … ┆ 77.337254 ┆ 91.911309 ┆ 57.72635  ┆ 24.646142 │\n",
       "│ min    ┆ 142.895886 ┆ 139.066952 ┆ 168.24614 ┆ … ┆ 0.0       ┆ 0.0       ┆ 0.0       ┆ 0.0       │\n",
       "│        ┆            ┆            ┆ 8         ┆   ┆           ┆           ┆           ┆           │\n",
       "│ max    ┆ 427.707429 ┆ 313.808117 ┆ 292.26984 ┆ … ┆ 518.90276 ┆ 575.25730 ┆ 425.17577 ┆ 271.06963 │\n",
       "│        ┆            ┆            ┆ 8         ┆   ┆ 6         ┆ 8         ┆ 5         ┆ 2         │\n",
       "│ lambda ┆ 0.004638   ┆ 0.004388   ┆ 0.004214  ┆ … ┆ 0.007911  ┆ 0.007292  ┆ 0.015347  ┆ 0.029044  │\n",
       "│ std_y  ┆ 215.714673 ┆ 228.042515 ┆ 237.45259 ┆ … ┆ 126.39583 ┆ 134.48867 ┆ 57.198759 ┆ 34.567949 │\n",
       "│        ┆            ┆            ┆ 2         ┆   ┆ 6         ┆ 5         ┆           ┆           │\n",
       "└────────┴────────────┴────────────┴───────────┴───┴───────────┴───────────┴───────────┴───────────┘"
      ]
     },
     "execution_count": 6,
     "metadata": {},
     "output_type": "execute_result"
    }
   ],
   "source": [
    "stats_df = pl.concat([feat_stats_df, label_stats_df[:,1:]], how=\"horizontal\")\n",
    "stats_df"
   ]
  },
  {
   "cell_type": "code",
   "execution_count": 7,
   "id": "90b3da56-4a75-40d3-9d93-cb2f4270f639",
   "metadata": {},
   "outputs": [],
   "source": [
    "feat_stats_df.write_parquet(Path(data_dir, \"feat_stats.parquet\"))\n",
    "label_stats_df.write_parquet(Path(data_dir, \"label_stats.parquet\"))\n",
    "stats_df.write_parquet(Path(data_dir, \"stats.parquet\"))"
   ]
  },
  {
   "cell_type": "code",
   "execution_count": null,
   "id": "6e95bac5-1758-48df-8b00-d7a4c287ce16",
   "metadata": {},
   "outputs": [],
   "source": []
  }
 ],
 "metadata": {
  "kernelspec": {
   "display_name": "Python 3 (ipykernel)",
   "language": "python",
   "name": "python3"
  },
  "language_info": {
   "codemirror_mode": {
    "name": "ipython",
    "version": 3
   },
   "file_extension": ".py",
   "mimetype": "text/x-python",
   "name": "python",
   "nbconvert_exporter": "python",
   "pygments_lexer": "ipython3",
   "version": "3.10.14"
  }
 },
 "nbformat": 4,
 "nbformat_minor": 5
}
